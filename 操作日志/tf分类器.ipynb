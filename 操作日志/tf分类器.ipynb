{
 "cells": [
  {
   "cell_type": "code",
   "execution_count": 1,
   "metadata": {},
   "outputs": [],
   "source": [
    "import tensorflow as tf\n",
    "from tensorflow import keras\n",
    "import numpy as np"
   ]
  },
  {
   "cell_type": "code",
   "execution_count": 2,
   "metadata": {},
   "outputs": [],
   "source": [
    "def load_data(file_path):\n",
    "    data=[]\n",
    "    label=[]\n",
    "    with open(file_path,\"r\") as data_file:\n",
    "        raw_data=data_file.readlines()\n",
    "        for raw_line in raw_data:\n",
    "            sample=raw_line[:-1]\n",
    "            sample=sample.split(\",\")\n",
    "            label.append(sample[-1])\n",
    "            sample=np.array([float(feature) for feature in sample[:-1]])\n",
    "            sample[-3]/=10\n",
    "            sample[-2]/=100\n",
    "            sample[-1]/=1000\n",
    "            data.append(sample)\n",
    "    return np.array(data),np.array(label)\n",
    "train_data,train_label=load_data(\"./train.data\")\n",
    "test_data,test_label=load_data(\"./test.data\")\n",
    "#定义一个读取文件函数"
   ]
  },
  {
   "cell_type": "code",
   "execution_count": 3,
   "metadata": {},
   "outputs": [],
   "source": [
    "from tensorflow.keras import layers\n",
    "model = tf.keras.Sequential([\n",
    "layers.Dense(57, activation='softmax'),\n",
    "layers.Dense(1, activation='relu')])"
   ]
  },
  {
   "cell_type": "markdown",
   "metadata": {},
   "source": [
    "记得吴恩达在介绍监督学习的时候提到过relu函数"
   ]
  },
  {
   "cell_type": "code",
   "execution_count": 4,
   "metadata": {},
   "outputs": [],
   "source": [
    "model.compile(optimizer=tf.train.AdamOptimizer(),\n",
    "              loss='binary_crossentropy',\n",
    "              metrics=['accuracy'])"
   ]
  },
  {
   "cell_type": "code",
   "execution_count": 5,
   "metadata": {},
   "outputs": [
    {
     "name": "stdout",
     "output_type": "stream",
     "text": [
      "Train on 3224 samples, validate on 1377 samples\n",
      "Epoch 1/40\n",
      "3224/3224 [==============================] - 0s 98us/step - loss: 1.0309 - acc: 0.6061 - val_loss: 0.8637 - val_acc: 0.6057\n",
      "Epoch 2/40\n",
      "3224/3224 [==============================] - 0s 16us/step - loss: 0.8082 - acc: 0.6061 - val_loss: 0.7403 - val_acc: 0.6057\n",
      "Epoch 3/40\n",
      "3224/3224 [==============================] - 0s 16us/step - loss: 0.7114 - acc: 0.6061 - val_loss: 0.6634 - val_acc: 0.6057\n",
      "Epoch 4/40\n",
      "3224/3224 [==============================] - 0s 17us/step - loss: 0.6456 - acc: 0.6061 - val_loss: 0.6078 - val_acc: 0.6057\n",
      "Epoch 5/40\n",
      "3224/3224 [==============================] - 0s 19us/step - loss: 0.5957 - acc: 0.6061 - val_loss: 0.5625 - val_acc: 0.6057\n",
      "Epoch 6/40\n",
      "3224/3224 [==============================] - 0s 16us/step - loss: 0.5550 - acc: 0.6061 - val_loss: 0.5253 - val_acc: 0.6064\n",
      "Epoch 7/40\n",
      "3224/3224 [==============================] - 0s 17us/step - loss: 0.5205 - acc: 0.6182 - val_loss: 0.4926 - val_acc: 0.6267\n",
      "Epoch 8/40\n",
      "3224/3224 [==============================] - 0s 16us/step - loss: 0.4905 - acc: 0.6467 - val_loss: 0.4632 - val_acc: 0.6848\n",
      "Epoch 9/40\n",
      "3224/3224 [==============================] - 0s 16us/step - loss: 0.4632 - acc: 0.7106 - val_loss: 0.4371 - val_acc: 0.7582\n",
      "Epoch 10/40\n",
      "3224/3224 [==============================] - 0s 15us/step - loss: 0.4379 - acc: 0.7683 - val_loss: 0.4189 - val_acc: 0.8054\n",
      "Epoch 11/40\n",
      "3224/3224 [==============================] - 0s 14us/step - loss: 0.4143 - acc: 0.8065 - val_loss: 0.3952 - val_acc: 0.8366\n",
      "Epoch 12/40\n",
      "3224/3224 [==============================] - 0s 15us/step - loss: 0.3921 - acc: 0.8260 - val_loss: 0.3726 - val_acc: 0.8562\n",
      "Epoch 13/40\n",
      "3224/3224 [==============================] - 0s 15us/step - loss: 0.3711 - acc: 0.8483 - val_loss: 0.3515 - val_acc: 0.8722\n",
      "Epoch 14/40\n",
      "3224/3224 [==============================] - 0s 16us/step - loss: 0.3514 - acc: 0.8641 - val_loss: 0.3314 - val_acc: 0.8809\n",
      "Epoch 15/40\n",
      "3224/3224 [==============================] - 0s 17us/step - loss: 0.3322 - acc: 0.8731 - val_loss: 0.3121 - val_acc: 0.8882\n",
      "Epoch 16/40\n",
      "3224/3224 [==============================] - 0s 19us/step - loss: 0.3143 - acc: 0.8778 - val_loss: 0.2936 - val_acc: 0.8947\n",
      "Epoch 17/40\n",
      "3224/3224 [==============================] - 0s 19us/step - loss: 0.3011 - acc: 0.8868 - val_loss: 0.2759 - val_acc: 0.9027\n",
      "Epoch 18/40\n",
      "3224/3224 [==============================] - 0s 17us/step - loss: 0.2854 - acc: 0.8911 - val_loss: 0.2604 - val_acc: 0.9092\n",
      "Epoch 19/40\n",
      "3224/3224 [==============================] - 0s 15us/step - loss: 0.2714 - acc: 0.8958 - val_loss: 0.2471 - val_acc: 0.9121\n",
      "Epoch 20/40\n",
      "3224/3224 [==============================] - 0s 14us/step - loss: 0.2596 - acc: 0.8961 - val_loss: 0.2374 - val_acc: 0.9150\n",
      "Epoch 21/40\n",
      "3224/3224 [==============================] - 0s 14us/step - loss: 0.2498 - acc: 0.8983 - val_loss: 0.2307 - val_acc: 0.9158\n",
      "Epoch 22/40\n",
      "3224/3224 [==============================] - 0s 14us/step - loss: 0.2425 - acc: 0.9017 - val_loss: 0.2270 - val_acc: 0.9179\n",
      "Epoch 23/40\n",
      "3224/3224 [==============================] - 0s 15us/step - loss: 0.2395 - acc: 0.9060 - val_loss: 0.2448 - val_acc: 0.9201\n",
      "Epoch 24/40\n",
      "3224/3224 [==============================] - 0s 17us/step - loss: 0.2348 - acc: 0.9085 - val_loss: 0.2207 - val_acc: 0.9216\n",
      "Epoch 25/40\n",
      "3224/3224 [==============================] - 0s 18us/step - loss: 0.2275 - acc: 0.9107 - val_loss: 0.2177 - val_acc: 0.9245\n",
      "Epoch 26/40\n",
      "3224/3224 [==============================] - 0s 17us/step - loss: 0.2263 - acc: 0.9132 - val_loss: 0.2142 - val_acc: 0.9230\n",
      "Epoch 27/40\n",
      "3224/3224 [==============================] - 0s 17us/step - loss: 0.2210 - acc: 0.9163 - val_loss: 0.2119 - val_acc: 0.9252\n",
      "Epoch 28/40\n",
      "3224/3224 [==============================] - 0s 16us/step - loss: 0.2168 - acc: 0.9178 - val_loss: 0.2107 - val_acc: 0.9259\n",
      "Epoch 29/40\n",
      "3224/3224 [==============================] - 0s 17us/step - loss: 0.2141 - acc: 0.9203 - val_loss: 0.2081 - val_acc: 0.9259\n",
      "Epoch 30/40\n",
      "3224/3224 [==============================] - 0s 18us/step - loss: 0.2117 - acc: 0.9200 - val_loss: 0.2067 - val_acc: 0.9274\n",
      "Epoch 31/40\n",
      "3224/3224 [==============================] - 0s 16us/step - loss: 0.2090 - acc: 0.9228 - val_loss: 0.2048 - val_acc: 0.9288\n",
      "Epoch 32/40\n",
      "3224/3224 [==============================] - 0s 18us/step - loss: 0.2069 - acc: 0.9234 - val_loss: 0.2034 - val_acc: 0.9288\n",
      "Epoch 33/40\n",
      "3224/3224 [==============================] - 0s 16us/step - loss: 0.2045 - acc: 0.9234 - val_loss: 0.2028 - val_acc: 0.9288\n",
      "Epoch 34/40\n",
      "3224/3224 [==============================] - 0s 16us/step - loss: 0.2036 - acc: 0.9249 - val_loss: 0.2005 - val_acc: 0.9296\n",
      "Epoch 35/40\n",
      "3224/3224 [==============================] - 0s 17us/step - loss: 0.2010 - acc: 0.9268 - val_loss: 0.1998 - val_acc: 0.9296\n",
      "Epoch 36/40\n",
      "3224/3224 [==============================] - 0s 19us/step - loss: 0.1988 - acc: 0.9271 - val_loss: 0.1992 - val_acc: 0.9296\n",
      "Epoch 37/40\n",
      "3224/3224 [==============================] - 0s 20us/step - loss: 0.1970 - acc: 0.9274 - val_loss: 0.1987 - val_acc: 0.9296\n",
      "Epoch 38/40\n",
      "3224/3224 [==============================] - 0s 18us/step - loss: 0.1956 - acc: 0.9287 - val_loss: 0.1976 - val_acc: 0.9303\n",
      "Epoch 39/40\n",
      "3224/3224 [==============================] - 0s 18us/step - loss: 0.1940 - acc: 0.9293 - val_loss: 0.1979 - val_acc: 0.9310\n",
      "Epoch 40/40\n",
      "3224/3224 [==============================] - 0s 17us/step - loss: 0.1926 - acc: 0.9299 - val_loss: 0.1967 - val_acc: 0.9310\n"
     ]
    }
   ],
   "source": [
    "history = model.fit(train_data,\n",
    "                    train_label,\n",
    "                    epochs=40,\n",
    "                    batch_size=100,\n",
    "                    validation_data=(test_data, test_label),\n",
    "                    verbose=1)"
   ]
  },
  {
   "cell_type": "code",
   "execution_count": 6,
   "metadata": {},
   "outputs": [],
   "source": [
    "history_dict = history.history\n",
    "history_dict.keys()\n",
    "dict_keys = ['loss', 'val_loss', 'val_acc', 'acc']"
   ]
  },
  {
   "cell_type": "code",
   "execution_count": 7,
   "metadata": {},
   "outputs": [
    {
     "data": {
      "image/png": "[encoded data removed]",
      "text/plain": [
       "<Figure size 432x288 with 1 Axes>"
      ]
     },
     "metadata": {},
     "output_type": "display_data"
    }
   ],
   "source": [
    "import matplotlib.pyplot as plt\n",
    "%matplotlib inline\n",
    "acc = history.history['acc']\n",
    "val_acc = history.history['val_acc']\n",
    "loss = history.history['loss']\n",
    "val_loss = history.history['val_loss']\n",
    "\n",
    "epochs = range(1, len(acc) + 1)\n",
    "\n",
    "# \"bo\" 代表蓝点\n",
    "plt.plot(epochs, loss, 'bo', label='Training loss')\n",
    "# b 代表蓝色实线\n",
    "plt.plot(epochs, val_loss, 'b', label='Validation loss')\n",
    "plt.title('Training and validation loss')\n",
    "plt.xlabel('Epochs')\n",
    "plt.ylabel('Loss')\n",
    "plt.legend()\n",
    "\n",
    "plt.show()"
   ]
  },
  {
   "cell_type": "code",
   "execution_count": 8,
   "metadata": {},
   "outputs": [
    {
     "data": {
      "image/png": "[encoded data removed]",
      "text/plain": [
       "<Figure size 432x288 with 1 Axes>"
      ]
     },
     "metadata": {},
     "output_type": "display_data"
    }
   ],
   "source": [
    "\n",
    "acc_values = history_dict['acc']\n",
    "val_acc_values = history_dict['val_acc']\n",
    "\n",
    "plt.plot(epochs, acc, 'bo', label='Training acc')\n",
    "plt.plot(epochs, val_acc, 'b', label='Validation acc')\n",
    "plt.title('Training and validation accuracy')\n",
    "plt.xlabel('Epochs')\n",
    "plt.ylabel('Accuracy')\n",
    "plt.legend()\n",
    "\n",
    "plt.show()"
   ]
  },
  {
   "cell_type": "code",
   "execution_count": null,
   "metadata": {},
   "outputs": [],
   "source": []
  }
 ],
 "metadata": {
  "kernelspec": {
   "display_name": "Python 3",
   "language": "python",
   "name": "python3"
  },
  "language_info": {
   "codemirror_mode": {
    "name": "ipython",
    "version": 3
   },
   "file_extension": ".py",
   "mimetype": "text/x-python",
   "name": "python",
   "nbconvert_exporter": "python",
   "pygments_lexer": "ipython3",
   "version": "3.6.5"
  }
 },
 "nbformat": 4,
 "nbformat_minor": 2
}
