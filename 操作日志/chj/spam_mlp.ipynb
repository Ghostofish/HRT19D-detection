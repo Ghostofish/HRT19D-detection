{
 "cells": [
  {
   "cell_type": "code",
   "execution_count": 1,
   "metadata": {
    "collapsed": true
   },
   "outputs": [],
   "source": [
    "import numpy as np"
   ]
  },
  {
   "cell_type": "code",
   "execution_count": 6,
   "metadata": {},
   "outputs": [
    {
     "name": "stdout",
     "output_type": "stream",
     "text": [
      "0.06,0,0.71,0,1.23,0.19,0.19,0.12,0.64,0.25,0.38,0.45,0.12,0,1.75,0.06,0.06,1.03,1.36,0.32,0.51,0,1.16,0.06,0,0,0,0,0,0,0,0,0,0,0,0,0,0,0,0.06,0,0,0.12,0,0.06,0.06,0,0,0.01,0.143,0,0.276,0.184,0.01,9.821,485,2259,1\n",
      "\n"
     ]
    }
   ],
   "source": [
    "with open('train.data', 'r') as f:\n",
    "    lines_test = f.readlines()\n",
    "print(lines_test[1])"
   ]
  },
  {
   "cell_type": "code",
   "execution_count": 9,
   "metadata": {},
   "outputs": [
    {
     "data": {
      "text/plain": [
       "'0,0.64,0.64,0,0.32,0,0,0,0,0,0,0.64,0,0,0,0.32,0,1.29,1.93,0,0.96,0,0,0,0,0,0,0,0,0,0,0,0,0,0,0,0,0,0,0,0,0,0,0,0,0,0,0,0,0,0,0.778,0,0,3.756,61,278,1\\n'"
      ]
     },
     "execution_count": 9,
     "metadata": {},
     "output_type": "execute_result"
    }
   ],
   "source": [
    "lines_test[0]"
   ]
  },
  {
   "cell_type": "code",
   "execution_count": 21,
   "metadata": {
    "collapsed": true
   },
   "outputs": [],
   "source": [
    "def load_data(file_path):\n",
    "    with open(file_path, \"r\") as f:\n",
    "        lines = f.readlines()\n",
    "    samples = []\n",
    "    labels = []\n",
    "    for line in lines:\n",
    "        line = line[:-1].split(',')\n",
    "        samples.append(line[:-1])\n",
    "        labels.append(line[-1])\n",
    "    samples = np.array(samples, dtype=np.float32)\n",
    "    labels = np.array(labels, dtype=np.float32)\n",
    "    samples[:,-1] /= np.max(samples[:,-1])\n",
    "    samples[:,-2] /= np.max(samples[:,-2])\n",
    "    samples[:,-3] /= np.max(samples[:,-3])\n",
    "    print('samples shape: ',samples.shape)\n",
    "    print('labels shape: ',labels.shape)\n",
    "    return samples, labels"
   ]
  },
  {
   "cell_type": "code",
   "execution_count": 23,
   "metadata": {},
   "outputs": [
    {
     "name": "stdout",
     "output_type": "stream",
     "text": [
      "samples shape:  (3224, 57)\n",
      "labels shape:  (3224,)\n",
      "samples shape:  (1377, 57)\n",
      "labels shape:  (1377,)\n"
     ]
    }
   ],
   "source": [
    "x_train, y_train = load_data('train.data')\n",
    "x_test, y_test = load_data('test.data')"
   ]
  },
  {
   "cell_type": "code",
   "execution_count": 20,
   "metadata": {},
   "outputs": [
    {
     "name": "stdout",
     "output_type": "stream",
     "text": [
      "[ 0.          0.63999999  0.63999999  0.          0.31999999  0.          0.\n",
      "  0.          0.          0.          0.          0.63999999  0.          0.\n",
      "  0.          0.31999999  0.          1.28999996  1.92999995  0.\n",
      "  0.95999998  0.          0.          0.          0.          0.          0.\n",
      "  0.          0.          0.          0.          0.          0.          0.\n",
      "  0.          0.          0.          0.          0.          0.          0.\n",
      "  0.          0.          0.          0.          0.          0.          0.\n",
      "  0.          0.          0.          0.778       0.          0.\n",
      "  0.00367695  0.00610672  0.0276287 ]\n",
      "1.0\n"
     ]
    }
   ],
   "source": [
    "print(x_train[0])\n",
    "print(y_train[0])"
   ]
  },
  {
   "cell_type": "code",
   "execution_count": 25,
   "metadata": {
    "collapsed": true
   },
   "outputs": [],
   "source": [
    "import keras\n",
    "from keras.models import Sequential\n",
    "from keras.layers import Dense, Dropout"
   ]
  },
  {
   "cell_type": "code",
   "execution_count": 54,
   "metadata": {
    "collapsed": true
   },
   "outputs": [],
   "source": [
    "epochs = 30"
   ]
  },
  {
   "cell_type": "code",
   "execution_count": 50,
   "metadata": {},
   "outputs": [
    {
     "name": "stdout",
     "output_type": "stream",
     "text": [
      "_________________________________________________________________\n",
      "Layer (type)                 Output Shape              Param #   \n",
      "=================================================================\n",
      "dense_15 (Dense)             (None, 16)                928       \n",
      "_________________________________________________________________\n",
      "dropout_9 (Dropout)          (None, 16)                0         \n",
      "_________________________________________________________________\n",
      "dense_16 (Dense)             (None, 4)                 68        \n",
      "_________________________________________________________________\n",
      "dropout_10 (Dropout)         (None, 4)                 0         \n",
      "_________________________________________________________________\n",
      "dense_17 (Dense)             (None, 1)                 5         \n",
      "=================================================================\n",
      "Total params: 1,001\n",
      "Trainable params: 1,001\n",
      "Non-trainable params: 0\n",
      "_________________________________________________________________\n"
     ]
    }
   ],
   "source": [
    "model = Sequential()\n",
    "model.add(Dense(16, activation='relu', input_shape=(57,)))\n",
    "model.add(Dropout(0.2))\n",
    "model.add(Dense(4, activation='relu'))\n",
    "model.add(Dropout(0.2))\n",
    "model.add(Dense(1, activation='sigmoid'))\n",
    "model.summary()"
   ]
  },
  {
   "cell_type": "code",
   "execution_count": 51,
   "metadata": {
    "collapsed": true
   },
   "outputs": [],
   "source": [
    "model.compile(optimizer='adam', loss='binary_crossentropy', metrics=['accuracy'])"
   ]
  },
  {
   "cell_type": "code",
   "execution_count": 52,
   "metadata": {},
   "outputs": [],
   "source": [
    "from keras.callbacks import ModelCheckpoint\n",
    "checkpointer = ModelCheckpoint('best_weights.hdf5',verbose=1)"
   ]
  },
  {
   "cell_type": "code",
   "execution_count": 53,
   "metadata": {
    "scrolled": true
   },
   "outputs": [
    {
     "name": "stdout",
     "output_type": "stream",
     "text": [
      "Train on 3224 samples, validate on 1377 samples\n",
      "Epoch 1/30\n",
      "3224/3224 [==============================] - 1s 165us/step - loss: 0.6343 - acc: 0.6061 - val_loss: 0.5630 - val_acc: 0.6057\n",
      "\n",
      "Epoch 00001: saving model to best_weights.hdf5\n",
      "Epoch 2/30\n",
      "3224/3224 [==============================] - 0s 36us/step - loss: 0.5298 - acc: 0.6452 - val_loss: 0.4390 - val_acc: 0.8322\n",
      "\n",
      "Epoch 00002: saving model to best_weights.hdf5\n",
      "Epoch 3/30\n",
      "3224/3224 [==============================] - 0s 31us/step - loss: 0.4543 - acc: 0.8303 - val_loss: 0.3822 - val_acc: 0.9136\n",
      "\n",
      "Epoch 00003: saving model to best_weights.hdf5\n",
      "Epoch 4/30\n",
      "3224/3224 [==============================] - 0s 31us/step - loss: 0.4125 - acc: 0.8734 - val_loss: 0.3488 - val_acc: 0.9281\n",
      "\n",
      "Epoch 00004: saving model to best_weights.hdf5\n",
      "Epoch 5/30\n",
      "3224/3224 [==============================] - 0s 32us/step - loss: 0.3803 - acc: 0.8958 - val_loss: 0.3273 - val_acc: 0.9339\n",
      "\n",
      "Epoch 00005: saving model to best_weights.hdf5\n",
      "Epoch 6/30\n",
      "3224/3224 [==============================] - 0s 35us/step - loss: 0.3630 - acc: 0.9020 - val_loss: 0.3092 - val_acc: 0.9325\n",
      "\n",
      "Epoch 00006: saving model to best_weights.hdf5\n",
      "Epoch 7/30\n",
      "3224/3224 [==============================] - 0s 30us/step - loss: 0.3423 - acc: 0.9066 - val_loss: 0.2954 - val_acc: 0.9361\n",
      "\n",
      "Epoch 00007: saving model to best_weights.hdf5\n",
      "Epoch 8/30\n",
      "3224/3224 [==============================] - 0s 42us/step - loss: 0.3296 - acc: 0.9153 - val_loss: 0.2825 - val_acc: 0.9383\n",
      "\n",
      "Epoch 00008: saving model to best_weights.hdf5\n",
      "Epoch 9/30\n",
      "3224/3224 [==============================] - 0s 31us/step - loss: 0.3168 - acc: 0.9110 - val_loss: 0.2722 - val_acc: 0.9383\n",
      "\n",
      "Epoch 00009: saving model to best_weights.hdf5\n",
      "Epoch 10/30\n",
      "3224/3224 [==============================] - 0s 35us/step - loss: 0.2981 - acc: 0.9215 - val_loss: 0.2634 - val_acc: 0.9405\n",
      "\n",
      "Epoch 00010: saving model to best_weights.hdf5\n",
      "Epoch 11/30\n",
      "3224/3224 [==============================] - 0s 34us/step - loss: 0.3011 - acc: 0.9141 - val_loss: 0.2560 - val_acc: 0.9405\n",
      "\n",
      "Epoch 00011: saving model to best_weights.hdf5\n",
      "Epoch 12/30\n",
      "3224/3224 [==============================] - 0s 36us/step - loss: 0.2896 - acc: 0.9221 - val_loss: 0.2487 - val_acc: 0.9426\n",
      "\n",
      "Epoch 00012: saving model to best_weights.hdf5\n",
      "Epoch 13/30\n",
      "3224/3224 [==============================] - 0s 32us/step - loss: 0.2803 - acc: 0.9249 - val_loss: 0.2427 - val_acc: 0.9434\n",
      "\n",
      "Epoch 00013: saving model to best_weights.hdf5\n",
      "Epoch 14/30\n",
      "3224/3224 [==============================] - 0s 31us/step - loss: 0.2618 - acc: 0.9252 - val_loss: 0.2380 - val_acc: 0.9426\n",
      "\n",
      "Epoch 00014: saving model to best_weights.hdf5\n",
      "Epoch 15/30\n",
      "3224/3224 [==============================] - 0s 35us/step - loss: 0.2688 - acc: 0.9256 - val_loss: 0.2327 - val_acc: 0.9441\n",
      "\n",
      "Epoch 00015: saving model to best_weights.hdf5\n",
      "Epoch 16/30\n",
      "3224/3224 [==============================] - 0s 37us/step - loss: 0.2614 - acc: 0.9262 - val_loss: 0.2272 - val_acc: 0.9463\n",
      "\n",
      "Epoch 00016: saving model to best_weights.hdf5\n",
      "Epoch 17/30\n",
      "3224/3224 [==============================] - 0s 33us/step - loss: 0.2543 - acc: 0.9240 - val_loss: 0.2227 - val_acc: 0.9463\n",
      "\n",
      "Epoch 00017: saving model to best_weights.hdf5\n",
      "Epoch 18/30\n",
      "3224/3224 [==============================] - 0s 30us/step - loss: 0.2442 - acc: 0.9296 - val_loss: 0.2182 - val_acc: 0.9426\n",
      "\n",
      "Epoch 00018: saving model to best_weights.hdf5\n",
      "Epoch 19/30\n",
      "3224/3224 [==============================] - 0s 34us/step - loss: 0.2438 - acc: 0.9290 - val_loss: 0.2140 - val_acc: 0.9463\n",
      "\n",
      "Epoch 00019: saving model to best_weights.hdf5\n",
      "Epoch 20/30\n",
      "3224/3224 [==============================] - 0s 44us/step - loss: 0.2417 - acc: 0.9311 - val_loss: 0.2103 - val_acc: 0.9455\n",
      "\n",
      "Epoch 00020: saving model to best_weights.hdf5\n",
      "Epoch 21/30\n",
      "3224/3224 [==============================] - 0s 32us/step - loss: 0.2371 - acc: 0.9342 - val_loss: 0.2074 - val_acc: 0.9448\n",
      "\n",
      "Epoch 00021: saving model to best_weights.hdf5\n",
      "Epoch 22/30\n",
      "3224/3224 [==============================] - 0s 35us/step - loss: 0.2299 - acc: 0.9296 - val_loss: 0.2064 - val_acc: 0.9455\n",
      "\n",
      "Epoch 00022: saving model to best_weights.hdf5\n",
      "Epoch 23/30\n",
      "3224/3224 [==============================] - 0s 37us/step - loss: 0.2275 - acc: 0.9346 - val_loss: 0.2021 - val_acc: 0.9441\n",
      "\n",
      "Epoch 00023: saving model to best_weights.hdf5\n",
      "Epoch 24/30\n",
      "3224/3224 [==============================] - 0s 36us/step - loss: 0.2256 - acc: 0.9339 - val_loss: 0.1993 - val_acc: 0.9434\n",
      "\n",
      "Epoch 00024: saving model to best_weights.hdf5\n",
      "Epoch 25/30\n",
      "3224/3224 [==============================] - 0s 32us/step - loss: 0.2100 - acc: 0.9355 - val_loss: 0.1977 - val_acc: 0.9441\n",
      "\n",
      "Epoch 00025: saving model to best_weights.hdf5\n",
      "Epoch 26/30\n",
      "3224/3224 [==============================] - 0s 32us/step - loss: 0.2190 - acc: 0.9336 - val_loss: 0.1944 - val_acc: 0.9455\n",
      "\n",
      "Epoch 00026: saving model to best_weights.hdf5\n",
      "Epoch 27/30\n",
      "3224/3224 [==============================] - 0s 40us/step - loss: 0.2124 - acc: 0.9339 - val_loss: 0.1921 - val_acc: 0.9448\n",
      "\n",
      "Epoch 00027: saving model to best_weights.hdf5\n",
      "Epoch 28/30\n",
      "3224/3224 [==============================] - 0s 33us/step - loss: 0.2130 - acc: 0.9302 - val_loss: 0.1915 - val_acc: 0.9441\n",
      "\n",
      "Epoch 00028: saving model to best_weights.hdf5\n",
      "Epoch 29/30\n",
      "3224/3224 [==============================] - 0s 33us/step - loss: 0.2102 - acc: 0.9327 - val_loss: 0.1906 - val_acc: 0.9441\n",
      "\n",
      "Epoch 00029: saving model to best_weights.hdf5\n",
      "Epoch 30/30\n",
      "3224/3224 [==============================] - 0s 37us/step - loss: 0.1972 - acc: 0.9398 - val_loss: 0.1910 - val_acc: 0.9434\n",
      "\n",
      "Epoch 00030: saving model to best_weights.hdf5\n"
     ]
    }
   ],
   "source": [
    "history = model.fit(x_train, y_train, batch_size=32, epochs=epochs, verbose=1, callbacks=[checkpointer],\n",
    "                   validation_data=(x_test,y_test), shuffle=True)"
   ]
  },
  {
   "cell_type": "code",
   "execution_count": 56,
   "metadata": {},
   "outputs": [
    {
     "data": {
      "text/plain": [
       "{'acc': [0.60607940431859886,\n",
       "  0.64516129047048298,\n",
       "  0.83033498774095449,\n",
       "  0.87344913136574531,\n",
       "  0.8957816377171216,\n",
       "  0.90198511181043339,\n",
       "  0.90663771697368578,\n",
       "  0.91532258064516125,\n",
       "  0.91098014873547239,\n",
       "  0.92152605444266833,\n",
       "  0.91408188600398177,\n",
       "  0.92214640213301402,\n",
       "  0.92493796526054595,\n",
       "  0.92524813880991408,\n",
       "  0.92555831250718446,\n",
       "  0.92617866019753015,\n",
       "  0.92400744431663684,\n",
       "  0.92959057057170058,\n",
       "  0.92897022332506207,\n",
       "  0.93114143905805302,\n",
       "  0.9342431763265624,\n",
       "  0.92959057086750529,\n",
       "  0.93455335002383289,\n",
       "  0.93393300233348719,\n",
       "  0.93548387081983964,\n",
       "  0.93362282863621682,\n",
       "  0.93393300262929191,\n",
       "  0.93021091826204627,\n",
       "  0.93269230784021007,\n",
       "  0.9398263027295285],\n",
       " 'loss': [0.63429939569373872,\n",
       "  0.52977305243979611,\n",
       "  0.45429946552435163,\n",
       "  0.41253287391390459,\n",
       "  0.38032054856752345,\n",
       "  0.36302181878693346,\n",
       "  0.34233496539645986,\n",
       "  0.32960688509509228,\n",
       "  0.31678819138713865,\n",
       "  0.2981116781681406,\n",
       "  0.30110920643983941,\n",
       "  0.28963545974223842,\n",
       "  0.28032454585762828,\n",
       "  0.26177800474480423,\n",
       "  0.26875345501355441,\n",
       "  0.26141540499094401,\n",
       "  0.25432069388867606,\n",
       "  0.24416132171455743,\n",
       "  0.24375220868856676,\n",
       "  0.2416768306612081,\n",
       "  0.2371107381641421,\n",
       "  0.22994631307000854,\n",
       "  0.22754821284828944,\n",
       "  0.22557077255497499,\n",
       "  0.2100248143409677,\n",
       "  0.21900090638076697,\n",
       "  0.21235873940269054,\n",
       "  0.21300816731920313,\n",
       "  0.21024319858616103,\n",
       "  0.19723655597743561],\n",
       " 'val_acc': [0.60566448801742923,\n",
       "  0.83224400871459692,\n",
       "  0.9135802469135802,\n",
       "  0.92810457516339873,\n",
       "  0.93391430646332607,\n",
       "  0.93246187363834421,\n",
       "  0.93609295570079887,\n",
       "  0.93827160493827155,\n",
       "  0.93827160493827155,\n",
       "  0.94045025417574435,\n",
       "  0.94045025417574435,\n",
       "  0.94262890341321715,\n",
       "  0.94335511982570808,\n",
       "  0.94262890341321715,\n",
       "  0.94408133623819901,\n",
       "  0.94625998547567181,\n",
       "  0.94625998547567181,\n",
       "  0.94262890341321715,\n",
       "  0.94625998547567181,\n",
       "  0.94553376906318087,\n",
       "  0.94480755265068994,\n",
       "  0.94553376906318087,\n",
       "  0.94408133623819901,\n",
       "  0.94335511982570808,\n",
       "  0.94408133623819901,\n",
       "  0.94553376906318087,\n",
       "  0.94480755265068994,\n",
       "  0.94408133623819901,\n",
       "  0.94408133623819901,\n",
       "  0.94335511982570808],\n",
       " 'val_loss': [0.56304396350226193,\n",
       "  0.43904551199232222,\n",
       "  0.38222970946075785,\n",
       "  0.34876271612677096,\n",
       "  0.32729953968966446,\n",
       "  0.30924005565127344,\n",
       "  0.29535746434804921,\n",
       "  0.28253046192158454,\n",
       "  0.27224951562625216,\n",
       "  0.26342419507867976,\n",
       "  0.255988185550306,\n",
       "  0.2486614622040425,\n",
       "  0.24265690368634682,\n",
       "  0.2380358708363646,\n",
       "  0.23269346652900125,\n",
       "  0.22724223164226062,\n",
       "  0.22265601927277914,\n",
       "  0.21819579928907781,\n",
       "  0.21403723429636887,\n",
       "  0.21026183150643746,\n",
       "  0.20743566868351956,\n",
       "  0.20639520379888487,\n",
       "  0.20208788511783599,\n",
       "  0.19925761714810336,\n",
       "  0.19768148511729339,\n",
       "  0.19439526577125057,\n",
       "  0.19206799258198656,\n",
       "  0.19146144869767762,\n",
       "  0.19061315746689803,\n",
       "  0.19097185208473677]}"
      ]
     },
     "execution_count": 56,
     "metadata": {},
     "output_type": "execute_result"
    }
   ],
   "source": [
    "history.history"
   ]
  },
  {
   "cell_type": "code",
   "execution_count": 57,
   "metadata": {
    "collapsed": true
   },
   "outputs": [],
   "source": [
    "import matplotlib.pyplot as plt\n",
    "%matplotlib inline"
   ]
  },
  {
   "cell_type": "code",
   "execution_count": 58,
   "metadata": {
    "collapsed": true
   },
   "outputs": [],
   "source": [
    "xrange = range(epochs)"
   ]
  },
  {
   "cell_type": "code",
   "execution_count": 62,
   "metadata": {},
   "outputs": [
    {
     "data": {
      "image/png": "[encoded data removed]",
      "text/plain": [
       "<matplotlib.figure.Figure at 0x1de5294a240>"
      ]
     },
     "metadata": {},
     "output_type": "display_data"
    }
   ],
   "source": [
    "plt.plot(xrange, history.history['acc'], 'blue', label='acc')\n",
    "plt.plot(xrange, history.history['val_acc'], 'red', label='val_acc')\n",
    "plt.title('accuracy')\n",
    "plt.legend()\n",
    "plt.show()"
   ]
  },
  {
   "cell_type": "code",
   "execution_count": 63,
   "metadata": {},
   "outputs": [
    {
     "data": {
      "image/png": "[encoded data removed]",
      "text/plain": [
       "<matplotlib.figure.Figure at 0x1de52cad358>"
      ]
     },
     "metadata": {},
     "output_type": "display_data"
    }
   ],
   "source": [
    "plt.plot(xrange, history.history['loss'], 'blue', label='loss')\n",
    "plt.plot(xrange, history.history['val_loss'], 'red', label='val_loss')\n",
    "plt.title('loss')\n",
    "plt.legend()\n",
    "plt.show()"
   ]
  },
  {
   "cell_type": "code",
   "execution_count": 64,
   "metadata": {
    "collapsed": true
   },
   "outputs": [],
   "source": [
    "def load_data_for_flag(file_path):\n",
    "    with open(file_path, \"r\") as f:\n",
    "        lines = f.readlines()\n",
    "    samples = []\n",
    "    for line in lines:\n",
    "        line = line[:-1].split(',')\n",
    "        samples.append(line)\n",
    "    samples = np.array(samples, dtype=np.float32)\n",
    "    samples[:,-1] /= np.max(samples[:,-1])\n",
    "    samples[:,-2] /= np.max(samples[:,-2])\n",
    "    samples[:,-3] /= np.max(samples[:,-3])\n",
    "    print('flag_data shape: ',samples.shape)\n",
    "    return samples"
   ]
  },
  {
   "cell_type": "code",
   "execution_count": 65,
   "metadata": {},
   "outputs": [
    {
     "name": "stdout",
     "output_type": "stream",
     "text": [
      "flag_data shape:  (560, 57)\n"
     ]
    }
   ],
   "source": [
    "x_flag = load_data_for_flag('get_the_flag.data')"
   ]
  },
  {
   "cell_type": "code",
   "execution_count": 66,
   "metadata": {},
   "outputs": [
    {
     "data": {
      "text/plain": [
       "array([ 0.20999999,  0.28      ,  0.5       ,  0.        ,  0.14      ,\n",
       "        0.28      ,  0.20999999,  0.07      ,  0.        ,  0.94      ,\n",
       "        0.20999999,  0.79000002,  0.64999998,  0.20999999,  0.14      ,\n",
       "        0.14      ,  0.07      ,  0.28      ,  3.47000003,  0.        ,\n",
       "        1.59000003,  0.        ,  0.43000001,  0.43000001,  0.        ,\n",
       "        0.        ,  0.        ,  0.        ,  0.        ,  0.        ,\n",
       "        0.        ,  0.        ,  0.        ,  0.        ,  0.        ,\n",
       "        0.        ,  0.07      ,  0.        ,  0.        ,  0.        ,\n",
       "        0.        ,  0.        ,  0.        ,  0.        ,  0.        ,\n",
       "        0.        ,  0.        ,  0.        ,  0.        ,  0.132     ,\n",
       "        0.        ,  0.37200001,  0.18000001,  0.048     ,  0.00463855,\n",
       "        0.04582577,  0.17417824], dtype=float32)"
      ]
     },
     "execution_count": 66,
     "metadata": {},
     "output_type": "execute_result"
    }
   ],
   "source": [
    "x_flag[0]"
   ]
  },
  {
   "cell_type": "code",
   "execution_count": 67,
   "metadata": {},
   "outputs": [
    {
     "name": "stdout",
     "output_type": "stream",
     "text": [
      "560/560 [==============================] - 0s 128us/step\n"
     ]
    }
   ],
   "source": [
    "model.load_weights('best_weights.hdf5')\n",
    "y_pred = model.predict(x_flag,verbose=1)"
   ]
  },
  {
   "cell_type": "code",
   "execution_count": 68,
   "metadata": {},
   "outputs": [
    {
     "data": {
      "text/plain": [
       "array([[ 0.85829353],\n",
       "       [ 0.85829353],\n",
       "       [ 0.85829353],\n",
       "       [ 0.85829353],\n",
       "       [ 0.85829353]], dtype=float32)"
      ]
     },
     "execution_count": 68,
     "metadata": {},
     "output_type": "execute_result"
    }
   ],
   "source": [
    "y_pred[:5]"
   ]
  },
  {
   "cell_type": "code",
   "execution_count": 70,
   "metadata": {},
   "outputs": [
    {
     "data": {
      "text/plain": [
       "(560, 1)"
      ]
     },
     "execution_count": 70,
     "metadata": {},
     "output_type": "execute_result"
    }
   ],
   "source": [
    "y_pred.shape"
   ]
  },
  {
   "cell_type": "code",
   "execution_count": 77,
   "metadata": {},
   "outputs": [
    {
     "data": {
      "text/plain": [
       "array([[ 0.85829353],\n",
       "       [ 0.85829353],\n",
       "       [ 0.61293209],\n",
       "       [ 0.85829353],\n",
       "       [ 0.82976049]], dtype=float32)"
      ]
     },
     "execution_count": 77,
     "metadata": {},
     "output_type": "execute_result"
    }
   ],
   "source": [
    "y_pred[555:565]"
   ]
  },
  {
   "cell_type": "code",
   "execution_count": 83,
   "metadata": {},
   "outputs": [
    {
     "name": "stdout",
     "output_type": "stream",
     "text": [
      "310  error cnt_value:  0.3\n",
      "10001001110101110100111011011100100101111110000011001001\n"
     ]
    }
   ],
   "source": [
    "ans = ''\n",
    "for i in np.arange(0,y_pred.shape[0],10):\n",
    "    pred = np.mean(y_pred[i:i+10])\n",
    "    if(pred>0.5):\n",
    "        ans += '1'\n",
    "    else:\n",
    "        ans += '0'\n",
    "    cnt = 0\n",
    "    for value in y_pred[i:i+10]:\n",
    "        if(value>0.5):\n",
    "            cnt += 1\n",
    "    cnt /= len(y_pred[i:i+10])\n",
    "    if(cnt>=0.3 and cnt<=0.7):\n",
    "        print(i,' error cnt_value: ',cnt)\n",
    "print(ans)"
   ]
  },
  {
   "cell_type": "markdown",
   "metadata": {},
   "source": [
    "### Answer:10001001110101110100111011011100100101111110000011001001"
   ]
  },
  {
   "cell_type": "code",
   "execution_count": null,
   "metadata": {
    "collapsed": true
   },
   "outputs": [],
   "source": []
  }
 ],
 "metadata": {
  "kernelspec": {
   "display_name": "Python [conda root]",
   "language": "python",
   "name": "conda-root-py"
  },
  "language_info": {
   "codemirror_mode": {
    "name": "ipython",
    "version": 3
   },
   "file_extension": ".py",
   "mimetype": "text/x-python",
   "name": "python",
   "nbconvert_exporter": "python",
   "pygments_lexer": "ipython3",
   "version": "3.6.2"
  }
 },
 "nbformat": 4,
 "nbformat_minor": 2
}
