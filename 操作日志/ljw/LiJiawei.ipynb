{
 "cells": [
  {
   "cell_type": "code",
   "execution_count": 4,
   "metadata": {},
   "outputs": [],
   "source": [
    "import tensorflow as tf\n",
    "from tensorflow import keras\n",
    "import numpy as np\n",
    "from tensorflow.keras import layers\n",
    "import matplotlib.pyplot as plt"
   ]
  },
  {
   "cell_type": "code",
   "execution_count": 5,
   "metadata": {},
   "outputs": [],
   "source": [
    "def load_data(file_path):\n",
    "    data=[]\n",
    "    label=[]\n",
    "    with open(file_path,\"r\") as data_file:\n",
    "        raw_data=data_file.readlines()\n",
    "        for raw_line in raw_data:\n",
    "            sample=raw_line[:-1]\n",
    "            sample=sample.split(\",\")\n",
    "            label.append(sample[-1])\n",
    "            sample=np.array([float(feature) for feature in sample[:-1]])\n",
    "            sample[-3]/=10\n",
    "            sample[-2]/=100\n",
    "            sample[-1]/=1000\n",
    "            data.append(sample)\n",
    "    return np.array(data),np.array(label)\n",
    "train_data,train_label=load_data(\"./train.data\")\n",
    "test_data,test_label=load_data(\"./test.data\")"
   ]
  },
  {
   "cell_type": "code",
   "execution_count": 7,
   "metadata": {},
   "outputs": [],
   "source": [
    "model = tf.keras.Sequential([layers.Dense(57, activation='softmax'),layers.Dense(1, activation='sigmoid')])\n",
    "model.compile(optimizer=tf.train.AdamOptimizer(),loss='binary_crossentropy',metrics=['accuracy'])"
   ]
  },
  {
   "cell_type": "code",
   "execution_count": 8,
   "metadata": {},
   "outputs": [
    {
     "name": "stdout",
     "output_type": "stream",
     "text": [
      "Train on 3224 samples, validate on 1377 samples\n",
      "Epoch 1/32\n",
      "3224/3224 [==============================] - 0s 138us/step - loss: 0.6897 - acc: 0.5487 - val_loss: 0.6813 - val_acc: 0.8264\n",
      "Epoch 2/32\n",
      "3224/3224 [==============================] - 0s 27us/step - loss: 0.6744 - acc: 0.8412 - val_loss: 0.6653 - val_acc: 0.8402\n",
      "Epoch 3/32\n",
      "3224/3224 [==============================] - 0s 27us/step - loss: 0.6588 - acc: 0.8306 - val_loss: 0.6484 - val_acc: 0.8381\n",
      "Epoch 4/32\n",
      "3224/3224 [==============================] - 0s 27us/step - loss: 0.6421 - acc: 0.8347 - val_loss: 0.6299 - val_acc: 0.8482\n",
      "Epoch 5/32\n",
      "3224/3224 [==============================] - 0s 24us/step - loss: 0.6239 - acc: 0.8493 - val_loss: 0.6103 - val_acc: 0.8642\n",
      "Epoch 6/32\n",
      "3224/3224 [==============================] - 0s 22us/step - loss: 0.6050 - acc: 0.8617 - val_loss: 0.5906 - val_acc: 0.8780\n",
      "Epoch 7/32\n",
      "3224/3224 [==============================] - 0s 28us/step - loss: 0.5865 - acc: 0.8734 - val_loss: 0.5717 - val_acc: 0.8824\n",
      "Epoch 8/32\n",
      "3224/3224 [==============================] - 0s 21us/step - loss: 0.5688 - acc: 0.8797 - val_loss: 0.5540 - val_acc: 0.8853\n",
      "Epoch 9/32\n",
      "3224/3224 [==============================] - 0s 31us/step - loss: 0.5521 - acc: 0.8837 - val_loss: 0.5372 - val_acc: 0.8874\n",
      "Epoch 10/32\n",
      "3224/3224 [==============================] - 0s 23us/step - loss: 0.5361 - acc: 0.8871 - val_loss: 0.5209 - val_acc: 0.8940\n",
      "Epoch 11/32\n",
      "3224/3224 [==============================] - 0s 23us/step - loss: 0.5207 - acc: 0.8921 - val_loss: 0.5053 - val_acc: 0.8962\n",
      "Epoch 12/32\n",
      "3224/3224 [==============================] - 0s 24us/step - loss: 0.5057 - acc: 0.8992 - val_loss: 0.4902 - val_acc: 0.9012\n",
      "Epoch 13/32\n",
      "3224/3224 [==============================] - 0s 21us/step - loss: 0.4911 - acc: 0.9026 - val_loss: 0.4754 - val_acc: 0.9049\n",
      "Epoch 14/32\n",
      "3224/3224 [==============================] - 0s 29us/step - loss: 0.4768 - acc: 0.9076 - val_loss: 0.4610 - val_acc: 0.9056\n",
      "Epoch 15/32\n",
      "3224/3224 [==============================] - 0s 21us/step - loss: 0.4631 - acc: 0.9097 - val_loss: 0.4473 - val_acc: 0.9078\n",
      "Epoch 16/32\n",
      "3224/3224 [==============================] - 0s 23us/step - loss: 0.4500 - acc: 0.9100 - val_loss: 0.4342 - val_acc: 0.9107\n",
      "Epoch 17/32\n",
      "3224/3224 [==============================] - 0s 25us/step - loss: 0.4376 - acc: 0.9135 - val_loss: 0.4219 - val_acc: 0.9150\n",
      "Epoch 18/32\n",
      "3224/3224 [==============================] - 0s 20us/step - loss: 0.4260 - acc: 0.9147 - val_loss: 0.4103 - val_acc: 0.9150\n",
      "Epoch 19/32\n",
      "3224/3224 [==============================] - 0s 26us/step - loss: 0.4151 - acc: 0.9150 - val_loss: 0.3993 - val_acc: 0.9179\n",
      "Epoch 20/32\n",
      "3224/3224 [==============================] - 0s 23us/step - loss: 0.4049 - acc: 0.9156 - val_loss: 0.3891 - val_acc: 0.9230\n",
      "Epoch 21/32\n",
      "3224/3224 [==============================] - 0s 18us/step - loss: 0.3953 - acc: 0.9190 - val_loss: 0.3795 - val_acc: 0.9252\n",
      "Epoch 22/32\n",
      "3224/3224 [==============================] - 0s 29us/step - loss: 0.3864 - acc: 0.9200 - val_loss: 0.3706 - val_acc: 0.9245\n",
      "Epoch 23/32\n",
      "3224/3224 [==============================] - 0s 23us/step - loss: 0.3781 - acc: 0.9221 - val_loss: 0.3624 - val_acc: 0.9259\n",
      "Epoch 24/32\n",
      "3224/3224 [==============================] - 0s 25us/step - loss: 0.3704 - acc: 0.9228 - val_loss: 0.3546 - val_acc: 0.9267\n",
      "Epoch 25/32\n",
      "3224/3224 [==============================] - 0s 27us/step - loss: 0.3632 - acc: 0.9240 - val_loss: 0.3474 - val_acc: 0.9267\n",
      "Epoch 26/32\n",
      "3224/3224 [==============================] - 0s 25us/step - loss: 0.3564 - acc: 0.9243 - val_loss: 0.3405 - val_acc: 0.9267\n",
      "Epoch 27/32\n",
      "3224/3224 [==============================] - 0s 30us/step - loss: 0.3501 - acc: 0.9246 - val_loss: 0.3341 - val_acc: 0.9281\n",
      "Epoch 28/32\n",
      "3224/3224 [==============================] - 0s 27us/step - loss: 0.3441 - acc: 0.9246 - val_loss: 0.3282 - val_acc: 0.9288\n",
      "Epoch 29/32\n",
      "3224/3224 [==============================] - 0s 29us/step - loss: 0.3385 - acc: 0.9246 - val_loss: 0.3225 - val_acc: 0.9288\n",
      "Epoch 30/32\n",
      "3224/3224 [==============================] - 0s 24us/step - loss: 0.3331 - acc: 0.9256 - val_loss: 0.3172 - val_acc: 0.9296\n",
      "Epoch 31/32\n",
      "3224/3224 [==============================] - 0s 26us/step - loss: 0.3280 - acc: 0.9262 - val_loss: 0.3121 - val_acc: 0.9296\n",
      "Epoch 32/32\n",
      "3224/3224 [==============================] - 0s 32us/step - loss: 0.3232 - acc: 0.9268 - val_loss: 0.3072 - val_acc: 0.9303\n"
     ]
    }
   ],
   "source": [
    "history = model.fit(train_data,train_label,epochs=32,batch_size=125,validation_data=(test_data, test_label),verbose=1)"
   ]
  },
  {
   "cell_type": "code",
   "execution_count": 9,
   "metadata": {},
   "outputs": [],
   "source": [
    "history_dict = history.history\n",
    "history_dict.keys()\n",
    "dict_keys=['loss', 'val_loss', 'val_acc', 'acc']"
   ]
  },
  {
   "cell_type": "code",
   "execution_count": 10,
   "metadata": {},
   "outputs": [
    {
     "data": {
      "image/png": "[encoded data removed]",
      "text/plain": [
       "<Figure size 432x288 with 1 Axes>"
      ]
     },
     "metadata": {
      "needs_background": "light"
     },
     "output_type": "display_data"
    }
   ],
   "source": [
    "acc = history.history['acc']\n",
    "val_acc = history.history['val_acc']\n",
    "loss = history.history['loss']\n",
    "val_loss = history.history['val_loss']\n",
    "epochs = range(1, len(acc) + 1)\n",
    "\n",
    "# \"r\" is for \"solid red line\"\n",
    "plt.plot(epochs, loss, 'r', label='Training loss')\n",
    "# b is for \"solid blue line\"\n",
    "plt.plot(epochs, val_loss, 'b', label='Validation loss')\n",
    "plt.title('Training and validation loss')\n",
    "plt.xlabel('Epochs')\n",
    "plt.ylabel('Loss')\n",
    "plt.legend()\n",
    "\n",
    "plt.show()"
   ]
  },
  {
   "cell_type": "code",
   "execution_count": 11,
   "metadata": {},
   "outputs": [
    {
     "data": {
      "image/png": "[encoded data removed]",
      "text/plain": [
       "<Figure size 432x288 with 1 Axes>"
      ]
     },
     "metadata": {
      "needs_background": "light"
     },
     "output_type": "display_data"
    }
   ],
   "source": [
    "acc_values = history_dict['acc']\n",
    "val_acc_values = history_dict['val_acc']\n",
    "\n",
    "plt.plot(epochs, acc, 'r', label='Training acc')\n",
    "plt.plot(epochs, val_acc, 'b', label='Validation acc')\n",
    "plt.title('Training and validation accuracy')\n",
    "plt.xlabel('Epochs')\n",
    "plt.ylabel('Accuracy')\n",
    "plt.legend()\n",
    "\n",
    "plt.show()"
   ]
  },
  {
   "cell_type": "code",
   "execution_count": 12,
   "metadata": {},
   "outputs": [],
   "source": [
    "redictions = model.predict(train_data)"
   ]
  },
  {
   "cell_type": "code",
   "execution_count": 13,
   "metadata": {},
   "outputs": [],
   "source": [
    "def load_prediction_data(file_path):\n",
    "    data=[]\n",
    "    with open(file_path,\"r\") as data_file:\n",
    "        raw_data=data_file.readlines()\n",
    "        for raw_line in raw_data:\n",
    "            sample=raw_line[:-1]\n",
    "            sample=sample.split(\",\")\n",
    "            sample=np.array([float(feature) for feature in sample])\n",
    "            sample[-3]/=10\n",
    "            sample[-2]/=100\n",
    "            sample[-1]/=1000\n",
    "            data.append(sample)\n",
    "    return np.array(data)\n",
    "prediction_data=load_prediction_data(\"./get_the_flag.data\")"
   ]
  },
  {
   "cell_type": "code",
   "execution_count": 14,
   "metadata": {},
   "outputs": [
    {
     "data": {
      "image/png": "[encoded data removed]",
      "text/plain": [
       "<Figure size 3600x72 with 1 Axes>"
      ]
     },
     "metadata": {
      "needs_background": "light"
     },
     "output_type": "display_data"
    },
    {
     "name": "stdout",
     "output_type": "stream",
     "text": [
      "flag:\n",
      "10001001110101110100111011011100100101111110000011001001\n"
     ]
    }
   ],
   "source": [
    "data_show=[]\n",
    "target=''\n",
    "flag=''\n",
    "for i in model.predict(prediction_data):\n",
    "    if i[0]<0.5:\n",
    "        data_show.append(0)\n",
    "        target+='0'\n",
    "    else:\n",
    "        data_show.append(1)\n",
    "        target+='1'\n",
    "plt.rcParams['figure.figsize'] = (50.0, 1.0) \n",
    "plt.scatter(range(len(data_show)),data_show,linewidth=0.1,s=10)\n",
    "plt.show()\n",
    "for i in range((int)(len(data_show)/10)):\n",
    "    tmp=0\n",
    "    for j in range(10):\n",
    "        tmp+=data_show[i*10+j]\n",
    "    if tmp>=5:\n",
    "        flag+='1'\n",
    "    else:\n",
    "        flag+='0'\n",
    "print(\"flag:\")\n",
    "print(flag)\n"
   ]
  }
 ],
 "metadata": {
  "kernelspec": {
   "display_name": "Python 3",
   "language": "python",
   "name": "python3"
  },
  "language_info": {
   "codemirror_mode": {
    "name": "ipython",
    "version": 3
   },
   "file_extension": ".py",
   "mimetype": "text/x-python",
   "name": "python",
   "nbconvert_exporter": "python",
   "pygments_lexer": "ipython3",
   "version": "3.5.2"
  }
 },
 "nbformat": 4,
 "nbformat_minor": 2
}
