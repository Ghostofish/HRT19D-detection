{
 "cells": [
  {
   "cell_type": "code",
   "execution_count": 1,
   "metadata": {},
   "outputs": [
    {
     "name": "stdout",
     "output_type": "stream",
     "text": [
      "0,0.64,0.64,0,0.32,0,0,0,0,0,0,0.64,0,0,0,0.32,0,1.29,1.93,0,0.96,0,0,0,0,0,0,0,0,0,0,0,0,0,0,0,0,0,0,0,0,0,0,0,0,0,0,0,0,0,0,0.778,0,0,3.756,61,278,1\n",
      "\n",
      "0.06,0,0.71,0,1.23,0.19,0.19,0.12,0.64,0.25,0.38,0.45,0.12,0,1.75,0.06,0.06,1.03,1.36,0.32,0.51,0,1.16,0.06,0,0,0,0,0,0,0,0,0,0,0,0,0,0,0,0.06,0,0,0.12,0,0.06,0.06,0,0,0.01,0.143,0,0.276,0.184,0.01,9.821,485,2259,1\n",
      "\n"
     ]
    }
   ],
   "source": [
    "with open(\"train.data\", \"r\") as f:\n",
    "    lines = f.readlines()\n",
    "print(lines[0])\n",
    "print(lines[1])"
   ]
  },
  {
   "cell_type": "code",
   "execution_count": 2,
   "metadata": {},
   "outputs": [],
   "source": [
    "import tensorflow as tf\n",
    "import numpy as np\n",
    "from tensorflow import keras"
   ]
  },
  {
   "cell_type": "code",
   "execution_count": 3,
   "metadata": {},
   "outputs": [],
   "source": [
    "def load_data(file_path):\n",
    "    data=[]\n",
    "    label=[]\n",
    "    with open(file_path,\"r\") as data_file:\n",
    "        raw_data=data_file.readlines()\n",
    "        for raw_line in raw_data:\n",
    "            sample=raw_line[:-1]\n",
    "            sample=sample.split(\",\")\n",
    "            label.append(sample[-1])\n",
    "            sample=np.array([float(feature) for feature in sample[:-1]])\n",
    "            sample[-3]/=10\n",
    "            sample[-2]/=100\n",
    "            sample[-1]/=1000\n",
    "            data.append(sample)\n",
    "    return np.array(data),np.array(label)\n",
    "train_data,train_label=load_data(\"train.data\")\n",
    "test_data,test_label=load_data(\"test.data\")"
   ]
  },
  {
   "cell_type": "code",
   "execution_count": 4,
   "metadata": {},
   "outputs": [],
   "source": [
    "from tensorflow.keras import layers\n",
    "model = tf.keras.Sequential([\n",
    "        layers.Dense(57, activation='softmax'),\n",
    "        layers.Dense(1, activation='sigmoid')])"
   ]
  },
  {
   "cell_type": "code",
   "execution_count": 5,
   "metadata": {},
   "outputs": [],
   "source": [
    "batch_size = 20\n",
    "epochs = 40"
   ]
  },
  {
   "cell_type": "code",
   "execution_count": 6,
   "metadata": {},
   "outputs": [],
   "source": [
    "model.compile(optimizer=tf.train.AdamOptimizer(),\n",
    "              loss='binary_crossentropy',\n",
    "              metrics=['accuracy'])"
   ]
  },
  {
   "cell_type": "code",
   "execution_count": 7,
   "metadata": {},
   "outputs": [
    {
     "name": "stdout",
     "output_type": "stream",
     "text": [
      "Train on 3224 samples, validate on 1377 samples\n",
      "Epoch 1/40\n",
      "3224/3224 [==============================] - 1s 196us/step - loss: 0.6622 - acc: 0.7391 - val_loss: 0.6204 - val_acc: 0.8366\n",
      "Epoch 2/40\n",
      "3224/3224 [==============================] - 0s 76us/step - loss: 0.5821 - acc: 0.8614 - val_loss: 0.5290 - val_acc: 0.8896\n",
      "Epoch 3/40\n",
      "3224/3224 [==============================] - 0s 69us/step - loss: 0.4925 - acc: 0.8967 - val_loss: 0.4412 - val_acc: 0.9136\n",
      "Epoch 4/40\n",
      "3224/3224 [==============================] - 0s 69us/step - loss: 0.4212 - acc: 0.9104 - val_loss: 0.3808 - val_acc: 0.9274\n",
      "Epoch 5/40\n",
      "3224/3224 [==============================] - 0s 74us/step - loss: 0.3728 - acc: 0.9172 - val_loss: 0.3386 - val_acc: 0.9288\n",
      "Epoch 6/40\n",
      "3224/3224 [==============================] - 0s 71us/step - loss: 0.3383 - acc: 0.9231 - val_loss: 0.3079 - val_acc: 0.9339\n",
      "Epoch 7/40\n",
      "3224/3224 [==============================] - 0s 69us/step - loss: 0.3128 - acc: 0.9237 - val_loss: 0.2850 - val_acc: 0.9354\n",
      "Epoch 8/40\n",
      "3224/3224 [==============================] - 0s 70us/step - loss: 0.2934 - acc: 0.9259 - val_loss: 0.2681 - val_acc: 0.9339\n",
      "Epoch 9/40\n",
      "3224/3224 [==============================] - 0s 78us/step - loss: 0.2779 - acc: 0.9265 - val_loss: 0.2542 - val_acc: 0.9339\n",
      "Epoch 10/40\n",
      "3224/3224 [==============================] - 0s 81us/step - loss: 0.2647 - acc: 0.9280 - val_loss: 0.2426 - val_acc: 0.9368\n",
      "Epoch 11/40\n",
      "3224/3224 [==============================] - 0s 65us/step - loss: 0.2529 - acc: 0.9271 - val_loss: 0.2332 - val_acc: 0.9368\n",
      "Epoch 12/40\n",
      "3224/3224 [==============================] - 0s 61us/step - loss: 0.2430 - acc: 0.9296 - val_loss: 0.2257 - val_acc: 0.9375\n",
      "Epoch 13/40\n",
      "3224/3224 [==============================] - 0s 60us/step - loss: 0.2346 - acc: 0.9311 - val_loss: 0.2189 - val_acc: 0.9383\n",
      "Epoch 14/40\n",
      "3224/3224 [==============================] - 0s 62us/step - loss: 0.2273 - acc: 0.9333 - val_loss: 0.2131 - val_acc: 0.9390\n",
      "Epoch 15/40\n",
      "3224/3224 [==============================] - 0s 61us/step - loss: 0.2211 - acc: 0.9327 - val_loss: 0.2085 - val_acc: 0.9390\n",
      "Epoch 16/40\n",
      "3224/3224 [==============================] - 0s 62us/step - loss: 0.2156 - acc: 0.9333 - val_loss: 0.2044 - val_acc: 0.9397\n",
      "Epoch 17/40\n",
      "3224/3224 [==============================] - 0s 64us/step - loss: 0.2107 - acc: 0.9342 - val_loss: 0.2011 - val_acc: 0.9397\n",
      "Epoch 18/40\n",
      "3224/3224 [==============================] - 0s 60us/step - loss: 0.2063 - acc: 0.9352 - val_loss: 0.1979 - val_acc: 0.9390\n",
      "Epoch 19/40\n",
      "3224/3224 [==============================] - 0s 61us/step - loss: 0.2022 - acc: 0.9361 - val_loss: 0.1951 - val_acc: 0.9390\n",
      "Epoch 20/40\n",
      "3224/3224 [==============================] - 0s 62us/step - loss: 0.1988 - acc: 0.9370 - val_loss: 0.1929 - val_acc: 0.9397\n",
      "Epoch 21/40\n",
      "3224/3224 [==============================] - 0s 63us/step - loss: 0.1955 - acc: 0.9386 - val_loss: 0.1909 - val_acc: 0.9397\n",
      "Epoch 22/40\n",
      "3224/3224 [==============================] - 0s 78us/step - loss: 0.1924 - acc: 0.9401 - val_loss: 0.1885 - val_acc: 0.9397\n",
      "Epoch 23/40\n",
      "3224/3224 [==============================] - 0s 64us/step - loss: 0.1896 - acc: 0.9404 - val_loss: 0.1869 - val_acc: 0.9390\n",
      "Epoch 24/40\n",
      "3224/3224 [==============================] - 0s 63us/step - loss: 0.1871 - acc: 0.9408 - val_loss: 0.1852 - val_acc: 0.9390\n",
      "Epoch 25/40\n",
      "3224/3224 [==============================] - 0s 61us/step - loss: 0.1847 - acc: 0.9414 - val_loss: 0.1843 - val_acc: 0.9397\n",
      "Epoch 26/40\n",
      "3224/3224 [==============================] - 0s 61us/step - loss: 0.1824 - acc: 0.9423 - val_loss: 0.1829 - val_acc: 0.9412\n",
      "Epoch 27/40\n",
      "3224/3224 [==============================] - 0s 61us/step - loss: 0.1803 - acc: 0.9429 - val_loss: 0.1820 - val_acc: 0.9412\n",
      "Epoch 28/40\n",
      "3224/3224 [==============================] - 0s 62us/step - loss: 0.1781 - acc: 0.9439 - val_loss: 0.1806 - val_acc: 0.9419\n",
      "Epoch 29/40\n",
      "3224/3224 [==============================] - 0s 60us/step - loss: 0.1762 - acc: 0.9445 - val_loss: 0.1796 - val_acc: 0.9426\n",
      "Epoch 30/40\n",
      "3224/3224 [==============================] - 0s 61us/step - loss: 0.1743 - acc: 0.9457 - val_loss: 0.1787 - val_acc: 0.9434\n",
      "Epoch 31/40\n",
      "3224/3224 [==============================] - 0s 60us/step - loss: 0.1728 - acc: 0.9460 - val_loss: 0.1782 - val_acc: 0.9434\n",
      "Epoch 32/40\n",
      "3224/3224 [==============================] - 0s 66us/step - loss: 0.1711 - acc: 0.9470 - val_loss: 0.1771 - val_acc: 0.9434\n",
      "Epoch 33/40\n",
      "3224/3224 [==============================] - 0s 91us/step - loss: 0.1697 - acc: 0.9482 - val_loss: 0.1765 - val_acc: 0.9426\n",
      "Epoch 34/40\n",
      "3224/3224 [==============================] - 0s 63us/step - loss: 0.1682 - acc: 0.9476 - val_loss: 0.1762 - val_acc: 0.9426\n",
      "Epoch 35/40\n",
      "3224/3224 [==============================] - 0s 61us/step - loss: 0.1668 - acc: 0.9482 - val_loss: 0.1758 - val_acc: 0.9419\n",
      "Epoch 36/40\n",
      "3224/3224 [==============================] - 0s 61us/step - loss: 0.1656 - acc: 0.9479 - val_loss: 0.1749 - val_acc: 0.9434\n",
      "Epoch 37/40\n",
      "3224/3224 [==============================] - 0s 60us/step - loss: 0.1640 - acc: 0.9482 - val_loss: 0.1745 - val_acc: 0.9426\n",
      "Epoch 38/40\n",
      "3224/3224 [==============================] - 0s 60us/step - loss: 0.1627 - acc: 0.9485 - val_loss: 0.1743 - val_acc: 0.9426\n",
      "Epoch 39/40\n",
      "3224/3224 [==============================] - 0s 61us/step - loss: 0.1615 - acc: 0.9485 - val_loss: 0.1741 - val_acc: 0.9412\n",
      "Epoch 40/40\n",
      "3224/3224 [==============================] - 0s 63us/step - loss: 0.1601 - acc: 0.9488 - val_loss: 0.1733 - val_acc: 0.9426\n"
     ]
    }
   ],
   "source": [
    "history = model.fit(train_data,\n",
    "                    train_label,\n",
    "                    epochs=epochs,\n",
    "                    batch_size=batch_size,\n",
    "                    validation_data=(test_data, test_label),\n",
    "                    verbose=1)"
   ]
  },
  {
   "cell_type": "code",
   "execution_count": 8,
   "metadata": {},
   "outputs": [],
   "source": [
    "history_dict = history.history\n",
    "history_dict.keys()\n",
    "dict_keys=['loss', 'val_loss', 'val_acc', 'acc']"
   ]
  },
  {
   "cell_type": "code",
   "execution_count": 9,
   "metadata": {},
   "outputs": [
    {
     "data": {
      "image/png": "[encoded data removed]",
      "text/plain": [
       "<Figure size 432x288 with 1 Axes>"
      ]
     },
     "metadata": {
      "needs_background": "light"
     },
     "output_type": "display_data"
    }
   ],
   "source": [
    "import matplotlib.pyplot as plt\n",
    "%matplotlib inline\n",
    "acc = history.history['acc']\n",
    "val_acc = history.history['val_acc']\n",
    "loss = history.history['loss']\n",
    "val_loss = history.history['val_loss']\n",
    "\n",
    "epochs = range(1, len(acc) + 1)\n",
    "\n",
    "# \"bo\" is for \"blue dot\"\n",
    "plt.plot(epochs, loss, 'bo', label='Training loss')\n",
    "# b is for \"solid blue line\"\n",
    "plt.plot(epochs, val_loss, 'b', label='Validation loss')\n",
    "plt.title('Training and validation loss')\n",
    "plt.xlabel('Epochs')\n",
    "plt.ylabel('Loss')\n",
    "plt.legend()\n",
    "\n",
    "plt.show()"
   ]
  },
  {
   "cell_type": "code",
   "execution_count": 10,
   "metadata": {},
   "outputs": [
    {
     "data": {
      "image/png": "[encoded data removed]",
      "text/plain": [
       "<Figure size 432x288 with 1 Axes>"
      ]
     },
     "metadata": {
      "needs_background": "light"
     },
     "output_type": "display_data"
    }
   ],
   "source": [
    "acc_values = history_dict['acc']\n",
    "val_acc_values = history_dict['val_acc']\n",
    "\n",
    "plt.plot(epochs, acc, 'bo', label='Training acc')\n",
    "plt.plot(epochs, val_acc, 'b', label='Validation acc')\n",
    "plt.title('Training and validation accuracy')\n",
    "plt.xlabel('Epochs')\n",
    "plt.ylabel('Accuracy')\n",
    "plt.legend()\n",
    "\n",
    "plt.show()"
   ]
  },
  {
   "cell_type": "code",
   "execution_count": 11,
   "metadata": {},
   "outputs": [],
   "source": [
    "predictions = model.predict(train_data)"
   ]
  },
  {
   "cell_type": "code",
   "execution_count": 12,
   "metadata": {},
   "outputs": [],
   "source": [
    "def load_prediction_data(file_path):\n",
    "    data=[]\n",
    "    with open(file_path,\"r\") as data_file:\n",
    "        raw_data=data_file.readlines()\n",
    "        for raw_line in raw_data:\n",
    "            sample=raw_line[:-1]\n",
    "            sample=sample.split(\",\")\n",
    "            sample=np.array([float(feature) for feature in sample])\n",
    "            sample[-3]/=10\n",
    "            sample[-2]/=100\n",
    "            sample[-1]/=1000\n",
    "            data.append(sample)\n",
    "    return np.array(data)\n",
    "prediction_data=load_prediction_data(\".\\get_the_flag.data\")"
   ]
  },
  {
   "cell_type": "code",
   "execution_count": 13,
   "metadata": {},
   "outputs": [],
   "source": [
    "predictions = model.predict(prediction_data)"
   ]
  },
  {
   "cell_type": "code",
   "execution_count": 14,
   "metadata": {},
   "outputs": [
    {
     "data": {
      "image/png": "[encoded data removed]",
      "text/plain": [
       "<Figure size 3600x72 with 1 Axes>"
      ]
     },
     "metadata": {
      "needs_background": "light"
     },
     "output_type": "display_data"
    }
   ],
   "source": [
    "data_show=[]\n",
    "for i in predictions:\n",
    "    if i[0]<0.5:\n",
    "        data_show.append(0)\n",
    "    else:\n",
    "        data_show.append(1)\n",
    "plt.rcParams['figure.figsize'] = (50.0, 1.0) \n",
    "plt.scatter(range(len(data_show)),data_show,linewidth=0.1,s=10)\n",
    "plt.show()"
   ]
  },
  {
   "cell_type": "markdown",
   "metadata": {},
   "source": [
    "flag:10001001110101110100111011011100100101111110000011001001"
   ]
  }
 ],
 "metadata": {
  "kernelspec": {
   "display_name": "Python 3",
   "language": "python",
   "name": "python3"
  },
  "language_info": {
   "codemirror_mode": {
    "name": "ipython",
    "version": 3
   },
   "file_extension": ".py",
   "mimetype": "text/x-python",
   "name": "python",
   "nbconvert_exporter": "python",
   "pygments_lexer": "ipython3",
   "version": "3.7.0"
  }
 },
 "nbformat": 4,
 "nbformat_minor": 2
}
