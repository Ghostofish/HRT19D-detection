{
 "cells": [
  {
   "cell_type": "markdown",
   "metadata": {},
   "source": [
    "# 垃圾邮件文本分类v1.0"
   ]
  },
  {
   "cell_type": "code",
   "execution_count": 1,
   "metadata": {},
   "outputs": [],
   "source": [
    "import tensorflow as tf\n",
    "from tensorflow import keras\n",
    "import numpy as np"
   ]
  },
  {
   "cell_type": "code",
   "execution_count": 2,
   "metadata": {},
   "outputs": [],
   "source": [
    "def load_data(file_path):\n",
    "    data=[]\n",
    "    label=[]\n",
    "    with open(file_path,\"r\") as data_file:\n",
    "        raw_data=data_file.readlines()\n",
    "        for raw_line in raw_data:\n",
    "            sample=raw_line[:-1]#删除了行读取数据中的\\n\n",
    "            sample=sample.split(\",\")#以逗号分隔字符串\n",
    "            label.append(sample[-1])#记录末尾的布尔值\n",
    "            sample=np.array([float(feature) for feature in sample[:-1]])\n",
    "            sample[-3]/=10\n",
    "            sample[-2]/=100\n",
    "            sample[-1]/=1000\n",
    "            data.append(sample)#导出sample的值\n",
    "    return np.array(data),np.array(label)\n",
    "train_data,train_label=load_data(\"./train.data\")\n",
    "test_data,test_label=load_data(\"./test.data\")"
   ]
  },
  {
   "cell_type": "code",
   "execution_count": 3,
   "metadata": {},
   "outputs": [],
   "source": [
    "#序贯模型\n",
    "from tensorflow.keras import layers\n",
    "model = tf.keras.Sequential([\n",
    "layers.Dense(57, activation='softmax'),\n",
    "layers.Dense(1, activation='sigmoid')])"
   ]
  },
  {
   "cell_type": "code",
   "execution_count": 4,
   "metadata": {},
   "outputs": [],
   "source": [
    "model.compile(optimizer=tf.train.AdamOptimizer(),\n",
    "              loss='binary_crossentropy',\n",
    "              metrics=['accuracy'])"
   ]
  },
  {
   "cell_type": "code",
   "execution_count": 5,
   "metadata": {},
   "outputs": [
    {
     "name": "stdout",
     "output_type": "stream",
     "text": [
      "Train on 3224 samples, validate on 1377 samples\n",
      "Epoch 1/40\n",
      "3224/3224 [==============================] - 2s 622us/step - loss: 0.6520 - acc: 0.7097 - val_loss: 0.6088 - val_acc: 0.8366\n",
      "Epoch 2/40\n",
      "3224/3224 [==============================] - 0s 47us/step - loss: 0.5731 - acc: 0.8635 - val_loss: 0.5255 - val_acc: 0.8918\n",
      "Epoch 3/40\n",
      "3224/3224 [==============================] - 0s 50us/step - loss: 0.4965 - acc: 0.8967 - val_loss: 0.4506 - val_acc: 0.9129\n",
      "Epoch 4/40\n",
      "3224/3224 [==============================] - 0s 46us/step - loss: 0.4304 - acc: 0.9094 - val_loss: 0.3902 - val_acc: 0.9223\n",
      "Epoch 5/40\n",
      "3224/3224 [==============================] - 0s 47us/step - loss: 0.3803 - acc: 0.9169 - val_loss: 0.3459 - val_acc: 0.9252\n",
      "Epoch 6/40\n",
      "3224/3224 [==============================] - 0s 47us/step - loss: 0.3429 - acc: 0.9237 - val_loss: 0.3131 - val_acc: 0.9339\n",
      "Epoch 7/40\n",
      "3224/3224 [==============================] - 0s 40us/step - loss: 0.3144 - acc: 0.9246 - val_loss: 0.2886 - val_acc: 0.9361\n",
      "Epoch 8/40\n",
      "3224/3224 [==============================] - 0s 42us/step - loss: 0.2924 - acc: 0.9305 - val_loss: 0.2690 - val_acc: 0.9375\n",
      "Epoch 9/40\n",
      "3224/3224 [==============================] - 0s 46us/step - loss: 0.2748 - acc: 0.9318 - val_loss: 0.2539 - val_acc: 0.9368\n",
      "Epoch 10/40\n",
      "3224/3224 [==============================] - 0s 46us/step - loss: 0.2609 - acc: 0.9336 - val_loss: 0.2417 - val_acc: 0.9397\n",
      "Epoch 11/40\n",
      "3224/3224 [==============================] - 0s 47us/step - loss: 0.2494 - acc: 0.9327 - val_loss: 0.2315 - val_acc: 0.9405\n",
      "Epoch 12/40\n",
      "3224/3224 [==============================] - 0s 46us/step - loss: 0.2395 - acc: 0.9330 - val_loss: 0.2233 - val_acc: 0.9419\n",
      "Epoch 13/40\n",
      "3224/3224 [==============================] - 0s 46us/step - loss: 0.2309 - acc: 0.9342 - val_loss: 0.2161 - val_acc: 0.9412\n",
      "Epoch 14/40\n",
      "3224/3224 [==============================] - 0s 51us/step - loss: 0.2235 - acc: 0.9336 - val_loss: 0.2104 - val_acc: 0.9405\n",
      "Epoch 15/40\n",
      "3224/3224 [==============================] - 0s 54us/step - loss: 0.2164 - acc: 0.9336 - val_loss: 0.2049 - val_acc: 0.9412\n",
      "Epoch 16/40\n",
      "3224/3224 [==============================] - 0s 52us/step - loss: 0.2105 - acc: 0.9370 - val_loss: 0.2011 - val_acc: 0.9412\n",
      "Epoch 17/40\n",
      "3224/3224 [==============================] - 0s 52us/step - loss: 0.2053 - acc: 0.9389 - val_loss: 0.1973 - val_acc: 0.9426\n",
      "Epoch 18/40\n",
      "3224/3224 [==============================] - 0s 43us/step - loss: 0.2009 - acc: 0.9401 - val_loss: 0.1946 - val_acc: 0.9426\n",
      "Epoch 19/40\n",
      "3224/3224 [==============================] - 0s 50us/step - loss: 0.1969 - acc: 0.9414 - val_loss: 0.1920 - val_acc: 0.9441\n",
      "Epoch 20/40\n",
      "3224/3224 [==============================] - 0s 43us/step - loss: 0.1933 - acc: 0.9426 - val_loss: 0.1900 - val_acc: 0.9434\n",
      "Epoch 21/40\n",
      "3224/3224 [==============================] - 0s 50us/step - loss: 0.1902 - acc: 0.9426 - val_loss: 0.1881 - val_acc: 0.9405\n",
      "Epoch 22/40\n",
      "3224/3224 [==============================] - 0s 48us/step - loss: 0.1871 - acc: 0.9429 - val_loss: 0.1867 - val_acc: 0.9405\n",
      "Epoch 23/40\n",
      "3224/3224 [==============================] - 0s 44us/step - loss: 0.1845 - acc: 0.9442 - val_loss: 0.1852 - val_acc: 0.9405\n",
      "Epoch 24/40\n",
      "3224/3224 [==============================] - 0s 51us/step - loss: 0.1822 - acc: 0.9435 - val_loss: 0.1842 - val_acc: 0.9397\n",
      "Epoch 25/40\n",
      "3224/3224 [==============================] - 0s 47us/step - loss: 0.1797 - acc: 0.9439 - val_loss: 0.1832 - val_acc: 0.9397\n",
      "Epoch 26/40\n",
      "3224/3224 [==============================] - 0s 47us/step - loss: 0.1774 - acc: 0.9445 - val_loss: 0.1822 - val_acc: 0.9397\n",
      "Epoch 27/40\n",
      "3224/3224 [==============================] - 0s 49us/step - loss: 0.1754 - acc: 0.9451 - val_loss: 0.1812 - val_acc: 0.9390\n",
      "Epoch 28/40\n",
      "3224/3224 [==============================] - 0s 44us/step - loss: 0.1733 - acc: 0.9457 - val_loss: 0.1804 - val_acc: 0.9390\n",
      "Epoch 29/40\n",
      "3224/3224 [==============================] - 0s 51us/step - loss: 0.1717 - acc: 0.9451 - val_loss: 0.1795 - val_acc: 0.9383\n",
      "Epoch 30/40\n",
      "3224/3224 [==============================] - 0s 51us/step - loss: 0.1695 - acc: 0.9451 - val_loss: 0.1789 - val_acc: 0.9390\n",
      "Epoch 31/40\n",
      "3224/3224 [==============================] - 0s 51us/step - loss: 0.1676 - acc: 0.9451 - val_loss: 0.1781 - val_acc: 0.9390\n",
      "Epoch 32/40\n",
      "3224/3224 [==============================] - 0s 50us/step - loss: 0.1660 - acc: 0.9454 - val_loss: 0.1771 - val_acc: 0.9383\n",
      "Epoch 33/40\n",
      "3224/3224 [==============================] - 0s 51us/step - loss: 0.1642 - acc: 0.9467 - val_loss: 0.1769 - val_acc: 0.9390\n",
      "Epoch 34/40\n",
      "3224/3224 [==============================] - 0s 43us/step - loss: 0.1626 - acc: 0.9476 - val_loss: 0.1763 - val_acc: 0.9390\n",
      "Epoch 35/40\n",
      "3224/3224 [==============================] - 0s 49us/step - loss: 0.1610 - acc: 0.9463 - val_loss: 0.1756 - val_acc: 0.9390\n",
      "Epoch 36/40\n",
      "3224/3224 [==============================] - 0s 48us/step - loss: 0.1598 - acc: 0.9467 - val_loss: 0.1751 - val_acc: 0.9390\n",
      "Epoch 37/40\n",
      "3224/3224 [==============================] - 0s 48us/step - loss: 0.1581 - acc: 0.9470 - val_loss: 0.1744 - val_acc: 0.9390\n",
      "Epoch 38/40\n",
      "3224/3224 [==============================] - 0s 47us/step - loss: 0.1566 - acc: 0.9473 - val_loss: 0.1739 - val_acc: 0.9390\n",
      "Epoch 39/40\n",
      "3224/3224 [==============================] - 0s 47us/step - loss: 0.1552 - acc: 0.9473 - val_loss: 0.1735 - val_acc: 0.9390\n",
      "Epoch 40/40\n",
      "3224/3224 [==============================] - 0s 47us/step - loss: 0.1538 - acc: 0.9467 - val_loss: 0.1729 - val_acc: 0.9390\n"
     ]
    }
   ],
   "source": [
    "history = model.fit(train_data,#训练数据\n",
    "                    train_label,#训练标识，有监督学习\n",
    "                    epochs=40,#训练轮数\n",
    "                    batch_size=20,\n",
    "                    validation_data=(test_data, test_label),\n",
    "                    verbose=1)"
   ]
  },
  {
   "cell_type": "code",
   "execution_count": 6,
   "metadata": {},
   "outputs": [],
   "source": [
    "history_dict = history.history\n",
    "history_dict.keys()\n",
    "dict_keys=['loss', 'val_loss', 'val_acc', 'acc']"
   ]
  },
  {
   "cell_type": "code",
   "execution_count": 15,
   "metadata": {},
   "outputs": [
    {
     "data": {
      "image/png": "[encoded data removed]",
      "text/plain": [
       "<Figure size 432x288 with 1 Axes>"
      ]
     },
     "metadata": {
      "needs_background": "light"
     },
     "output_type": "display_data"
    }
   ],
   "source": [
    "import matplotlib.pyplot as plt\n",
    "%matplotlib inline\n",
    "acc = history.history['acc']\n",
    "val_acc = history.history['val_acc']\n",
    "loss = history.history['loss']\n",
    "val_loss = history.history['val_loss']\n",
    "\n",
    "epochs = range(1, len(acc) + 1)\n",
    "\n",
    "# \"bo\" is for \"blue dot\"\n",
    "plt.plot(epochs, loss, 'bo', label='Training loss')\n",
    "# b is for \"solid blue line\"\n",
    "plt.plot(epochs, val_loss, 'r', label='Validation loss')\n",
    "plt.title('Training and validation loss')\n",
    "plt.xlabel('Epochs')\n",
    "plt.ylabel('Loss')\n",
    "plt.legend()\n",
    "\n",
    "plt.show()"
   ]
  },
  {
   "cell_type": "code",
   "execution_count": 14,
   "metadata": {},
   "outputs": [
    {
     "data": {
      "image/png": "[encoded data removed]",
      "text/plain": [
       "<Figure size 432x288 with 1 Axes>"
      ]
     },
     "metadata": {
      "needs_background": "light"
     },
     "output_type": "display_data"
    }
   ],
   "source": [
    "acc_values = history_dict['acc']\n",
    "val_acc_values = history_dict['val_acc']\n",
    "\n",
    "plt.plot(epochs, acc, 'bo', label='Training acc')\n",
    "plt.plot(epochs, val_acc, 'r', label='Validation acc')\n",
    "plt.title('Training and validation accuracy')\n",
    "plt.xlabel('Epochs')\n",
    "plt.ylabel('Accuracy')\n",
    "plt.legend()\n",
    "\n",
    "plt.show()"
   ]
  },
  {
   "cell_type": "code",
   "execution_count": 9,
   "metadata": {},
   "outputs": [],
   "source": [
    "def load_data(file_path):\n",
    "    data=[]\n",
    "    label=[]\n",
    "    with open(file_path,\"r\") as data_file:\n",
    "        raw_data=data_file.readlines()\n",
    "        for raw_line in raw_data:\n",
    "            sample=raw_line[:-1]\n",
    "            sample=sample.split(\",\")\n",
    "            sample=np.array( [float(feature) for feature in sample] )\n",
    "            sample[-3]/=10\n",
    "            sample[-2]/=100\n",
    "            sample[-1]/=1000\n",
    "            data.append(sample)\n",
    "    return np.array(data)\n",
    "flag_data=load_data(\"./get_the_flag.data\")"
   ]
  },
  {
   "cell_type": "code",
   "execution_count": 10,
   "metadata": {},
   "outputs": [
    {
     "name": "stdout",
     "output_type": "stream",
     "text": [
      "560/560 [==============================] - 0s 52us/step\n"
     ]
    }
   ],
   "source": [
    "flag=model.predict_classes(flag_data,batch_size=20,verbose=1)"
   ]
  },
  {
   "cell_type": "code",
   "execution_count": 13,
   "metadata": {},
   "outputs": [
    {
     "data": {
      "image/png": "[encoded data removed]",
      "text/plain": [
       "<Figure size 432x288 with 1 Axes>"
      ]
     },
     "metadata": {
      "needs_background": "light"
     },
     "output_type": "display_data"
    }
   ],
   "source": [
    "#flag 图\n",
    "import matplotlib.pyplot as plt\n",
    "import numpy as np\n",
    "x = np.array(range(560))\n",
    "y = flag\n",
    "# 设置图表标题并\n",
    "plt.title('Flag', fontsize=20)\n",
    "plt.scatter(x, y)\n",
    "plt.show()"
   ]
  },
  {
   "cell_type": "code",
   "execution_count": 25,
   "metadata": {},
   "outputs": [
    {
     "name": "stdout",
     "output_type": "stream",
     "text": [
      "1\n",
      "0\n",
      "0\n",
      "0\n",
      "1\n",
      "0\n",
      "0\n",
      "1\n",
      "1\n",
      "1\n",
      "0\n",
      "1\n",
      "0\n",
      "1\n",
      "1\n",
      "1\n",
      "0\n",
      "1\n",
      "0\n",
      "0\n",
      "1\n",
      "1\n",
      "1\n",
      "0\n",
      "1\n",
      "1\n",
      "0\n",
      "1\n",
      "1\n",
      "1\n",
      "0\n",
      "0\n",
      "1\n",
      "0\n",
      "0\n",
      "1\n",
      "0\n",
      "1\n",
      "1\n",
      "1\n",
      "1\n",
      "1\n",
      "1\n",
      "0\n",
      "0\n",
      "0\n",
      "0\n",
      "0\n",
      "1\n",
      "1\n",
      "0\n",
      "0\n",
      "1\n",
      "0\n",
      "0\n"
     ]
    }
   ],
   "source": [
    "mark=0\n",
    "for i in range(560):\n",
    "    if i==0 :\n",
    "        continue\n",
    "    if flag[i]==1 :\n",
    "        mark+=1\n",
    "    if i%10==0 :\n",
    "        if mark>=5 :\n",
    "            print(1)\n",
    "        else :\n",
    "            print(0)\n",
    "        mark=0\n",
    "        \n",
    "        "
   ]
  },
  {
   "cell_type": "code",
   "execution_count": null,
   "metadata": {},
   "outputs": [],
   "source": []
  }
 ],
 "metadata": {
  "kernelspec": {
   "display_name": "Python 3",
   "language": "python",
   "name": "python3"
  },
  "language_info": {
   "codemirror_mode": {
    "name": "ipython",
    "version": 3
   },
   "file_extension": ".py",
   "mimetype": "text/x-python",
   "name": "python",
   "nbconvert_exporter": "python",
   "pygments_lexer": "ipython3",
   "version": "3.7.0"
  }
 },
 "nbformat": 4,
 "nbformat_minor": 2
}
