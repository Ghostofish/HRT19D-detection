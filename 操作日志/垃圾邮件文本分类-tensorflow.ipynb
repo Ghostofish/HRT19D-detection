{
 "cells": [
  {
   "cell_type": "markdown",
   "metadata": {},
   "source": [
    "# 垃圾邮件文本分类(tensorflow)"
   ]
  },
  {
   "cell_type": "code",
   "execution_count": 3,
   "metadata": {},
   "outputs": [],
   "source": [
    "import tensorflow as tf\n",
    "from tensorflow import keras\n",
    "import numpy as np"
   ]
  },
  {
   "cell_type": "code",
   "execution_count": 4,
   "metadata": {},
   "outputs": [],
   "source": [
    "def load_data(file_path):\n",
    "    data=[]\n",
    "    label=[]\n",
    "    with open(file_path,\"r\") as data_file:\n",
    "        raw_data=data_file.readlines()\n",
    "        for raw_line in raw_data:\n",
    "            sample=raw_line[:-1]#删除了行读取数据中的\\n\n",
    "            sample=sample.split(\",\")#以逗号分隔字符串\n",
    "            label.append(sample[-1])#记录末尾的布尔值\n",
    "            sample=np.array([float(feature) for feature in sample[:-1]])\n",
    "            sample[-3]/=10\n",
    "            sample[-2]/=100\n",
    "            sample[-1]/=1000\n",
    "            data.append(sample)#导出sample的值\n",
    "    return np.array(data),np.array(label)\n",
    "train_data,train_label=load_data(\"./train.data\")\n",
    "test_data,test_label=load_data(\"./test.data\")"
   ]
  },
  {
   "cell_type": "code",
   "execution_count": 5,
   "metadata": {},
   "outputs": [],
   "source": [
    "#序贯模型\n",
    "from tensorflow.keras import layers\n",
    "model = tf.keras.Sequential([\n",
    "layers.Dense(57, activation='softmax'),\n",
    "layers.Dense(1, activation='sigmoid')])"
   ]
  },
  {
   "cell_type": "code",
   "execution_count": 6,
   "metadata": {},
   "outputs": [],
   "source": [
    "model.compile(optimizer=tf.train.AdamOptimizer(),\n",
    "              loss='binary_crossentropy',\n",
    "              metrics=['accuracy'])"
   ]
  },
  {
   "cell_type": "code",
   "execution_count": 7,
   "metadata": {},
   "outputs": [
    {
     "name": "stdout",
     "output_type": "stream",
     "text": [
      "Train on 3224 samples, validate on 1377 samples\n",
      "Epoch 1/40\n",
      "3224/3224 [==============================] - 0s 148us/step - loss: 0.6598 - acc: 0.7395 - val_loss: 0.6190 - val_acc: 0.8155\n",
      "Epoch 2/40\n",
      "3224/3224 [==============================] - 0s 49us/step - loss: 0.5775 - acc: 0.8533 - val_loss: 0.5210 - val_acc: 0.8962\n",
      "Epoch 3/40\n",
      "3224/3224 [==============================] - 0s 50us/step - loss: 0.4888 - acc: 0.9004 - val_loss: 0.4403 - val_acc: 0.9070\n",
      "Epoch 4/40\n",
      "3224/3224 [==============================] - 0s 50us/step - loss: 0.4240 - acc: 0.9079 - val_loss: 0.3845 - val_acc: 0.9216\n",
      "Epoch 5/40\n",
      "3224/3224 [==============================] - 0s 49us/step - loss: 0.3765 - acc: 0.9181 - val_loss: 0.3423 - val_acc: 0.9274\n",
      "Epoch 6/40\n",
      "3224/3224 [==============================] - 0s 50us/step - loss: 0.3402 - acc: 0.9246 - val_loss: 0.3101 - val_acc: 0.9310\n",
      "Epoch 7/40\n",
      "3224/3224 [==============================] - 0s 50us/step - loss: 0.3119 - acc: 0.9287 - val_loss: 0.2858 - val_acc: 0.9332\n",
      "Epoch 8/40\n",
      "3224/3224 [==============================] - 0s 53us/step - loss: 0.2900 - acc: 0.9305 - val_loss: 0.2671 - val_acc: 0.9339\n",
      "Epoch 9/40\n",
      "3224/3224 [==============================] - 0s 52us/step - loss: 0.2731 - acc: 0.9315 - val_loss: 0.2528 - val_acc: 0.9339\n",
      "Epoch 10/40\n",
      "3224/3224 [==============================] - 0s 49us/step - loss: 0.2596 - acc: 0.9324 - val_loss: 0.2413 - val_acc: 0.9354\n",
      "Epoch 11/40\n",
      "3224/3224 [==============================] - 0s 49us/step - loss: 0.2490 - acc: 0.9315 - val_loss: 0.2325 - val_acc: 0.9361\n",
      "Epoch 12/40\n",
      "3224/3224 [==============================] - 0s 50us/step - loss: 0.2395 - acc: 0.9321 - val_loss: 0.2246 - val_acc: 0.9361\n",
      "Epoch 13/40\n",
      "3224/3224 [==============================] - 0s 49us/step - loss: 0.2316 - acc: 0.9315 - val_loss: 0.2182 - val_acc: 0.9346\n",
      "Epoch 14/40\n",
      "3224/3224 [==============================] - 0s 50us/step - loss: 0.2245 - acc: 0.9324 - val_loss: 0.2128 - val_acc: 0.9361\n",
      "Epoch 15/40\n",
      "3224/3224 [==============================] - 0s 55us/step - loss: 0.2183 - acc: 0.9346 - val_loss: 0.2086 - val_acc: 0.9361\n",
      "Epoch 16/40\n",
      "3224/3224 [==============================] - 0s 53us/step - loss: 0.2128 - acc: 0.9355 - val_loss: 0.2042 - val_acc: 0.9383\n",
      "Epoch 17/40\n",
      "3224/3224 [==============================] - 0s 50us/step - loss: 0.2082 - acc: 0.9373 - val_loss: 0.2008 - val_acc: 0.9368\n",
      "Epoch 18/40\n",
      "3224/3224 [==============================] - 0s 49us/step - loss: 0.2040 - acc: 0.9373 - val_loss: 0.1979 - val_acc: 0.9354\n",
      "Epoch 19/40\n",
      "3224/3224 [==============================] - 0s 53us/step - loss: 0.2003 - acc: 0.9386 - val_loss: 0.1955 - val_acc: 0.9375\n",
      "Epoch 20/40\n",
      "3224/3224 [==============================] - 0s 52us/step - loss: 0.1969 - acc: 0.9408 - val_loss: 0.1935 - val_acc: 0.9383\n",
      "Epoch 21/40\n",
      "3224/3224 [==============================] - 0s 50us/step - loss: 0.1940 - acc: 0.9398 - val_loss: 0.1914 - val_acc: 0.9375\n",
      "Epoch 22/40\n",
      "3224/3224 [==============================] - 0s 54us/step - loss: 0.1913 - acc: 0.9414 - val_loss: 0.1895 - val_acc: 0.9368\n",
      "Epoch 23/40\n",
      "3224/3224 [==============================] - 0s 48us/step - loss: 0.1888 - acc: 0.9414 - val_loss: 0.1880 - val_acc: 0.9368\n",
      "Epoch 24/40\n",
      "3224/3224 [==============================] - 0s 51us/step - loss: 0.1866 - acc: 0.9423 - val_loss: 0.1862 - val_acc: 0.9383\n",
      "Epoch 25/40\n",
      "3224/3224 [==============================] - 0s 57us/step - loss: 0.1845 - acc: 0.9426 - val_loss: 0.1850 - val_acc: 0.9383\n",
      "Epoch 26/40\n",
      "3224/3224 [==============================] - 0s 53us/step - loss: 0.1822 - acc: 0.9429 - val_loss: 0.1836 - val_acc: 0.9405\n",
      "Epoch 27/40\n",
      "3224/3224 [==============================] - 0s 54us/step - loss: 0.1804 - acc: 0.9445 - val_loss: 0.1826 - val_acc: 0.9405\n",
      "Epoch 28/40\n",
      "3224/3224 [==============================] - 0s 49us/step - loss: 0.1783 - acc: 0.9435 - val_loss: 0.1812 - val_acc: 0.9412\n",
      "Epoch 29/40\n",
      "3224/3224 [==============================] - 0s 50us/step - loss: 0.1768 - acc: 0.9454 - val_loss: 0.1803 - val_acc: 0.9419\n",
      "Epoch 30/40\n",
      "3224/3224 [==============================] - 0s 55us/step - loss: 0.1751 - acc: 0.9454 - val_loss: 0.1795 - val_acc: 0.9426\n",
      "Epoch 31/40\n",
      "3224/3224 [==============================] - 0s 51us/step - loss: 0.1732 - acc: 0.9460 - val_loss: 0.1785 - val_acc: 0.9419\n",
      "Epoch 32/40\n",
      "3224/3224 [==============================] - 0s 56us/step - loss: 0.1715 - acc: 0.9467 - val_loss: 0.1777 - val_acc: 0.9419\n",
      "Epoch 33/40\n",
      "3224/3224 [==============================] - 0s 51us/step - loss: 0.1698 - acc: 0.9470 - val_loss: 0.1774 - val_acc: 0.9434\n",
      "Epoch 34/40\n",
      "3224/3224 [==============================] - 0s 56us/step - loss: 0.1685 - acc: 0.9479 - val_loss: 0.1763 - val_acc: 0.9434\n",
      "Epoch 35/40\n",
      "3224/3224 [==============================] - 0s 51us/step - loss: 0.1670 - acc: 0.9482 - val_loss: 0.1753 - val_acc: 0.9426\n",
      "Epoch 36/40\n",
      "3224/3224 [==============================] - 0s 52us/step - loss: 0.1658 - acc: 0.9485 - val_loss: 0.1745 - val_acc: 0.9434\n",
      "Epoch 37/40\n",
      "3224/3224 [==============================] - 0s 52us/step - loss: 0.1645 - acc: 0.9482 - val_loss: 0.1739 - val_acc: 0.9434\n",
      "Epoch 38/40\n",
      "3224/3224 [==============================] - 0s 50us/step - loss: 0.1633 - acc: 0.9491 - val_loss: 0.1733 - val_acc: 0.9434\n",
      "Epoch 39/40\n",
      "3224/3224 [==============================] - 0s 54us/step - loss: 0.1622 - acc: 0.9498 - val_loss: 0.1722 - val_acc: 0.9426\n",
      "Epoch 40/40\n",
      "3224/3224 [==============================] - 0s 50us/step - loss: 0.1605 - acc: 0.9498 - val_loss: 0.1706 - val_acc: 0.9426\n"
     ]
    }
   ],
   "source": [
    "history = model.fit(train_data,#训练数据\n",
    "                    train_label,#训练标识，有监督学习\n",
    "                    epochs=40,#训练轮数\n",
    "                    batch_size=20,\n",
    "                    validation_data=(test_data, test_label),\n",
    "                    verbose=1)"
   ]
  },
  {
   "cell_type": "code",
   "execution_count": 8,
   "metadata": {},
   "outputs": [],
   "source": [
    "history_dict = history.history\n",
    "history_dict.keys()\n",
    "dict_keys=['loss', 'val_loss', 'val_acc', 'acc']"
   ]
  },
  {
   "cell_type": "code",
   "execution_count": 9,
   "metadata": {},
   "outputs": [
    {
     "data": {
      "image/png": "[encoded data removed]",
      "text/plain": [
       "<Figure size 432x288 with 1 Axes>"
      ]
     },
     "metadata": {
      "needs_background": "light"
     },
     "output_type": "display_data"
    }
   ],
   "source": [
    "import matplotlib.pyplot as plt\n",
    "%matplotlib inline\n",
    "acc = history.history['acc']\n",
    "val_acc = history.history['val_acc']\n",
    "loss = history.history['loss']\n",
    "val_loss = history.history['val_loss']\n",
    "\n",
    "epochs = range(1, len(acc) + 1)\n",
    "\n",
    "# \"bo\" is for \"blue dot\"\n",
    "plt.plot(epochs, loss, 'bo', label='Training loss')\n",
    "# b is for \"solid blue line\"\n",
    "plt.plot(epochs, val_loss, 'r', label='Validation loss')\n",
    "plt.title('Training and validation loss')\n",
    "plt.xlabel('Epochs')\n",
    "plt.ylabel('Loss')\n",
    "plt.legend()\n",
    "\n",
    "plt.show()"
   ]
  },
  {
   "cell_type": "code",
   "execution_count": 10,
   "metadata": {},
   "outputs": [
    {
     "data": {
      "image/png": "[encoded data removed]",
      "text/plain": [
       "<Figure size 432x288 with 1 Axes>"
      ]
     },
     "metadata": {
      "needs_background": "light"
     },
     "output_type": "display_data"
    }
   ],
   "source": [
    "acc_values = history_dict['acc']\n",
    "val_acc_values = history_dict['val_acc']\n",
    "\n",
    "plt.plot(epochs, acc, 'bo', label='Training acc')\n",
    "plt.plot(epochs, val_acc, 'r', label='Validation acc')\n",
    "plt.title('Training and validation accuracy')\n",
    "plt.xlabel('Epochs')\n",
    "plt.ylabel('Accuracy')\n",
    "plt.legend()\n",
    "\n",
    "plt.show()"
   ]
  },
  {
   "cell_type": "code",
   "execution_count": 11,
   "metadata": {},
   "outputs": [],
   "source": [
    "#57个数据，没有最后一个布尔值\n",
    "def load_data(file_path):\n",
    "    data=[]\n",
    "    label=[]\n",
    "    with open(file_path,\"r\") as data_file:\n",
    "        raw_data=data_file.readlines()\n",
    "        for raw_line in raw_data:\n",
    "            sample=raw_line[:-1]\n",
    "            sample=sample.split(\",\")\n",
    "            sample=np.array( [float(feature) for feature in sample] )\n",
    "            sample[-3]/=10\n",
    "            sample[-2]/=100\n",
    "            sample[-1]/=1000\n",
    "            data.append(sample)\n",
    "    return np.array(data)\n",
    "flag_data=load_data(\"./get_the_flag.data\")"
   ]
  },
  {
   "cell_type": "code",
   "execution_count": 12,
   "metadata": {},
   "outputs": [
    {
     "name": "stdout",
     "output_type": "stream",
     "text": [
      "560/560 [==============================] - 0s 53us/step\n"
     ]
    }
   ],
   "source": [
    "flag=model.predict_classes(flag_data,batch_size=20,verbose=1)"
   ]
  },
  {
   "cell_type": "code",
   "execution_count": 25,
   "metadata": {},
   "outputs": [
    {
     "data": {
      "image/png": "[encoded data removed]",
      "text/plain": [
       "<Figure size 432x288 with 1 Axes>"
      ]
     },
     "metadata": {
      "needs_background": "light"
     },
     "output_type": "display_data"
    }
   ],
   "source": [
    "#flag 图\n",
    "import matplotlib.pyplot as plt\n",
    "import numpy as np\n",
    "x = np.array(range(560))\n",
    "y = flag\n",
    "# 设置图表标题并\n",
    "plt.title('Flag', fontsize=20)\n",
    "plt.scatter(x, y)\n",
    "plt.show()"
   ]
  },
  {
   "cell_type": "code",
   "execution_count": 30,
   "metadata": {},
   "outputs": [
    {
     "name": "stdout",
     "output_type": "stream",
     "text": [
      "1  0  0  0  1  0  0  1  1  1  0  1  0  1  1  1  0  1  0  0  1  1  1  0  1  1  0  1  1  1  0  0  1  0  0  1  0  1  1  1  1  1  1  0  0  0  0  0  1  1  0  0  1  0  0  "
     ]
    }
   ],
   "source": [
    "mark=0\n",
    "for i in range(560):\n",
    "    if i==0 :\n",
    "        continue\n",
    "    if flag[i]==1 :\n",
    "        mark+=1\n",
    "    if i%10==0 :\n",
    "        if mark>=5 :\n",
    "            print(1,' ',end=\"\")\n",
    "        else :\n",
    "            print(0,' ',end=\"\")\n",
    "        mark=0\n",
    "        \n",
    "        "
   ]
  },
  {
   "cell_type": "markdown",
   "metadata": {},
   "source": [
    "## Flag：1  0  0  0  1  0  0  1  1  1  0  1  0  1  1  1  0  1  0  0  1  1  1  0  1  1  0  1  1  1  0  0  1  0  0  1  0  1  1  1  1  1  1  0  0  0  0  0  1  1  0  0  1  0  0  \n"
   ]
  },
  {
   "cell_type": "code",
   "execution_count": null,
   "metadata": {},
   "outputs": [],
   "source": []
  }
 ],
 "metadata": {
  "kernelspec": {
   "display_name": "Python 3",
   "language": "python",
   "name": "python3"
  },
  "language_info": {
   "codemirror_mode": {
    "name": "ipython",
    "version": 3
   },
   "file_extension": ".py",
   "mimetype": "text/x-python",
   "name": "python",
   "nbconvert_exporter": "python",
   "pygments_lexer": "ipython3",
   "version": "3.7.0"
  }
 },
 "nbformat": 4,
 "nbformat_minor": 2
}
