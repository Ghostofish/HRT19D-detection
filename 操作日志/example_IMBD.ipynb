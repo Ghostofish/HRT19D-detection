{
 "cells": [
  {
   "cell_type": "code",
   "execution_count": 2,
   "metadata": {},
   "outputs": [],
   "source": [
    "from tensorflow import keras\n",
    "from tensorflow.keras.datasets import imdb\n",
    " \n",
    "(train_data, train_labels), (test_data, test_labels) = imdb.load_data(num_words=10000)"
   ]
  },
  {
   "cell_type": "code",
   "execution_count": 3,
   "metadata": {},
   "outputs": [
    {
     "name": "stdout",
     "output_type": "stream",
     "text": [
      "[1, 13, 244, 6, 87, 337, 7, 628, 2219, 5, 28, 285, 15, 240, 93, 23, 288, 549, 18, 1455, 673, 4, 241, 534, 3635, 8448, 20, 38, 54, 13, 258, 46, 44, 14, 13, 1241, 7258, 12, 5, 5, 51, 9, 14, 45, 6, 762, 7, 2, 1309, 328, 5, 428, 2473, 15, 26, 1292, 5, 3939, 6728, 5, 1960, 279, 13, 92, 124, 803, 52, 21, 279, 14, 9, 43, 6, 762, 7, 595, 15, 16, 2, 23, 4, 1071, 467, 4, 403, 7, 628, 2219, 8, 97, 6, 171, 3596, 99, 387, 72, 97, 12, 788, 15, 13, 161, 459, 44, 4, 3939, 1101, 173, 21, 69, 8, 401, 2, 4, 481, 88, 61, 4731, 238, 28, 32, 11, 32, 14, 9, 6, 545, 1332, 766, 5, 203, 73, 28, 43, 77, 317, 11, 4, 2, 953, 270, 17, 6, 3616, 13, 545, 386, 25, 92, 1142, 129, 278, 23, 14, 241, 46, 7, 158]\n"
     ]
    }
   ],
   "source": [
    "print(train_data[100])"
   ]
  },
  {
   "cell_type": "code",
   "execution_count": 4,
   "metadata": {},
   "outputs": [
    {
     "data": {
      "text/plain": [
       "1"
      ]
     },
     "execution_count": 4,
     "metadata": {},
     "output_type": "execute_result"
    }
   ],
   "source": [
    "train_labels[0]"
   ]
  },
  {
   "cell_type": "code",
   "execution_count": 5,
   "metadata": {},
   "outputs": [
    {
     "data": {
      "text/plain": [
       "9999"
      ]
     },
     "execution_count": 5,
     "metadata": {},
     "output_type": "execute_result"
    }
   ],
   "source": [
    " max([max(sequence) for sequence in train_data]) "
   ]
  },
  {
   "cell_type": "code",
   "execution_count": 6,
   "metadata": {
    "scrolled": true
   },
   "outputs": [],
   "source": [
    "word_index = imdb.get_word_index()\n",
    "reverse_word_index = dict(\n",
    "    [(value, key) for (key, value) in word_index.items()])\n",
    "decoded_review = ' '.join(\n",
    "    [reverse_word_index.get(i - 3, '?') for i in train_data[0]])"
   ]
  },
  {
   "cell_type": "code",
   "execution_count": 7,
   "metadata": {},
   "outputs": [],
   "source": [
    "import numpy as np"
   ]
  },
  {
   "cell_type": "code",
   "execution_count": 8,
   "metadata": {},
   "outputs": [],
   "source": [
    "def vectorize_sequences(sequences, dimension=10000):     \n",
    "    results = np.zeros((len(sequences), dimension))      \n",
    "    for i, sequence in enumerate(sequences):         \n",
    "        results[i, sequence] = 1.      \n",
    "    return results"
   ]
  },
  {
   "cell_type": "code",
   "execution_count": 9,
   "metadata": {},
   "outputs": [],
   "source": [
    "x_train = vectorize_sequences(train_data)\n",
    "x_test = vectorize_sequences(test_data)"
   ]
  },
  {
   "cell_type": "code",
   "execution_count": 10,
   "metadata": {},
   "outputs": [
    {
     "name": "stdout",
     "output_type": "stream",
     "text": [
      "[[0. 1. 1. ... 0. 0. 0.]\n",
      " [0. 1. 1. ... 0. 0. 0.]\n",
      " [0. 1. 1. ... 0. 0. 0.]\n",
      " ...\n",
      " [0. 1. 1. ... 0. 0. 0.]\n",
      " [0. 1. 1. ... 0. 0. 0.]\n",
      " [0. 1. 1. ... 0. 0. 0.]]\n"
     ]
    }
   ],
   "source": [
    "print(x_train)"
   ]
  },
  {
   "cell_type": "code",
   "execution_count": 11,
   "metadata": {},
   "outputs": [],
   "source": [
    "y_train = np.asarray(train_labels).astype('float32')\n",
    "y_test = np.asarray(test_labels).astype('float32')"
   ]
  },
  {
   "cell_type": "code",
   "execution_count": 12,
   "metadata": {},
   "outputs": [
    {
     "name": "stdout",
     "output_type": "stream",
     "text": [
      "[1. 0. 0. ... 0. 1. 0.]\n"
     ]
    }
   ],
   "source": [
    "print(y_train)"
   ]
  },
  {
   "cell_type": "code",
   "execution_count": 13,
   "metadata": {},
   "outputs": [],
   "source": [
    "from tensorflow.keras import models\n",
    "from tensorflow.keras import layers"
   ]
  },
  {
   "cell_type": "code",
   "execution_count": 14,
   "metadata": {},
   "outputs": [],
   "source": [
    "model = models.Sequential()\n",
    "model.add(layers.Dense(16, activation='relu', input_shape=(10000,)))\n",
    "model.add(layers.Dense(16, activation='relu'))\n",
    "model.add(layers.Dense(1, activation='sigmoid'))"
   ]
  },
  {
   "cell_type": "code",
   "execution_count": 15,
   "metadata": {},
   "outputs": [],
   "source": [
    "model.compile(optimizer='rmsprop',               \n",
    "              loss='binary_crossentropy',               \n",
    "              metrics=['accuracy'])#评价函数"
   ]
  },
  {
   "cell_type": "code",
   "execution_count": 16,
   "metadata": {},
   "outputs": [],
   "source": [
    "x_val = x_train[:10000]\n",
    "partial_x_train = x_train[10000:]\n",
    "y_val = y_train[:10000]\n",
    "partial_y_train = y_train[10000:]"
   ]
  },
  {
   "cell_type": "code",
   "execution_count": 17,
   "metadata": {},
   "outputs": [],
   "source": [
    "model.compile(optimizer='rmsprop',               \n",
    "              loss='binary_crossentropy',               \n",
    "              metrics=['acc'])"
   ]
  },
  {
   "cell_type": "code",
   "execution_count": 18,
   "metadata": {},
   "outputs": [
    {
     "name": "stdout",
     "output_type": "stream",
     "text": [
      "Train on 15000 samples, validate on 10000 samples\n",
      "Epoch 1/20\n",
      "15000/15000 [==============================] - 4s 264us/step - loss: 0.4963 - acc: 0.7881 - val_loss: 0.3723 - val_acc: 0.8686\n",
      "Epoch 2/20\n",
      "15000/15000 [==============================] - 2s 156us/step - loss: 0.2889 - acc: 0.9051 - val_loss: 0.3015 - val_acc: 0.8871\n",
      "Epoch 3/20\n",
      "15000/15000 [==============================] - 2s 155us/step - loss: 0.2108 - acc: 0.9305 - val_loss: 0.2764 - val_acc: 0.8932\n",
      "Epoch 4/20\n",
      "15000/15000 [==============================] - 2s 148us/step - loss: 0.1679 - acc: 0.9445 - val_loss: 0.2793 - val_acc: 0.8861\n",
      "Epoch 5/20\n",
      "15000/15000 [==============================] - 2s 148us/step - loss: 0.1343 - acc: 0.9573 - val_loss: 0.2829 - val_acc: 0.8863\n",
      "Epoch 6/20\n",
      "15000/15000 [==============================] - 2s 150us/step - loss: 0.1131 - acc: 0.9643 - val_loss: 0.3030 - val_acc: 0.8850\n",
      "Epoch 7/20\n",
      "15000/15000 [==============================] - 2s 150us/step - loss: 0.0929 - acc: 0.9729 - val_loss: 0.3193 - val_acc: 0.8811\n",
      "Epoch 8/20\n",
      "15000/15000 [==============================] - 3s 169us/step - loss: 0.0762 - acc: 0.9795 - val_loss: 0.3415 - val_acc: 0.8799\n",
      "Epoch 9/20\n",
      "15000/15000 [==============================] - 2s 165us/step - loss: 0.0634 - acc: 0.9829 - val_loss: 0.3899 - val_acc: 0.8702\n",
      "Epoch 10/20\n",
      "15000/15000 [==============================] - 2s 162us/step - loss: 0.0510 - acc: 0.9871 - val_loss: 0.4412 - val_acc: 0.8662\n",
      "Epoch 11/20\n",
      "15000/15000 [==============================] - 3s 186us/step - loss: 0.0402 - acc: 0.9911 - val_loss: 0.4236 - val_acc: 0.8731\n",
      "Epoch 12/20\n",
      "15000/15000 [==============================] - 3s 172us/step - loss: 0.0342 - acc: 0.9924 - val_loss: 0.4432 - val_acc: 0.8735\n",
      "Epoch 13/20\n",
      "15000/15000 [==============================] - 2s 160us/step - loss: 0.0284 - acc: 0.9937 - val_loss: 0.4668 - val_acc: 0.8742\n",
      "Epoch 14/20\n",
      "15000/15000 [==============================] - 2s 165us/step - loss: 0.0209 - acc: 0.9957 - val_loss: 0.5007 - val_acc: 0.8718\n",
      "Epoch 15/20\n",
      "15000/15000 [==============================] - 3s 173us/step - loss: 0.0171 - acc: 0.9972 - val_loss: 0.5218 - val_acc: 0.8712\n",
      "Epoch 16/20\n",
      "15000/15000 [==============================] - 2s 167us/step - loss: 0.0099 - acc: 0.9992 - val_loss: 0.5768 - val_acc: 0.8680\n",
      "Epoch 17/20\n",
      "15000/15000 [==============================] - 2s 154us/step - loss: 0.0130 - acc: 0.9975 - val_loss: 0.5861 - val_acc: 0.8699\n",
      "Epoch 18/20\n",
      "15000/15000 [==============================] - 2s 166us/step - loss: 0.0058 - acc: 0.9997 - val_loss: 0.6167 - val_acc: 0.8688\n",
      "Epoch 19/20\n",
      "15000/15000 [==============================] - 2s 156us/step - loss: 0.0069 - acc: 0.9990 - val_loss: 0.6515 - val_acc: 0.8669\n",
      "Epoch 20/20\n",
      "15000/15000 [==============================] - 2s 159us/step - loss: 0.0029 - acc: 0.9999 - val_loss: 0.6965 - val_acc: 0.8643\n"
     ]
    }
   ],
   "source": [
    "history = model.fit(partial_x_train,                     \n",
    "                    partial_y_train,                     \n",
    "                    epochs=20,                     \n",
    "                    batch_size=512,                     \n",
    "                    validation_data=(x_val, y_val))"
   ]
  },
  {
   "cell_type": "code",
   "execution_count": 20,
   "metadata": {},
   "outputs": [],
   "source": [
    " history_dict = history.history "
   ]
  },
  {
   "cell_type": "code",
   "execution_count": 21,
   "metadata": {},
   "outputs": [
    {
     "data": {
      "text/plain": [
       "dict_keys(['val_loss', 'val_acc', 'loss', 'acc'])"
      ]
     },
     "execution_count": 21,
     "metadata": {},
     "output_type": "execute_result"
    }
   ],
   "source": [
    " history_dict.keys() "
   ]
  },
  {
   "cell_type": "code",
   "execution_count": 22,
   "metadata": {},
   "outputs": [],
   "source": [
    "import matplotlib.pyplot as plt "
   ]
  },
  {
   "cell_type": "code",
   "execution_count": 24,
   "metadata": {},
   "outputs": [
    {
     "data": {
      "image/png": "[encoded data removed]",
      "text/plain": [
       "<Figure size 432x288 with 1 Axes>"
      ]
     },
     "metadata": {
      "needs_background": "light"
     },
     "output_type": "display_data"
    }
   ],
   "source": [
    "history_dict = history.history \n",
    "loss_values = history_dict['loss'] \n",
    "val_loss_values = history_dict['val_loss'] \n",
    " \n",
    "epochs = range(1, len(loss_values) + 1) \n",
    " \n",
    "plt.plot(epochs, loss_values, 'bo', label='Training loss')   \n",
    "plt.plot(epochs, val_loss_values, 'b', label='Validation loss')   \n",
    "plt.title('Training and validation loss') \n",
    "plt.xlabel('Epochs') \n",
    "plt.ylabel('Loss') \n",
    "plt.legend() \n",
    " \n",
    "plt.show()\n"
   ]
  },
  {
   "cell_type": "code",
   "execution_count": 25,
   "metadata": {},
   "outputs": [
    {
     "data": {
      "image/png": "[encoded data removed]",
      "text/plain": [
       "<Figure size 432x288 with 1 Axes>"
      ]
     },
     "metadata": {
      "needs_background": "light"
     },
     "output_type": "display_data"
    }
   ],
   "source": [
    "plt.clf()    \n",
    "acc = history_dict['acc']  \n",
    "val_acc = history_dict['val_acc'] \n",
    " \n",
    "plt.plot(epochs, acc, 'bo', label='Training acc') \n",
    "plt.plot(epochs, val_acc, 'b', label='Validation acc') \n",
    "plt.title('Training and validation accuracy') \n",
    "plt.xlabel('Epochs') \n",
    "plt.ylabel('Accuracy') \n",
    "plt.legend() \n",
    " \n",
    "plt.show()"
   ]
  },
  {
   "cell_type": "code",
   "execution_count": 26,
   "metadata": {},
   "outputs": [
    {
     "name": "stdout",
     "output_type": "stream",
     "text": [
      "Epoch 1/4\n",
      "25000/25000 [==============================] - 4s 159us/step - loss: 0.4703 - acc: 0.8146\n",
      "Epoch 2/4\n",
      "25000/25000 [==============================] - 4s 143us/step - loss: 0.2678 - acc: 0.9084\n",
      "Epoch 3/4\n",
      "25000/25000 [==============================] - 3s 138us/step - loss: 0.2051 - acc: 0.9275\n",
      "Epoch 4/4\n",
      "25000/25000 [==============================] - 3s 121us/step - loss: 0.1710 - acc: 0.9399\n",
      "25000/25000 [==============================] - 5s 193us/step\n"
     ]
    }
   ],
   "source": [
    "model = models.Sequential() \n",
    "model.add(layers.Dense(16, activation='relu', input_shape=(10000,))) \n",
    "model.add(layers.Dense(16, activation='relu')) \n",
    "model.add(layers.Dense(1, activation='sigmoid')) \n",
    " \n",
    "model.compile(optimizer='rmsprop',               \n",
    "              loss='binary_crossentropy',              \n",
    "              metrics=['accuracy']) \n",
    " \n",
    "model.fit(x_train, y_train, epochs=4, batch_size=512) \n",
    "results = model.evaluate(x_test, y_test)"
   ]
  },
  {
   "cell_type": "code",
   "execution_count": 27,
   "metadata": {},
   "outputs": [
    {
     "data": {
      "text/plain": [
       "[0.3009917719554901, 0.87896]"
      ]
     },
     "execution_count": 27,
     "metadata": {},
     "output_type": "execute_result"
    }
   ],
   "source": [
    " results "
   ]
  },
  {
   "cell_type": "code",
   "execution_count": 30,
   "metadata": {},
   "outputs": [
    {
     "data": {
      "text/plain": [
       "array([[0.2200909 ],\n",
       "       [0.9991979 ],\n",
       "       [0.9200472 ],\n",
       "       ...,\n",
       "       [0.18021826],\n",
       "       [0.11102722],\n",
       "       [0.7716224 ]], dtype=float32)"
      ]
     },
     "execution_count": 30,
     "metadata": {},
     "output_type": "execute_result"
    }
   ],
   "source": [
    "model.predict(x_test)"
   ]
  },
  {
   "cell_type": "markdown",
   "metadata": {},
   "source": [
    "大于0.99或小于0.01表示非常确信，其他表示不是那么确信"
   ]
  }
 ],
 "metadata": {
  "kernelspec": {
   "display_name": "Python 3",
   "language": "python",
   "name": "python3"
  },
  "language_info": {
   "codemirror_mode": {
    "name": "ipython",
    "version": 3
   },
   "file_extension": ".py",
   "mimetype": "text/x-python",
   "name": "python",
   "nbconvert_exporter": "python",
   "pygments_lexer": "ipython3",
   "version": "3.7.1"
  }
 },
 "nbformat": 4,
 "nbformat_minor": 2
}
