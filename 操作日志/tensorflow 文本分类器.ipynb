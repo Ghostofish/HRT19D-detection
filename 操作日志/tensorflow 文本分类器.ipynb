{
 "cells": [
  {
   "cell_type": "markdown",
   "metadata": {},
   "source": [
    "# 垃圾邮件文本分类\n",
    "----\n",
    "使用tensorflow 重新进行文本分类，最终在测试集上的损失率降低至0.17 准确率达到0.95以上。"
   ]
  },
  {
   "cell_type": "code",
   "execution_count": 1,
   "metadata": {
    "collapsed": true
   },
   "outputs": [],
   "source": [
    "import tensorflow as tf\n",
    "from tensorflow import keras\n",
    "import numpy as np"
   ]
  },
  {
   "cell_type": "markdown",
   "metadata": {},
   "source": [
    "代码开始时先引入需要的包，Python 为解释行语言，所以可以在任何地方引入想要的包。\n",
    "\n",
    "import tensorflow as tf \n",
    "\n",
    "引入 tensorflow 这个包，并将这个包的名字重命名为 tf 这样就可以使用 tf.xxx 来调用 tf 包里的内容。\n",
    "\n",
    "\n",
    "from tensorflow import keras\n",
    "\n",
    "从tensorflow 中引入 keras 模块。 keras 中主要实现了高阶的机器学习网络模型，可以使网络的搭建更简单。"
   ]
  },
  {
   "cell_type": "code",
   "execution_count": 2,
   "metadata": {
    "collapsed": true
   },
   "outputs": [],
   "source": [
    "def load_data(file_path):\n",
    "    data=[]\n",
    "    label=[]\n",
    "    with open(file_path,\"r\") as data_file:\n",
    "        raw_data=data_file.readlines()\n",
    "        for raw_line in raw_data:\n",
    "            sample=raw_line[:-1]\n",
    "            sample=sample.split(\",\")\n",
    "            label.append(sample[-1])\n",
    "            sample=np.array([float(feature) for feature in sample[:-1]])\n",
    "            sample[-3]/=10\n",
    "            sample[-2]/=100\n",
    "            sample[-1]/=1000\n",
    "            data.append(sample)\n",
    "    return np.array(data),np.array(label)\n",
    "train_data,train_label=load_data(\"./spambase_train.data\")\n",
    "test_data,test_label=load_data(\"./spambase_test.data\")"
   ]
  },
  {
   "cell_type": "markdown",
   "metadata": {},
   "source": [
    "定义了一个从文件中读取数据的函数。"
   ]
  },
  {
   "cell_type": "code",
   "execution_count": 3,
   "metadata": {},
   "outputs": [
    {
     "data": {
      "text/plain": [
       "1377"
      ]
     },
     "execution_count": 3,
     "metadata": {},
     "output_type": "execute_result"
    }
   ],
   "source": [
    "len(test_data)"
   ]
  },
  {
   "cell_type": "code",
   "execution_count": 4,
   "metadata": {},
   "outputs": [
    {
     "data": {
      "text/plain": [
       "array([0.    , 0.42  , 0.42  , 0.    , 1.27  , 0.    , 0.42  , 0.    ,\n",
       "       0.    , 1.27  , 0.    , 0.    , 0.    , 0.    , 0.    , 1.27  ,\n",
       "       0.    , 0.    , 1.7   , 0.42  , 1.27  , 0.    , 0.    , 0.42  ,\n",
       "       0.    , 0.    , 0.    , 0.    , 0.    , 0.    , 0.    , 0.    ,\n",
       "       0.    , 0.    , 0.    , 0.    , 1.27  , 0.    , 0.    , 0.42  ,\n",
       "       0.    , 0.    , 0.    , 0.    , 0.    , 0.    , 0.    , 0.    ,\n",
       "       0.    , 0.063 , 0.    , 0.572 , 0.063 , 0.    , 0.5659, 0.55  ,\n",
       "       0.249 ])"
      ]
     },
     "execution_count": 4,
     "metadata": {},
     "output_type": "execute_result"
    }
   ],
   "source": [
    "train_data[10]"
   ]
  },
  {
   "cell_type": "markdown",
   "metadata": {},
   "source": [
    "keras 中的模型完全由 python 语言描述，相比之下，其它框架可能需要配置文件。\n",
    "\n",
    "下面这个模型共两层，其中第一层共57个结点，激活函数为 softmax ，第二层只有1个结点，激活函数为sigmoid。\n",
    "\n",
    "在模型定义好后需编译模型，这是可以选用优化器，损失函数和优化目标。这里使用的是对数损失函数，\n",
    "\n",
    "最终设定超参数，让模型去适应训练集和测试集。其中，所有训练样本完成一次正向传播和反向传播称为一个epoch。 batch_size 为在使用随机梯度下降时一组数据的数据量。"
   ]
  },
  {
   "cell_type": "code",
   "execution_count": 5,
   "metadata": {
    "collapsed": true
   },
   "outputs": [],
   "source": [
    "from tensorflow.keras import layers\n",
    "model = tf.keras.Sequential([\n",
    "layers.Dense(57, activation='softmax'),\n",
    "layers.Dense(1, activation='sigmoid')])"
   ]
  },
  {
   "cell_type": "code",
   "execution_count": 6,
   "metadata": {
    "collapsed": true
   },
   "outputs": [],
   "source": [
    "model.compile(optimizer=tf.train.AdamOptimizer(),\n",
    "              loss='binary_crossentropy',\n",
    "              metrics=['accuracy'])"
   ]
  },
  {
   "cell_type": "code",
   "execution_count": 7,
   "metadata": {},
   "outputs": [
    {
     "name": "stdout",
     "output_type": "stream",
     "text": [
      "Train on 3224 samples, validate on 1377 samples\n",
      "Epoch 1/40\n",
      "3224/3224 [==============================] - 0s 119us/step - loss: 0.6882 - acc: 0.5648 - val_loss: 0.6773 - val_acc: 0.8664\n",
      "Epoch 2/40\n",
      "3224/3224 [==============================] - 0s 21us/step - loss: 0.6690 - acc: 0.8530 - val_loss: 0.6571 - val_acc: 0.8497\n",
      "Epoch 3/40\n",
      "3224/3224 [==============================] - 0s 22us/step - loss: 0.6494 - acc: 0.8446 - val_loss: 0.6352 - val_acc: 0.8519\n",
      "Epoch 4/40\n",
      "3224/3224 [==============================] - 0s 23us/step - loss: 0.6279 - acc: 0.8551 - val_loss: 0.6118 - val_acc: 0.8693\n",
      "Epoch 5/40\n",
      "3224/3224 [==============================] - 0s 23us/step - loss: 0.6049 - acc: 0.8629 - val_loss: 0.5870 - val_acc: 0.8802\n",
      "Epoch 6/40\n",
      "3224/3224 [==============================] - 0s 24us/step - loss: 0.5814 - acc: 0.8762 - val_loss: 0.5629 - val_acc: 0.8838\n",
      "Epoch 7/40\n",
      "3224/3224 [==============================] - 0s 28us/step - loss: 0.5587 - acc: 0.8824 - val_loss: 0.5399 - val_acc: 0.8896\n",
      "Epoch 8/40\n",
      "3224/3224 [==============================] - 0s 35us/step - loss: 0.5373 - acc: 0.8840 - val_loss: 0.5182 - val_acc: 0.8962\n",
      "Epoch 9/40\n",
      "3224/3224 [==============================] - 0s 35us/step - loss: 0.5172 - acc: 0.8896 - val_loss: 0.4984 - val_acc: 0.8969\n",
      "Epoch 10/40\n",
      "3224/3224 [==============================] - 0s 29us/step - loss: 0.4985 - acc: 0.8952 - val_loss: 0.4798 - val_acc: 0.9063\n",
      "Epoch 11/40\n",
      "3224/3224 [==============================] - 0s 24us/step - loss: 0.4812 - acc: 0.9004 - val_loss: 0.4627 - val_acc: 0.9078\n",
      "Epoch 12/40\n",
      "3224/3224 [==============================] - 0s 21us/step - loss: 0.4651 - acc: 0.9051 - val_loss: 0.4468 - val_acc: 0.9099\n",
      "Epoch 13/40\n",
      "3224/3224 [==============================] - 0s 22us/step - loss: 0.4501 - acc: 0.9085 - val_loss: 0.4321 - val_acc: 0.9136\n",
      "Epoch 14/40\n",
      "3224/3224 [==============================] - 0s 27us/step - loss: 0.4363 - acc: 0.9107 - val_loss: 0.4182 - val_acc: 0.9158\n",
      "Epoch 15/40\n",
      "3224/3224 [==============================] - 0s 29us/step - loss: 0.4233 - acc: 0.9116 - val_loss: 0.4054 - val_acc: 0.9216\n",
      "Epoch 16/40\n",
      "3224/3224 [==============================] - 0s 28us/step - loss: 0.4113 - acc: 0.9116 - val_loss: 0.3934 - val_acc: 0.9237\n",
      "Epoch 17/40\n",
      "3224/3224 [==============================] - 0s 26us/step - loss: 0.4001 - acc: 0.9144 - val_loss: 0.3823 - val_acc: 0.9252\n",
      "Epoch 18/40\n",
      "3224/3224 [==============================] - 0s 25us/step - loss: 0.3896 - acc: 0.9159 - val_loss: 0.3718 - val_acc: 0.9267\n",
      "Epoch 19/40\n",
      "3224/3224 [==============================] - 0s 25us/step - loss: 0.3800 - acc: 0.9187 - val_loss: 0.3621 - val_acc: 0.9267\n",
      "Epoch 20/40\n",
      "3224/3224 [==============================] - 0s 25us/step - loss: 0.3709 - acc: 0.9203 - val_loss: 0.3530 - val_acc: 0.9288\n",
      "Epoch 21/40\n",
      "3224/3224 [==============================] - 0s 25us/step - loss: 0.3626 - acc: 0.9212 - val_loss: 0.3446 - val_acc: 0.9296\n",
      "Epoch 22/40\n",
      "3224/3224 [==============================] - 0s 25us/step - loss: 0.3547 - acc: 0.9234 - val_loss: 0.3367 - val_acc: 0.9288\n",
      "Epoch 23/40\n",
      "3224/3224 [==============================] - 0s 22us/step - loss: 0.3473 - acc: 0.9243 - val_loss: 0.3292 - val_acc: 0.9310\n",
      "Epoch 24/40\n",
      "3224/3224 [==============================] - 0s 26us/step - loss: 0.3403 - acc: 0.9252 - val_loss: 0.3223 - val_acc: 0.9332\n",
      "Epoch 25/40\n",
      "3224/3224 [==============================] - 0s 26us/step - loss: 0.3336 - acc: 0.9268 - val_loss: 0.3156 - val_acc: 0.9346\n",
      "Epoch 26/40\n",
      "3224/3224 [==============================] - 0s 25us/step - loss: 0.3269 - acc: 0.9265 - val_loss: 0.3093 - val_acc: 0.9346\n",
      "Epoch 27/40\n",
      "3224/3224 [==============================] - 0s 26us/step - loss: 0.3205 - acc: 0.9274 - val_loss: 0.3033 - val_acc: 0.9368\n",
      "Epoch 28/40\n",
      "3224/3224 [==============================] - 0s 31us/step - loss: 0.3143 - acc: 0.9321 - val_loss: 0.2979 - val_acc: 0.9354\n",
      "Epoch 29/40\n",
      "3224/3224 [==============================] - 0s 29us/step - loss: 0.3087 - acc: 0.9311 - val_loss: 0.2927 - val_acc: 0.9354\n",
      "Epoch 30/40\n",
      "3224/3224 [==============================] - 0s 25us/step - loss: 0.3035 - acc: 0.9321 - val_loss: 0.2878 - val_acc: 0.9383\n",
      "Epoch 31/40\n",
      "3224/3224 [==============================] - 0s 26us/step - loss: 0.2987 - acc: 0.9324 - val_loss: 0.2830 - val_acc: 0.9383\n",
      "Epoch 32/40\n",
      "3224/3224 [==============================] - 0s 24us/step - loss: 0.2940 - acc: 0.9318 - val_loss: 0.2787 - val_acc: 0.9397\n",
      "Epoch 33/40\n",
      "3224/3224 [==============================] - 0s 25us/step - loss: 0.2896 - acc: 0.9330 - val_loss: 0.2746 - val_acc: 0.9390\n",
      "Epoch 34/40\n",
      "3224/3224 [==============================] - 0s 30us/step - loss: 0.2853 - acc: 0.9318 - val_loss: 0.2706 - val_acc: 0.9397\n",
      "Epoch 35/40\n",
      "3224/3224 [==============================] - 0s 28us/step - loss: 0.2813 - acc: 0.9318 - val_loss: 0.2669 - val_acc: 0.9397\n",
      "Epoch 36/40\n",
      "3224/3224 [==============================] - 0s 25us/step - loss: 0.2775 - acc: 0.9330 - val_loss: 0.2635 - val_acc: 0.9405\n",
      "Epoch 37/40\n",
      "3224/3224 [==============================] - 0s 25us/step - loss: 0.2738 - acc: 0.9324 - val_loss: 0.2599 - val_acc: 0.9397\n",
      "Epoch 38/40\n",
      "3224/3224 [==============================] - 0s 25us/step - loss: 0.2703 - acc: 0.9327 - val_loss: 0.2567 - val_acc: 0.9397\n",
      "Epoch 39/40\n",
      "3224/3224 [==============================] - 0s 26us/step - loss: 0.2669 - acc: 0.9324 - val_loss: 0.2536 - val_acc: 0.9419\n",
      "Epoch 40/40\n",
      "3224/3224 [==============================] - 0s 26us/step - loss: 0.2636 - acc: 0.9330 - val_loss: 0.2508 - val_acc: 0.9412\n"
     ]
    }
   ],
   "source": [
    "history = model.fit(train_data,\n",
    "                    train_label,\n",
    "                    epochs=40,\n",
    "                    batch_size=100,\n",
    "                    validation_data=(test_data, test_label),\n",
    "                    verbose=1)"
   ]
  },
  {
   "cell_type": "code",
   "execution_count": 8,
   "metadata": {
    "collapsed": true
   },
   "outputs": [],
   "source": [
    "history_dict = history.history\n",
    "history_dict.keys()\n",
    "dict_keys=['loss', 'val_loss', 'val_acc', 'acc']"
   ]
  },
  {
   "cell_type": "code",
   "execution_count": 9,
   "metadata": {},
   "outputs": [
    {
     "data": {
      "image/png": "[encoded data removed]",
      "text/plain": [
       "<Figure size 432x288 with 1 Axes>"
      ]
     },
     "metadata": {},
     "output_type": "display_data"
    }
   ],
   "source": [
    "import matplotlib.pyplot as plt\n",
    "%matplotlib inline\n",
    "acc = history.history['acc']\n",
    "val_acc = history.history['val_acc']\n",
    "loss = history.history['loss']\n",
    "val_loss = history.history['val_loss']\n",
    "\n",
    "epochs = range(1, len(acc) + 1)\n",
    "\n",
    "# \"bo\" is for \"blue dot\"\n",
    "plt.plot(epochs, loss, 'bo', label='Training loss')\n",
    "# b is for \"solid blue line\"\n",
    "plt.plot(epochs, val_loss, 'b', label='Validation loss')\n",
    "plt.title('Training and validation loss')\n",
    "plt.xlabel('Epochs')\n",
    "plt.ylabel('Loss')\n",
    "plt.legend()\n",
    "\n",
    "plt.show()"
   ]
  },
  {
   "cell_type": "code",
   "execution_count": 10,
   "metadata": {},
   "outputs": [
    {
     "data": {
      "image/png": "[encoded data removed]",
      "text/plain": [
       "<Figure size 432x288 with 1 Axes>"
      ]
     },
     "metadata": {},
     "output_type": "display_data"
    }
   ],
   "source": [
    "acc_values = history_dict['acc']\n",
    "val_acc_values = history_dict['val_acc']\n",
    "\n",
    "plt.plot(epochs, acc, 'bo', label='Training acc')\n",
    "plt.plot(epochs, val_acc, 'b', label='Validation acc')\n",
    "plt.title('Training and validation accuracy')\n",
    "plt.xlabel('Epochs')\n",
    "plt.ylabel('Accuracy')\n",
    "plt.legend()\n",
    "\n",
    "plt.show()"
   ]
  },
  {
   "cell_type": "code",
   "execution_count": 11,
   "metadata": {
    "collapsed": true
   },
   "outputs": [],
   "source": [
    "predictions = model.predict(train_data)"
   ]
  },
  {
   "cell_type": "code",
   "execution_count": 12,
   "metadata": {
    "collapsed": true
   },
   "outputs": [],
   "source": [
    "def load_prediction_data(file_path):\n",
    "    data=[]\n",
    "    with open(file_path,\"r\") as data_file:\n",
    "        raw_data=data_file.readlines()\n",
    "        for raw_line in raw_data:\n",
    "            sample=raw_line[:-1]\n",
    "            sample=sample.split(\",\")\n",
    "            sample=np.array([float(feature) for feature in sample])\n",
    "            sample[-3]/=10\n",
    "            sample[-2]/=100\n",
    "            sample[-1]/=1000\n",
    "            data.append(sample)\n",
    "    return np.array(data)\n",
    "prediction_data=load_prediction_data(\".\\get_the_flag.data\")"
   ]
  },
  {
   "cell_type": "code",
   "execution_count": 13,
   "metadata": {
    "collapsed": true
   },
   "outputs": [],
   "source": [
    "predictions = model.predict(prediction_data)"
   ]
  },
  {
   "cell_type": "code",
   "execution_count": 14,
   "metadata": {},
   "outputs": [
    {
     "name": "stdout",
     "output_type": "stream",
     "text": [
      "10001001110101110100111011011100100101111110000011001001"
     ]
    },
    {
     "data": {
      "image/png": "[encoded data removed]",
      "text/plain": [
       "<Figure size 3600x72 with 1 Axes>"
      ]
     },
     "metadata": {},
     "output_type": "display_data"
    }
   ],
   "source": [
    "data_show=[]\n",
    "count = 0\n",
    "num = 1\n",
    "for i in predictions:\n",
    "    if i[0]<0.5:\n",
    "        data_show.append(0)\n",
    "    else:\n",
    "        data_show.append(1)\n",
    "        count += 1\n",
    "        \n",
    "    if num%10 == 0:\n",
    "        if count>5:\n",
    "            print('1',end =\"\")\n",
    "        else:\n",
    "            print('0',end =\"\")\n",
    "        count=0\n",
    "    num+=1\n",
    "        \n",
    "        \n",
    "plt.rcParams['figure.figsize'] = (50.0, 1.0) \n",
    "plt.scatter(range(len(data_show)),data_show,linewidth=0.1,s=10)\n",
    "plt.show()"
   ]
  },
  {
   "cell_type": "code",
   "execution_count": null,
   "metadata": {
    "collapsed": true
   },
   "outputs": [],
   "source": []
  },
  {
   "cell_type": "code",
   "execution_count": null,
   "metadata": {
    "collapsed": true
   },
   "outputs": [],
   "source": []
  }
 ],
 "metadata": {
  "kernelspec": {
   "display_name": "Python 3",
   "language": "python",
   "name": "python3"
  },
  "language_info": {
   "codemirror_mode": {
    "name": "ipython",
    "version": 3
   },
   "file_extension": ".py",
   "mimetype": "text/x-python",
   "name": "python",
   "nbconvert_exporter": "python",
   "pygments_lexer": "ipython3",
   "version": "3.6.2"
  }
 },
 "nbformat": 4,
 "nbformat_minor": 2
}
