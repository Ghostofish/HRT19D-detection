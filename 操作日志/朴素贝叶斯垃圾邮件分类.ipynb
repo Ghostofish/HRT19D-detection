{
 "cells": [
  {
   "cell_type": "markdown",
   "metadata": {},
   "source": [
    "# 朴素贝叶斯分类器\n",
    "----\n",
    "数据集来自UCI spambase 垃圾邮件数据集。通过处理将远数据集按照3：7的比例分为了训练集和测试集。\n",
    "http://archive.ics.uci.edu/ml/datasets/spambase"
   ]
  },
  {
   "cell_type": "code",
   "execution_count": 44,
   "metadata": {
    "collapsed": true
   },
   "outputs": [],
   "source": [
    "import os\n",
    "with open(\"./train.data\",\"r\") as file_spambase:\n",
    "   spambasedata=file_spambase.readlines()\n",
    "#读入文件"
   ]
  },
  {
   "cell_type": "markdown",
   "metadata": {},
   "source": [
    "训练用数据集的大小为 3224"
   ]
  },
  {
   "cell_type": "code",
   "execution_count": 45,
   "metadata": {},
   "outputs": [
    {
     "data": {
      "text/plain": [
       "3224"
      ]
     },
     "execution_count": 45,
     "metadata": {},
     "output_type": "execute_result"
    }
   ],
   "source": [
    "len(spambasedata)"
   ]
  },
  {
   "cell_type": "markdown",
   "metadata": {},
   "source": [
    "每行数据共58行，分别是：\n",
    "\n",
    "|     |单词出现频率|字符出现频率|平均词长|最长词长|总词长|分类|\n",
    "|----|----|----|----|----|----|----|\n",
    "|个数|48|6|1|1|1|1|\n",
    "|类型|实数|实数|实数|整数|整数|布尔|"
   ]
  },
  {
   "cell_type": "code",
   "execution_count": 46,
   "metadata": {},
   "outputs": [
    {
     "data": {
      "text/plain": [
       "'0,0.64,0.64,0,0.32,0,0,0,0,0,0,0.64,0,0,0,0.32,0,1.29,1.93,0,0.96,0,0,0,0,0,0,0,0,0,0,0,0,0,0,0,0,0,0,0,0,0,0,0,0,0,0,0,0,0,0,0.778,0,0,3.756,61,278,1\\n'"
      ]
     },
     "execution_count": 46,
     "metadata": {},
     "output_type": "execute_result"
    }
   ],
   "source": [
    "spambasedata[0]"
   ]
  },
  {
   "cell_type": "code",
   "execution_count": 47,
   "metadata": {
    "collapsed": true
   },
   "outputs": [],
   "source": [
    "spambase_list=[]\n",
    "for sample in spambasedata:\n",
    "    sample=sample[:-1]\n",
    "    sample=sample.split(\",\")\n",
    "    if len(sample)==58:\n",
    "        sample=[float(feature) for feature in sample]\n",
    "        sample[-3]=int(sample[-3]/10)\n",
    "        sample[-2]=int(sample[-2]/100)\n",
    "        spambase_list.append(sample)\n",
    "#对样本做一些处理后存储在spambase_list中"
   ]
  },
  {
   "cell_type": "markdown",
   "metadata": {},
   "source": [
    "首先求样本中正例和负例的频率"
   ]
  },
  {
   "cell_type": "code",
   "execution_count": 48,
   "metadata": {
    "collapsed": true
   },
   "outputs": [],
   "source": [
    "positive_frequency=0.0\n",
    "negetive_frequency=0.0\n",
    "positive_samples=[]\n",
    "negetive_samples=[]\n",
    "for sample in spambase_list:\n",
    "    if sample[-1]==1:\n",
    "        positive_samples.append(sample)\n",
    "    else:\n",
    "        negetive_samples.append(sample)\n",
    "#将正例即“1”和负例即“0”分类统计\n",
    "positive_frequency=len(positive_samples)/len(spambase_list)\n",
    "negetive_frequency=len(negetive_samples)/len(spambase_list)"
   ]
  },
  {
   "cell_type": "code",
   "execution_count": 49,
   "metadata": {},
   "outputs": [
    {
     "name": "stdout",
     "output_type": "stream",
     "text": [
      "1270\n",
      "1954\n",
      "0.3939205955334988\n",
      "0.6060794044665012\n",
      "2\n"
     ]
    }
   ],
   "source": [
    "print(len(positive_samples))\n",
    "print(len(negetive_samples))\n",
    "print(positive_frequency)\n",
    "print(negetive_frequency)\n",
    "print(int(positive_samples[0][-2]))\n",
    "#打印正例和负例的个数、概率、以及第一个正例的经处理后的总词长"
   ]
  },
  {
   "cell_type": "markdown",
   "metadata": {},
   "source": [
    "基于贝叶斯分类器来计算P(c|x)需先做属性条件独立性假设。对于离散属性只需用频率表示其条件概率，对于连续属性，假设其服从正态分布，然后考虑其概率密度函数。\n",
    "离散属性有最长词长，总词长。为修正未出现过的数据，进行平滑处理"
   ]
  },
  {
   "cell_type": "code",
   "execution_count": 50,
   "metadata": {
    "collapsed": true
   },
   "outputs": [],
   "source": [
    "import numpy as np\n",
    "length_longest_positive=np.ones(100)\n",
    "length_longest_negetive=np.ones(100)\n",
    "length_total_positive=np.ones(500)\n",
    "length_total_negetive=np.ones(500)\n",
    "#np.ones()创建指定大小的数组，数组元素初始化为1\n",
    "for sample in positive_samples:\n",
    "    if sample[-3]<100:\n",
    "        length_longest_positive[int(sample[-3])]+=1\n",
    "    if sample[-2]<500:\n",
    "        length_total_positive[int(sample[-2])]+=1\n",
    "for sample in negetive_samples:\n",
    "    if sample[-3]<100:\n",
    "        length_longest_negetive[int(sample[-3])]+=1\n",
    "    if sample[-2]<500:\n",
    "        length_total_negetive[int(sample[-2])]+=1\n",
    "#计算具有相同最长词数和相同总词数的个数\n",
    "length_longest_positive/=length_longest_positive.sum()\n",
    "length_longest_negetive/=length_longest_negetive.sum()\n",
    "length_total_positive/=length_total_positive.sum()\n",
    "length_total_negetive/=length_total_negetive.sum()\n",
    "#计算具有相同最长词数和相同总词数的概率"
   ]
  },
  {
   "cell_type": "markdown",
   "metadata": {},
   "source": [
    "假设连续属性服从正态分布，求其概率密度时只需求分布函数的均值和方差即可"
   ]
  },
  {
   "cell_type": "code",
   "execution_count": 51,
   "metadata": {
    "collapsed": true
   },
   "outputs": [],
   "source": [
    "words_average_positive=np.zeros(56)\n",
    "words_average_negetive=np.zeros(56)\n",
    "words_variance_positive=np.zeros(56)\n",
    "words_variance_negetive=np.zeros(56)\n",
    "#np.zeros()创建指定大小的数组，数组元素初始化为0\n",
    "for i in range(56):\n",
    "    feature_list=[feature[i] for feature in positive_samples]\n",
    "    words_average_positive[i]=np.array(feature_list,dtype='float').mean()\n",
    "    words_variance_positive[i]=np.array(feature_list,dtype='float').var()\n",
    "for i in range(56):\n",
    "    feature_list=[feature[i] for feature in negetive_samples]\n",
    "    words_average_negetive[i]=np.array(feature_list,dtype='float').mean()\n",
    "    words_variance_negetive[i]=np.array(feature_list,dtype='float').var()\n",
    "#np.mean()函数,返回数组中元素的平均值,如果提供了轴，则沿轴计算。\n",
    "#np.var()函数，返回数组中元素的方差。"
   ]
  },
  {
   "cell_type": "markdown",
   "metadata": {},
   "source": [
    "到这里就进行完了所有的训练过程，下面在训练集上先测试一下正确率"
   ]
  },
  {
   "cell_type": "code",
   "execution_count": 52,
   "metadata": {},
   "outputs": [
    {
     "name": "stdout",
     "output_type": "stream",
     "text": [
      "2625\n",
      "599\n"
     ]
    }
   ],
   "source": [
    "guess_right=0\n",
    "guess_error=0\n",
    "for sample in spambase_list:\n",
    "    try:\n",
    "        p_positive=1\n",
    "        p_negetive=1\n",
    "        for i in range(56):\n",
    "            p_negetive*=np.exp(-pow(sample[i]-words_average_negetive[i],2)/(2*words_variance_negetive[i]))/np.sqrt(2*np.pi*words_variance_negetive[i])\n",
    "        #p_negetive*=length_longest_negetive[int(sample[55])]\n",
    "        #p_negetive*=length_total_negetive[int(sample[56])]\n",
    "        for i in range(56):\n",
    "            p_positive*=np.exp(-pow(sample[i]-words_average_positive[i],2)/(2*words_variance_positive[i]))/np.sqrt(2*np.pi*words_variance_positive[i])\n",
    "        #p_positive*=length_longest_positive[int(sample[55])]\n",
    "        #p_positive*=length_total_positive[int(sample[56])]\n",
    "        guess_class=0\n",
    "        if p_positive>p_negetive:\n",
    "            guess_class=1\n",
    "        if guess_class==sample[-1]:\n",
    "            guess_right+=1\n",
    "        else:\n",
    "            guess_error+=1\n",
    "    except:\n",
    "        print(sample)\n",
    "print(guess_right)\n",
    "print(guess_error)"
   ]
  },
  {
   "cell_type": "code",
   "execution_count": 53,
   "metadata": {},
   "outputs": [
    {
     "data": {
      "text/plain": [
       "0.8142059553349876"
      ]
     },
     "execution_count": 53,
     "metadata": {},
     "output_type": "execute_result"
    }
   ],
   "source": [
    "guess_right/(guess_right+guess_error)"
   ]
  },
  {
   "cell_type": "markdown",
   "metadata": {},
   "source": [
    "采取这种分类措施在训练集上的分类识别率达到0.81.下面使用测试集检验结果。"
   ]
  },
  {
   "cell_type": "code",
   "execution_count": 54,
   "metadata": {},
   "outputs": [
    {
     "data": {
      "image/png": "[encoded data removed]",
      "text/plain": [
       "<matplotlib.figure.Figure at 0x1903c20a940>"
      ]
     },
     "metadata": {},
     "output_type": "display_data"
    },
    {
     "name": "stdout",
     "output_type": "stream",
     "text": [
      "1141\n",
      "236\n"
     ]
    }
   ],
   "source": [
    "import matplotlib.pyplot as plt\n",
    "with open(\"./test.data\",\"r\") as file_spambase:\n",
    "   spambasedata_test=file_spambase.readlines()\n",
    "spambase_test_list=[]\n",
    "for sample in spambasedata_test:\n",
    "    sample=sample[:-1]\n",
    "    sample=sample.split(\",\")\n",
    "    if len(sample)==58:\n",
    "        sample=[float(feature) for feature in sample]\n",
    "        sample[-3]=int(sample[-3]/10)\n",
    "        sample[-2]=int(sample[-2]/100)\n",
    "        spambase_test_list.append(sample)\n",
    "guess_right=0\n",
    "guess_error=0\n",
    "guess_f = []\n",
    "for sample in spambase_test_list:\n",
    "    try:\n",
    "        p_positive=1\n",
    "        p_negetive=1\n",
    "        for i in range(56):\n",
    "            p_negetive*=np.exp(-pow(sample[i]-words_average_negetive[i],2)/(2*words_variance_negetive[i]))/np.sqrt(2*np.pi*words_variance_negetive[i])\n",
    "        #p_negetive*=length_longest_negetive[int(sample[55])]\n",
    "        #p_negetive*=length_total_negetive[int(sample[56])]\n",
    "        for i in range(56):\n",
    "            p_positive*=np.exp(-pow(sample[i]-words_average_positive[i],2)/(2*words_variance_positive[i]))/np.sqrt(2*np.pi*words_variance_positive[i])\n",
    "        #p_positive*=length_longest_positive[int(sample[55])]\n",
    "        #p_positive*=length_total_positive[int(sample[56])]\n",
    "        guess_class=0\n",
    "        if p_positive>p_negetive:\n",
    "            guess_class=1\n",
    "        if guess_class==sample[-1]:\n",
    "            guess_right+=1\n",
    "        else:\n",
    "            guess_error+=1\n",
    "        guess_f.append(guess_right/(guess_right+guess_error))\n",
    "    except:\n",
    "        print(sample)\n",
    "x = np.linspace(0, len(guess_f), len(guess_f))\n",
    "y = guess_f\n",
    "plt.plot(x, y)\n",
    "plt.show()\n",
    "print(guess_right)\n",
    "print(guess_error)"
   ]
  },
  {
   "cell_type": "code",
   "execution_count": 55,
   "metadata": {},
   "outputs": [
    {
     "name": "stdout",
     "output_type": "stream",
     "text": [
      "560\n"
     ]
    }
   ],
   "source": [
    "with open(\"./get_the_flag.data\",\"r\") as file_spambase:\n",
    "   spambasedata_flag = file_spambase.readlines()\n",
    "spambase_flag_list=[]\n",
    "for sample in spambasedata_flag:\n",
    "    sample=sample[:-1]\n",
    "    sample=sample.split(\",\")\n",
    "    if len(sample)==57:\n",
    "        sample=[float(feature) for feature in sample]\n",
    "        sample[-3]=int(sample[-3]/10)\n",
    "        sample[-2]=int(sample[-2]/100)\n",
    "        spambase_flag_list.append(sample)\n",
    "#对数据的一些处理\n",
    "guess_flag_f=[]\n",
    "for sample in spambase_flag_list:\n",
    "    try:\n",
    "        p_positive=1\n",
    "        p_negetive=1\n",
    "        for i in range(56):\n",
    "            p_negetive*=np.exp(-pow(sample[i]-words_average_negetive[i],2)/(2*words_variance_negetive[i]))/np.sqrt(2*np.pi*words_variance_negetive[i])\n",
    "        #p_negetive*=length_longest_negetive[int(sample[55])]\n",
    "        #p_negetive*=length_total_negetive[int(sample[56])]\n",
    "        for i in range(56):\n",
    "            p_positive*=np.exp(-pow(sample[i]-words_average_positive[i],2)/(2*words_variance_positive[i]))/np.sqrt(2*np.pi*words_variance_positive[i])\n",
    "        #p_positive*=length_longest_positive[int(sample[55])]\n",
    "        #p_positive*=length_total_positive[int(sample[56])]\n",
    "        guess_flag_class=0\n",
    "        if p_positive>p_negetive:\n",
    "            guess_flag_f.append(1)\n",
    "        else:\n",
    "            guess_flag_f.append(0)\n",
    "    except:\n",
    "        print(sample)\n",
    "print(len(spambase_flag_list))"
   ]
  },
  {
   "cell_type": "code",
   "execution_count": 56,
   "metadata": {},
   "outputs": [
    {
     "name": "stdout",
     "output_type": "stream",
     "text": [
      "[1, 0, 0, 0, 1, 0, 0, 1, 1, 1, 0, 1, 0, 1, 1, 1, 0, 1, 0, 0, 1, 1, 1, 0, 1, 1, 0, 1, 1, 1, 0, 0, 1, 0, 0, 1, 0, 1, 1, 1, 1, 1, 1, 0, 0, 0, 0, 0, 1, 1, 0, 0, 1, 0, 0]\n"
     ]
    }
   ],
   "source": [
    "forcase_end = []\n",
    "i = 0\n",
    "t = 0\n",
    "while(i<560):\n",
    "    if(guess_flag_f[i] == 1):\n",
    "        t = t + 1\n",
    "    if(i % 10 == 0):\n",
    "        if(t > 5):\n",
    "            forcase_end.append(1)\n",
    "        else:\n",
    "            forcase_end.append(0)\n",
    "        t = 0\n",
    "    i = i + 1\n",
    "print(forcase_end[1:])"
   ]
  },
  {
   "cell_type": "code",
   "execution_count": null,
   "metadata": {
    "collapsed": true
   },
   "outputs": [],
   "source": []
  }
 ],
 "metadata": {
  "kernelspec": {
   "display_name": "Python 3",
   "language": "python",
   "name": "python3"
  },
  "language_info": {
   "codemirror_mode": {
    "name": "ipython",
    "version": 3
   },
   "file_extension": ".py",
   "mimetype": "text/x-python",
   "name": "python",
   "nbconvert_exporter": "python",
   "pygments_lexer": "ipython3",
   "version": "3.6.3"
  }
 },
 "nbformat": 4,
 "nbformat_minor": 2
}
