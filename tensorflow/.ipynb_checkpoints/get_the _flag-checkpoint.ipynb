{
 "cells": [
  {
   "cell_type": "code",
   "execution_count": 48,
   "metadata": {},
   "outputs": [],
   "source": [
    "import numpy as np"
   ]
  },
  {
   "cell_type": "code",
   "execution_count": 49,
   "metadata": {},
   "outputs": [
    {
     "name": "stdout",
     "output_type": "stream",
     "text": [
      "[[0.     0.64   0.64   ... 0.3756 0.61   0.278 ]\n",
      " [0.06   0.     0.71   ... 0.9821 4.85   2.259 ]\n",
      " [0.     0.     0.     ... 0.3537 0.4    0.191 ]\n",
      " ...\n",
      " [0.3    0.     0.3    ... 0.1404 0.06   0.118 ]\n",
      " [0.96   0.     0.     ... 0.1147 0.05   0.078 ]\n",
      " [0.     0.     0.65   ... 0.125  0.05   0.04  ]] ['1' '1' '1' ... '0' '0' '0']\n",
      "[[0.21   0.28   0.5    ... 0.5114 1.01   1.028 ]\n",
      " [0.     0.     0.     ... 0.3537 0.4    0.191 ]\n",
      " [0.     0.69   0.34   ... 0.3728 0.61   0.261 ]\n",
      " ...\n",
      " [0.     0.     0.     ... 0.1    0.01   0.006 ]\n",
      " [0.     0.     0.     ... 0.1727 0.05   0.019 ]\n",
      " [0.     0.     1.19   ... 0.1    0.01   0.024 ]] ['1' '1' '1' ... '0' '0' '0']\n"
     ]
    }
   ],
   "source": [
    "def load_data(file_path):\n",
    "    data=[]\n",
    "    label=[]\n",
    "    with open(file_path,\"r\") as data_file:\n",
    "        raw_data=data_file.readlines()\n",
    "        for raw_line in raw_data:\n",
    "            sample=raw_line[:-1]\n",
    "            sample=sample.split(\",\")\n",
    "            label.append(sample[-1])\n",
    "            sample=np.array([float(feature) for feature in sample[:-1]])\n",
    "            sample[-3]/=10\n",
    "            sample[-2]/=100\n",
    "            sample[-1]/=1000\n",
    "            data.append(sample)\n",
    "    return np.array(data),np.array(label)\n",
    "train_data,train_label=load_data(\"train.data\")\n",
    "test_data,test_label=load_data(\"test.data\")\n",
    "print(train_data,train_label)\n",
    "print(test_data,test_label)"
   ]
  },
  {
   "cell_type": "code",
   "execution_count": 50,
   "metadata": {},
   "outputs": [
    {
     "data": {
      "text/plain": [
       "1377"
      ]
     },
     "execution_count": 50,
     "metadata": {},
     "output_type": "execute_result"
    }
   ],
   "source": [
    "len(test_data)\n"
   ]
  },
  {
   "cell_type": "code",
   "execution_count": 51,
   "metadata": {},
   "outputs": [
    {
     "data": {
      "text/plain": [
       "array([0.    , 0.42  , 0.42  , 0.    , 1.27  , 0.    , 0.42  , 0.    ,\n",
       "       0.    , 1.27  , 0.    , 0.    , 0.    , 0.    , 0.    , 1.27  ,\n",
       "       0.    , 0.    , 1.7   , 0.42  , 1.27  , 0.    , 0.    , 0.42  ,\n",
       "       0.    , 0.    , 0.    , 0.    , 0.    , 0.    , 0.    , 0.    ,\n",
       "       0.    , 0.    , 0.    , 0.    , 1.27  , 0.    , 0.    , 0.42  ,\n",
       "       0.    , 0.    , 0.    , 0.    , 0.    , 0.    , 0.    , 0.    ,\n",
       "       0.    , 0.063 , 0.    , 0.572 , 0.063 , 0.    , 0.5659, 0.55  ,\n",
       "       0.249 ])"
      ]
     },
     "execution_count": 51,
     "metadata": {},
     "output_type": "execute_result"
    }
   ],
   "source": [
    "train_data[10]"
   ]
  },
  {
   "cell_type": "code",
   "execution_count": 52,
   "metadata": {},
   "outputs": [],
   "source": [
    "import tensorflow as tf\n",
    "from tensorflow import keras "
   ]
  },
  {
   "cell_type": "code",
   "execution_count": 53,
   "metadata": {},
   "outputs": [],
   "source": [
    "from tensorflow.keras import layers\n",
    "model = tf.keras.Sequential([\n",
    "layers.Dense(57, activation='softmax'),\n",
    "layers.Dense(1, activation='relu')])"
   ]
  },
  {
   "cell_type": "code",
   "execution_count": 54,
   "metadata": {},
   "outputs": [],
   "source": [
    "model.compile(optimizer=tf.train.AdamOptimizer(),\n",
    "              loss='binary_crossentropy',\n",
    "              metrics=['accuracy'])"
   ]
  },
  {
   "cell_type": "code",
   "execution_count": 55,
   "metadata": {},
   "outputs": [
    {
     "name": "stdout",
     "output_type": "stream",
     "text": [
      "Train on 3224 samples, validate on 1377 samples\n",
      "Epoch 1/60\n",
      "3224/3224 [==============================] - 1s 163us/step - loss: 1.4341 - acc: 0.6061 - val_loss: 0.9962 - val_acc: 0.6057\n",
      "Epoch 2/60\n",
      "3224/3224 [==============================] - 0s 39us/step - loss: 0.9249 - acc: 0.6061 - val_loss: 0.8586 - val_acc: 0.6057\n",
      "Epoch 3/60\n",
      "3224/3224 [==============================] - 0s 39us/step - loss: 0.8260 - acc: 0.6061 - val_loss: 0.7799 - val_acc: 0.6057\n",
      "Epoch 4/60\n",
      "3224/3224 [==============================] - 0s 36us/step - loss: 0.7582 - acc: 0.6061 - val_loss: 0.7217 - val_acc: 0.6057\n",
      "Epoch 5/60\n",
      "3224/3224 [==============================] - 0s 39us/step - loss: 0.7066 - acc: 0.6061 - val_loss: 0.6769 - val_acc: 0.6057\n",
      "Epoch 6/60\n",
      "3224/3224 [==============================] - 0s 35us/step - loss: 0.6656 - acc: 0.6061 - val_loss: 0.6395 - val_acc: 0.6057\n",
      "Epoch 7/60\n",
      "3224/3224 [==============================] - 0s 39us/step - loss: 0.6315 - acc: 0.6061 - val_loss: 0.6088 - val_acc: 0.6057\n",
      "Epoch 8/60\n",
      "3224/3224 [==============================] - 0s 37us/step - loss: 0.6023 - acc: 0.6061 - val_loss: 0.5815 - val_acc: 0.6057\n",
      "Epoch 9/60\n",
      "3224/3224 [==============================] - 0s 38us/step - loss: 0.5766 - acc: 0.6061 - val_loss: 0.5570 - val_acc: 0.6057\n",
      "Epoch 10/60\n",
      "3224/3224 [==============================] - 0s 39us/step - loss: 0.5535 - acc: 0.6061 - val_loss: 0.5357 - val_acc: 0.6057\n",
      "Epoch 11/60\n",
      "3224/3224 [==============================] - 0s 38us/step - loss: 0.5327 - acc: 0.6061 - val_loss: 0.5160 - val_acc: 0.6057\n",
      "Epoch 12/60\n",
      "3224/3224 [==============================] - 0s 36us/step - loss: 0.5136 - acc: 0.6070 - val_loss: 0.4978 - val_acc: 0.6093\n",
      "Epoch 13/60\n",
      "3224/3224 [==============================] - 0s 44us/step - loss: 0.4957 - acc: 0.6132 - val_loss: 0.4877 - val_acc: 0.6151\n",
      "Epoch 14/60\n",
      "3224/3224 [==============================] - 0s 43us/step - loss: 0.4792 - acc: 0.6290 - val_loss: 0.4713 - val_acc: 0.6456\n",
      "Epoch 15/60\n",
      "3224/3224 [==============================] - 0s 45us/step - loss: 0.4635 - acc: 0.6594 - val_loss: 0.4553 - val_acc: 0.6950\n",
      "Epoch 16/60\n",
      "3224/3224 [==============================] - 0s 37us/step - loss: 0.4481 - acc: 0.7091 - val_loss: 0.4397 - val_acc: 0.7458\n",
      "Epoch 17/60\n",
      "3224/3224 [==============================] - 0s 38us/step - loss: 0.4328 - acc: 0.7472 - val_loss: 0.4239 - val_acc: 0.7771\n",
      "Epoch 18/60\n",
      "3224/3224 [==============================] - 0s 35us/step - loss: 0.4171 - acc: 0.7857 - val_loss: 0.4071 - val_acc: 0.8221\n",
      "Epoch 19/60\n",
      "3224/3224 [==============================] - 0s 37us/step - loss: 0.3999 - acc: 0.8229 - val_loss: 0.3883 - val_acc: 0.8497\n",
      "Epoch 20/60\n",
      "3224/3224 [==============================] - 0s 38us/step - loss: 0.3805 - acc: 0.8508 - val_loss: 0.3668 - val_acc: 0.8744\n",
      "Epoch 21/60\n",
      "3224/3224 [==============================] - 0s 40us/step - loss: 0.3589 - acc: 0.8691 - val_loss: 0.3434 - val_acc: 0.8845\n",
      "Epoch 22/60\n",
      "3224/3224 [==============================] - 0s 46us/step - loss: 0.3370 - acc: 0.8806 - val_loss: 0.3207 - val_acc: 0.8962\n",
      "Epoch 23/60\n",
      "3224/3224 [==============================] - 0s 93us/step - loss: 0.3168 - acc: 0.8880 - val_loss: 0.3009 - val_acc: 0.9005\n",
      "Epoch 24/60\n",
      "3224/3224 [==============================] - 0s 107us/step - loss: 0.3000 - acc: 0.8911 - val_loss: 0.2851 - val_acc: 0.9063\n",
      "Epoch 25/60\n",
      "3224/3224 [==============================] - 0s 82us/step - loss: 0.2865 - acc: 0.8942 - val_loss: 0.2728 - val_acc: 0.9114\n",
      "Epoch 26/60\n",
      "3224/3224 [==============================] - 0s 84us/step - loss: 0.2794 - acc: 0.8967 - val_loss: 0.2874 - val_acc: 0.9136\n",
      "Epoch 27/60\n",
      "3224/3224 [==============================] - 0s 57us/step - loss: 0.2785 - acc: 0.8989 - val_loss: 0.2735 - val_acc: 0.9194\n",
      "Epoch 28/60\n",
      "3224/3224 [==============================] - 0s 95us/step - loss: 0.2681 - acc: 0.9023 - val_loss: 0.2675 - val_acc: 0.9245\n",
      "Epoch 29/60\n",
      "3224/3224 [==============================] - 0s 37us/step - loss: 0.2625 - acc: 0.9051 - val_loss: 0.2624 - val_acc: 0.9223\n",
      "Epoch 30/60\n",
      "3224/3224 [==============================] - 0s 89us/step - loss: 0.2567 - acc: 0.9057 - val_loss: 0.2573 - val_acc: 0.9230\n",
      "Epoch 31/60\n",
      "3224/3224 [==============================] - 0s 94us/step - loss: 0.2518 - acc: 0.9079 - val_loss: 0.2533 - val_acc: 0.9237\n",
      "Epoch 32/60\n",
      "3224/3224 [==============================] - 0s 51us/step - loss: 0.2478 - acc: 0.9104 - val_loss: 0.2564 - val_acc: 0.9245\n",
      "Epoch 33/60\n",
      "3224/3224 [==============================] - 0s 44us/step - loss: 0.2439 - acc: 0.9110 - val_loss: 0.2531 - val_acc: 0.9237\n",
      "Epoch 34/60\n",
      "3224/3224 [==============================] - 0s 90us/step - loss: 0.2403 - acc: 0.9135 - val_loss: 0.2439 - val_acc: 0.9245\n",
      "Epoch 35/60\n",
      "3224/3224 [==============================] - 0s 78us/step - loss: 0.2373 - acc: 0.9138 - val_loss: 0.2477 - val_acc: 0.9245\n",
      "Epoch 36/60\n",
      "3224/3224 [==============================] - 0s 38us/step - loss: 0.2362 - acc: 0.9135 - val_loss: 0.2319 - val_acc: 0.9223\n",
      "Epoch 37/60\n",
      "3224/3224 [==============================] - 0s 42us/step - loss: 0.2325 - acc: 0.9147 - val_loss: 0.2368 - val_acc: 0.9259\n",
      "Epoch 38/60\n",
      "3224/3224 [==============================] - 0s 97us/step - loss: 0.2289 - acc: 0.9147 - val_loss: 0.2353 - val_acc: 0.9252\n",
      "Epoch 39/60\n",
      "3224/3224 [==============================] - 0s 87us/step - loss: 0.2262 - acc: 0.9156 - val_loss: 0.2395 - val_acc: 0.9245\n",
      "Epoch 40/60\n",
      "3224/3224 [==============================] - 0s 69us/step - loss: 0.2240 - acc: 0.9175 - val_loss: 0.2310 - val_acc: 0.9252\n",
      "Epoch 41/60\n",
      "3224/3224 [==============================] - 0s 79us/step - loss: 0.2219 - acc: 0.9175 - val_loss: 0.2309 - val_acc: 0.9267\n",
      "Epoch 42/60\n",
      "3224/3224 [==============================] - 0s 90us/step - loss: 0.2197 - acc: 0.9181 - val_loss: 0.2293 - val_acc: 0.9274\n",
      "Epoch 43/60\n",
      "3224/3224 [==============================] - 0s 95us/step - loss: 0.2171 - acc: 0.9190 - val_loss: 0.2264 - val_acc: 0.9274\n",
      "Epoch 44/60\n",
      "3224/3224 [==============================] - 0s 42us/step - loss: 0.2146 - acc: 0.9190 - val_loss: 0.2248 - val_acc: 0.9281\n",
      "Epoch 45/60\n",
      "3224/3224 [==============================] - 0s 84us/step - loss: 0.2122 - acc: 0.9206 - val_loss: 0.2227 - val_acc: 0.9310\n",
      "Epoch 46/60\n",
      "3224/3224 [==============================] - 0s 75us/step - loss: 0.2100 - acc: 0.9234 - val_loss: 0.2213 - val_acc: 0.9317\n",
      "Epoch 47/60\n",
      "3224/3224 [==============================] - 0s 82us/step - loss: 0.2078 - acc: 0.9234 - val_loss: 0.2203 - val_acc: 0.9346\n",
      "Epoch 48/60\n",
      "3224/3224 [==============================] - 0s 84us/step - loss: 0.2060 - acc: 0.9243 - val_loss: 0.2192 - val_acc: 0.9346\n",
      "Epoch 49/60\n",
      "3224/3224 [==============================] - 0s 84us/step - loss: 0.2052 - acc: 0.9237 - val_loss: 0.2099 - val_acc: 0.9346\n",
      "Epoch 50/60\n",
      "3224/3224 [==============================] - 0s 48us/step - loss: 0.2038 - acc: 0.9237 - val_loss: 0.2094 - val_acc: 0.9339\n",
      "Epoch 51/60\n",
      "3224/3224 [==============================] - 0s 63us/step - loss: 0.2013 - acc: 0.9237 - val_loss: 0.2159 - val_acc: 0.9325\n",
      "Epoch 52/60\n",
      "3224/3224 [==============================] - 0s 79us/step - loss: 0.1998 - acc: 0.9256 - val_loss: 0.2150 - val_acc: 0.9332\n",
      "Epoch 53/60\n",
      "3224/3224 [==============================] - 0s 36us/step - loss: 0.1985 - acc: 0.9259 - val_loss: 0.2078 - val_acc: 0.9346\n",
      "Epoch 54/60\n",
      "3224/3224 [==============================] - 0s 80us/step - loss: 0.1973 - acc: 0.9268 - val_loss: 0.2051 - val_acc: 0.9339\n",
      "Epoch 55/60\n",
      "3224/3224 [==============================] - 0s 87us/step - loss: 0.1959 - acc: 0.9277 - val_loss: 0.2053 - val_acc: 0.9339\n",
      "Epoch 56/60\n",
      "3224/3224 [==============================] - 0s 59us/step - loss: 0.1945 - acc: 0.9296 - val_loss: 0.2115 - val_acc: 0.9354\n",
      "Epoch 57/60\n",
      "3224/3224 [==============================] - 0s 91us/step - loss: 0.1930 - acc: 0.9299 - val_loss: 0.2113 - val_acc: 0.9354\n",
      "Epoch 58/60\n",
      "3224/3224 [==============================] - 0s 53us/step - loss: 0.1918 - acc: 0.9299 - val_loss: 0.2037 - val_acc: 0.9346\n",
      "Epoch 59/60\n",
      "3224/3224 [==============================] - 0s 38us/step - loss: 0.1908 - acc: 0.9302 - val_loss: 0.2100 - val_acc: 0.9346\n",
      "Epoch 60/60\n",
      "3224/3224 [==============================] - 0s 76us/step - loss: 0.1896 - acc: 0.9305 - val_loss: 0.2093 - val_acc: 0.9346\n"
     ]
    }
   ],
   "source": [
    "history=model.fit(train_data,\n",
    "                    train_label,\n",
    "                    epochs=60,\n",
    "                    batch_size=100,\n",
    "                    validation_data=(test_data, test_label),\n",
    "                    verbose=1)"
   ]
  },
  {
   "cell_type": "code",
   "execution_count": 56,
   "metadata": {},
   "outputs": [],
   "source": [
    "import matplotlib.pyplot as plt\n"
   ]
  },
  {
   "cell_type": "code",
   "execution_count": 57,
   "metadata": {},
   "outputs": [],
   "source": [
    "history_dict=history.history\n",
    "history_dict.keys()\n",
    "dict_keys=['loss', 'val_loss', 'val_acc', 'acc']"
   ]
  },
  {
   "cell_type": "code",
   "execution_count": 58,
   "metadata": {},
   "outputs": [
    {
     "data": {
      "image/png": "[encoded data removed]",
      "text/plain": [
       "<Figure size 432x288 with 1 Axes>"
      ]
     },
     "metadata": {
      "needs_background": "light"
     },
     "output_type": "display_data"
    }
   ],
   "source": [
    "%matplotlib inline\n",
    "acc = history.history['acc']\n",
    "val_acc = history.history['val_acc']\n",
    "loss = history.history['loss']\n",
    "val_loss = history.history['val_loss']\n",
    "epochs = range(1, len(acc) + 1)\n",
    "plt.plot(epochs, loss, 'bo', label='Training loss')\n",
    "plt.plot(epochs, val_loss, 'b', label='Validation loss')\n",
    "plt.title('Training and validation loss')\n",
    "plt.xlabel('Epochs')\n",
    "plt.ylabel('Loss')\n",
    "plt.legend()\n",
    "plt.show()"
   ]
  },
  {
   "cell_type": "code",
   "execution_count": 59,
   "metadata": {},
   "outputs": [
    {
     "data": {
      "image/png": "[encoded data removed]",
      "text/plain": [
       "<Figure size 432x288 with 1 Axes>"
      ]
     },
     "metadata": {
      "needs_background": "light"
     },
     "output_type": "display_data"
    }
   ],
   "source": [
    "acc_values=history_dict['acc']\n",
    "val_acc_values=history_dict['val_acc']\n",
    "plt.plot(epochs, acc, 'bo', label='Training acc')\n",
    "plt.plot(epochs, val_acc, 'b', label='Validation acc')\n",
    "plt.title('Training and validation accuracy')\n",
    "plt.xlabel('Epochs')\n",
    "plt.ylabel('Accuracy')\n",
    "plt.legend()\n",
    "plt.show()"
   ]
  },
  {
   "cell_type": "code",
   "execution_count": 60,
   "metadata": {},
   "outputs": [],
   "source": [
    "def load_prediction_data(file_path):\n",
    "    data=[]\n",
    "    with open(file_path,\"r\") as data_file:\n",
    "        raw_data=data_file.readlines()\n",
    "        for raw_line in raw_data:\n",
    "            sample=raw_line[:-1]\n",
    "            sample=sample.split(\",\")\n",
    "            sample=np.array([float(feature) for feature in sample])\n",
    "            sample[-3]/=10\n",
    "            sample[-2]/=100\n",
    "            sample[-1]/=1000\n",
    "            data.append(sample)\n",
    "    return np.array(data)\n",
    "prediction_data=load_prediction_data(\"get_the_flag.data\")"
   ]
  },
  {
   "cell_type": "code",
   "execution_count": 61,
   "metadata": {},
   "outputs": [],
   "source": [
    "predictions = model.predict(prediction_data)"
   ]
  },
  {
   "cell_type": "code",
   "execution_count": 62,
   "metadata": {},
   "outputs": [
    {
     "data": {
      "image/png": "[encoded data removed]",
      "text/plain": [
       "<Figure size 3600x72 with 1 Axes>"
      ]
     },
     "metadata": {
      "needs_background": "light"
     },
     "output_type": "display_data"
    }
   ],
   "source": [
    "data_show=[]\n",
    "for i in predictions:\n",
    "    if i[0]<0.5:\n",
    "        data_show.append(0)\n",
    "    else:\n",
    "        data_show.append(1)\n",
    "plt.rcParams['figure.figsize'] = (50.0, 1.0) \n",
    "plt.scatter(range(len(data_show)),data_show,linewidth=0.1,s=10)\n",
    "plt.show()"
   ]
  },
  {
   "cell_type": "code",
   "execution_count": 63,
   "metadata": {},
   "outputs": [
    {
     "name": "stdout",
     "output_type": "stream",
     "text": [
      "310  error cnt_value:  0.3\n",
      "10001001110101110100111011011100100101111110000011001001\n"
     ]
    }
   ],
   "source": [
    "ans = ''\n",
    "for i in np.arange(0,predictions.shape[0],10):\n",
    "    pred = np.mean(predictions[i:i+10])\n",
    "    if(pred>0.5):\n",
    "        ans += '1'\n",
    "    else:\n",
    "        ans += '0'\n",
    "    cnt = 0\n",
    "    for value in predictions[i:i+10]:\n",
    "        if(value>0.5):\n",
    "            cnt += 1\n",
    "    cnt /= len(predictions[i:i+10])\n",
    "    if(cnt>=0.3 and cnt<=0.7):\n",
    "        print(i,' error cnt_value: ',cnt)\n",
    "print(ans)"
   ]
  },
  {
   "cell_type": "code",
   "execution_count": null,
   "metadata": {},
   "outputs": [],
   "source": []
  },
  {
   "cell_type": "code",
   "execution_count": null,
   "metadata": {},
   "outputs": [],
   "source": []
  }
 ],
 "metadata": {
  "kernelspec": {
   "display_name": "Python 3",
   "language": "python",
   "name": "python3"
  },
  "language_info": {
   "codemirror_mode": {
    "name": "ipython",
    "version": 3
   },
   "file_extension": ".py",
   "mimetype": "text/x-python",
   "name": "python",
   "nbconvert_exporter": "python",
   "pygments_lexer": "ipython3",
   "version": "3.6.7"
  }
 },
 "nbformat": 4,
 "nbformat_minor": 2
}
