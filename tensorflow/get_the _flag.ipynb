{
 "cells": [
  {
   "cell_type": "code",
   "execution_count": 29,
   "metadata": {},
   "outputs": [],
   "source": [
    "import numpy as np"
   ]
  },
  {
   "cell_type": "code",
   "execution_count": 30,
   "metadata": {},
   "outputs": [
    {
     "name": "stdout",
     "output_type": "stream",
     "text": [
      "[[0.     0.64   0.64   ... 0.3756 0.61   0.278 ]\n",
      " [0.06   0.     0.71   ... 0.9821 4.85   2.259 ]\n",
      " [0.     0.     0.     ... 0.3537 0.4    0.191 ]\n",
      " ...\n",
      " [0.3    0.     0.3    ... 0.1404 0.06   0.118 ]\n",
      " [0.96   0.     0.     ... 0.1147 0.05   0.078 ]\n",
      " [0.     0.     0.65   ... 0.125  0.05   0.04  ]] ['1' '1' '1' ... '0' '0' '0']\n",
      "[[0.21   0.28   0.5    ... 0.5114 1.01   1.028 ]\n",
      " [0.     0.     0.     ... 0.3537 0.4    0.191 ]\n",
      " [0.     0.69   0.34   ... 0.3728 0.61   0.261 ]\n",
      " ...\n",
      " [0.     0.     0.     ... 0.1    0.01   0.006 ]\n",
      " [0.     0.     0.     ... 0.1727 0.05   0.019 ]\n",
      " [0.     0.     1.19   ... 0.1    0.01   0.024 ]] ['1' '1' '1' ... '0' '0' '0']\n"
     ]
    }
   ],
   "source": [
    "def load_data(file_path):\n",
    "    data=[]\n",
    "    label=[]\n",
    "    with open(file_path,\"r\") as data_file:\n",
    "        raw_data=data_file.readlines()\n",
    "        for raw_line in raw_data:\n",
    "            sample=raw_line[:-1]\n",
    "            sample=sample.split(\",\")\n",
    "            label.append(sample[-1])\n",
    "            sample=np.array([float(feature) for feature in sample[:-1]])\n",
    "            sample[-3]/=10\n",
    "            sample[-2]/=100\n",
    "            sample[-1]/=1000\n",
    "            data.append(sample)\n",
    "    return np.array(data),np.array(label)\n",
    "train_data,train_label=load_data(\"train.data\")\n",
    "test_data,test_label=load_data(\"test.data\")\n",
    "print(train_data,train_label)\n",
    "print(test_data,test_label)"
   ]
  },
  {
   "cell_type": "code",
   "execution_count": 31,
   "metadata": {},
   "outputs": [
    {
     "data": {
      "text/plain": [
       "1377"
      ]
     },
     "execution_count": 31,
     "metadata": {},
     "output_type": "execute_result"
    }
   ],
   "source": [
    "len(test_data)\n"
   ]
  },
  {
   "cell_type": "code",
   "execution_count": 32,
   "metadata": {},
   "outputs": [
    {
     "data": {
      "text/plain": [
       "array([0.    , 0.42  , 0.42  , 0.    , 1.27  , 0.    , 0.42  , 0.    ,\n",
       "       0.    , 1.27  , 0.    , 0.    , 0.    , 0.    , 0.    , 1.27  ,\n",
       "       0.    , 0.    , 1.7   , 0.42  , 1.27  , 0.    , 0.    , 0.42  ,\n",
       "       0.    , 0.    , 0.    , 0.    , 0.    , 0.    , 0.    , 0.    ,\n",
       "       0.    , 0.    , 0.    , 0.    , 1.27  , 0.    , 0.    , 0.42  ,\n",
       "       0.    , 0.    , 0.    , 0.    , 0.    , 0.    , 0.    , 0.    ,\n",
       "       0.    , 0.063 , 0.    , 0.572 , 0.063 , 0.    , 0.5659, 0.55  ,\n",
       "       0.249 ])"
      ]
     },
     "execution_count": 32,
     "metadata": {},
     "output_type": "execute_result"
    }
   ],
   "source": [
    "train_data[10]"
   ]
  },
  {
   "cell_type": "code",
   "execution_count": 34,
   "metadata": {},
   "outputs": [],
   "source": [
    "import tensorflow as tf\n",
    "from tensorflow import keras "
   ]
  },
  {
   "cell_type": "code",
   "execution_count": 35,
   "metadata": {},
   "outputs": [],
   "source": [
    "from tensorflow.keras import layers\n",
    "model = tf.keras.Sequential([\n",
    "layers.Dense(57, activation='softmax'),\n",
    "layers.Dense(1, activation='relu')])"
   ]
  },
  {
   "cell_type": "code",
   "execution_count": 36,
   "metadata": {},
   "outputs": [],
   "source": [
    "model.compile(optimizer=tf.train.AdamOptimizer(),\n",
    "              loss='binary_crossentropy',\n",
    "              metrics=['accuracy'])"
   ]
  },
  {
   "cell_type": "code",
   "execution_count": 44,
   "metadata": {},
   "outputs": [
    {
     "name": "stdout",
     "output_type": "stream",
     "text": [
      "Train on 3224 samples, validate on 1377 samples\n",
      "Epoch 1/60\n",
      "3224/3224 [==============================] - 0s 44us/step - loss: 0.2348 - acc: 0.9132 - val_loss: 0.2338 - val_acc: 0.9201\n",
      "Epoch 2/60\n",
      "3224/3224 [==============================] - 0s 31us/step - loss: 0.2330 - acc: 0.9138 - val_loss: 0.2324 - val_acc: 0.9216\n",
      "Epoch 3/60\n",
      "3224/3224 [==============================] - 0s 31us/step - loss: 0.2316 - acc: 0.9138 - val_loss: 0.2312 - val_acc: 0.9216\n",
      "Epoch 4/60\n",
      "3224/3224 [==============================] - 0s 36us/step - loss: 0.2301 - acc: 0.9156 - val_loss: 0.2303 - val_acc: 0.9230\n",
      "Epoch 5/60\n",
      "3224/3224 [==============================] - 0s 35us/step - loss: 0.2284 - acc: 0.9156 - val_loss: 0.2241 - val_acc: 0.9252\n",
      "Epoch 6/60\n",
      "3224/3224 [==============================] - 0s 32us/step - loss: 0.2269 - acc: 0.9169 - val_loss: 0.2279 - val_acc: 0.9259\n",
      "Epoch 7/60\n",
      "3224/3224 [==============================] - 0s 31us/step - loss: 0.2254 - acc: 0.9184 - val_loss: 0.2211 - val_acc: 0.9259\n",
      "Epoch 8/60\n",
      "3224/3224 [==============================] - 0s 35us/step - loss: 0.2241 - acc: 0.9181 - val_loss: 0.2195 - val_acc: 0.9252\n",
      "Epoch 9/60\n",
      "3224/3224 [==============================] - 0s 31us/step - loss: 0.2226 - acc: 0.9181 - val_loss: 0.2181 - val_acc: 0.9252\n",
      "Epoch 10/60\n",
      "3224/3224 [==============================] - 0s 31us/step - loss: 0.2211 - acc: 0.9187 - val_loss: 0.2185 - val_acc: 0.9252\n",
      "Epoch 11/60\n",
      "3224/3224 [==============================] - 0s 30us/step - loss: 0.2197 - acc: 0.9184 - val_loss: 0.2174 - val_acc: 0.9259\n",
      "Epoch 12/60\n",
      "3224/3224 [==============================] - 0s 32us/step - loss: 0.2185 - acc: 0.9190 - val_loss: 0.2153 - val_acc: 0.9259\n",
      "Epoch 13/60\n",
      "3224/3224 [==============================] - 0s 32us/step - loss: 0.2202 - acc: 0.9190 - val_loss: 0.2136 - val_acc: 0.9267\n",
      "Epoch 14/60\n",
      "3224/3224 [==============================] - 0s 30us/step - loss: 0.2185 - acc: 0.9194 - val_loss: 0.2133 - val_acc: 0.9281\n",
      "Epoch 15/60\n",
      "3224/3224 [==============================] - 0s 32us/step - loss: 0.2168 - acc: 0.9197 - val_loss: 0.2121 - val_acc: 0.9288\n",
      "Epoch 16/60\n",
      "3224/3224 [==============================] - 0s 33us/step - loss: 0.2151 - acc: 0.9203 - val_loss: 0.2121 - val_acc: 0.9288\n",
      "Epoch 17/60\n",
      "3224/3224 [==============================] - 0s 33us/step - loss: 0.2135 - acc: 0.9206 - val_loss: 0.2134 - val_acc: 0.9303\n",
      "Epoch 18/60\n",
      "3224/3224 [==============================] - 0s 37us/step - loss: 0.2118 - acc: 0.9212 - val_loss: 0.2173 - val_acc: 0.9296\n",
      "Epoch 19/60\n",
      "3224/3224 [==============================] - 0s 37us/step - loss: 0.2100 - acc: 0.9225 - val_loss: 0.2162 - val_acc: 0.9303\n",
      "Epoch 20/60\n",
      "3224/3224 [==============================] - 0s 32us/step - loss: 0.2081 - acc: 0.9231 - val_loss: 0.2161 - val_acc: 0.9325\n",
      "Epoch 21/60\n",
      "3224/3224 [==============================] - 0s 33us/step - loss: 0.2063 - acc: 0.9280 - val_loss: 0.2135 - val_acc: 0.9317\n",
      "Epoch 22/60\n",
      "3224/3224 [==============================] - 0s 33us/step - loss: 0.2042 - acc: 0.9283 - val_loss: 0.2126 - val_acc: 0.9332\n",
      "Epoch 23/60\n",
      "3224/3224 [==============================] - 0s 32us/step - loss: 0.2023 - acc: 0.9293 - val_loss: 0.2120 - val_acc: 0.9339\n",
      "Epoch 24/60\n",
      "3224/3224 [==============================] - 0s 32us/step - loss: 0.2005 - acc: 0.9299 - val_loss: 0.2118 - val_acc: 0.9346\n",
      "Epoch 25/60\n",
      "3224/3224 [==============================] - 0s 38us/step - loss: 0.1988 - acc: 0.9299 - val_loss: 0.2119 - val_acc: 0.9339\n",
      "Epoch 26/60\n",
      "3224/3224 [==============================] - 0s 32us/step - loss: 0.1975 - acc: 0.9299 - val_loss: 0.2179 - val_acc: 0.9325\n",
      "Epoch 27/60\n",
      "3224/3224 [==============================] - 0s 36us/step - loss: 0.1962 - acc: 0.9293 - val_loss: 0.2176 - val_acc: 0.9325\n",
      "Epoch 28/60\n",
      "3224/3224 [==============================] - 0s 36us/step - loss: 0.1949 - acc: 0.9296 - val_loss: 0.2173 - val_acc: 0.9332\n",
      "Epoch 29/60\n",
      "3224/3224 [==============================] - 0s 36us/step - loss: 0.1937 - acc: 0.9299 - val_loss: 0.2159 - val_acc: 0.9339\n",
      "Epoch 30/60\n",
      "3224/3224 [==============================] - 0s 33us/step - loss: 0.1925 - acc: 0.9311 - val_loss: 0.2159 - val_acc: 0.9325\n",
      "Epoch 31/60\n",
      "3224/3224 [==============================] - 0s 36us/step - loss: 0.1914 - acc: 0.9315 - val_loss: 0.2151 - val_acc: 0.9332\n",
      "Epoch 32/60\n",
      "3224/3224 [==============================] - 0s 36us/step - loss: 0.1901 - acc: 0.9324 - val_loss: 0.2144 - val_acc: 0.9332\n",
      "Epoch 33/60\n",
      "3224/3224 [==============================] - 0s 33us/step - loss: 0.1891 - acc: 0.9336 - val_loss: 0.2141 - val_acc: 0.9325\n",
      "Epoch 34/60\n",
      "3224/3224 [==============================] - 0s 38us/step - loss: 0.1880 - acc: 0.9349 - val_loss: 0.2143 - val_acc: 0.9339\n",
      "Epoch 35/60\n",
      "3224/3224 [==============================] - 0s 36us/step - loss: 0.1870 - acc: 0.9352 - val_loss: 0.2207 - val_acc: 0.9339\n",
      "Epoch 36/60\n",
      "3224/3224 [==============================] - 0s 36us/step - loss: 0.1859 - acc: 0.9352 - val_loss: 0.2208 - val_acc: 0.9339\n",
      "Epoch 37/60\n",
      "3224/3224 [==============================] - 0s 34us/step - loss: 0.1848 - acc: 0.9364 - val_loss: 0.2191 - val_acc: 0.9346\n",
      "Epoch 38/60\n",
      "3224/3224 [==============================] - 0s 35us/step - loss: 0.1841 - acc: 0.9367 - val_loss: 0.2193 - val_acc: 0.9332\n",
      "Epoch 39/60\n",
      "3224/3224 [==============================] - 0s 39us/step - loss: 0.1832 - acc: 0.9361 - val_loss: 0.2190 - val_acc: 0.9354\n",
      "Epoch 40/60\n",
      "3224/3224 [==============================] - 0s 36us/step - loss: 0.1820 - acc: 0.9373 - val_loss: 0.2188 - val_acc: 0.9346\n",
      "Epoch 41/60\n",
      "3224/3224 [==============================] - 0s 29us/step - loss: 0.1811 - acc: 0.9377 - val_loss: 0.2185 - val_acc: 0.9361\n",
      "Epoch 42/60\n",
      "3224/3224 [==============================] - 0s 28us/step - loss: 0.1803 - acc: 0.9383 - val_loss: 0.2254 - val_acc: 0.9354\n",
      "Epoch 43/60\n",
      "3224/3224 [==============================] - 0s 32us/step - loss: 0.1795 - acc: 0.9383 - val_loss: 0.2257 - val_acc: 0.9361\n",
      "Epoch 44/60\n",
      "3224/3224 [==============================] - 0s 38us/step - loss: 0.1787 - acc: 0.9392 - val_loss: 0.2256 - val_acc: 0.9361\n",
      "Epoch 45/60\n",
      "3224/3224 [==============================] - 0s 33us/step - loss: 0.1778 - acc: 0.9398 - val_loss: 0.2327 - val_acc: 0.9361\n",
      "Epoch 46/60\n",
      "3224/3224 [==============================] - 0s 33us/step - loss: 0.1770 - acc: 0.9401 - val_loss: 0.2325 - val_acc: 0.9375\n",
      "Epoch 47/60\n",
      "3224/3224 [==============================] - 0s 35us/step - loss: 0.1762 - acc: 0.9401 - val_loss: 0.2321 - val_acc: 0.9368\n",
      "Epoch 48/60\n",
      "3224/3224 [==============================] - 0s 37us/step - loss: 0.1756 - acc: 0.9401 - val_loss: 0.2316 - val_acc: 0.9361\n",
      "Epoch 49/60\n",
      "3224/3224 [==============================] - 0s 35us/step - loss: 0.1748 - acc: 0.9404 - val_loss: 0.2312 - val_acc: 0.9361\n",
      "Epoch 50/60\n",
      "3224/3224 [==============================] - 0s 35us/step - loss: 0.1741 - acc: 0.9404 - val_loss: 0.2312 - val_acc: 0.9361\n",
      "Epoch 51/60\n",
      "3224/3224 [==============================] - 0s 33us/step - loss: 0.1734 - acc: 0.9404 - val_loss: 0.2306 - val_acc: 0.9361\n",
      "Epoch 52/60\n",
      "3224/3224 [==============================] - 0s 29us/step - loss: 0.1728 - acc: 0.9408 - val_loss: 0.2298 - val_acc: 0.9361\n",
      "Epoch 53/60\n",
      "3224/3224 [==============================] - 0s 37us/step - loss: 0.1721 - acc: 0.9408 - val_loss: 0.2297 - val_acc: 0.9361\n",
      "Epoch 54/60\n",
      "3224/3224 [==============================] - 0s 34us/step - loss: 0.1717 - acc: 0.9414 - val_loss: 0.2292 - val_acc: 0.9361\n",
      "Epoch 55/60\n",
      "3224/3224 [==============================] - 0s 34us/step - loss: 0.1707 - acc: 0.9417 - val_loss: 0.2292 - val_acc: 0.9361\n",
      "Epoch 56/60\n",
      "3224/3224 [==============================] - 0s 39us/step - loss: 0.1701 - acc: 0.9417 - val_loss: 0.2291 - val_acc: 0.9375\n",
      "Epoch 57/60\n",
      "3224/3224 [==============================] - 0s 35us/step - loss: 0.1696 - acc: 0.9417 - val_loss: 0.2285 - val_acc: 0.9390\n",
      "Epoch 58/60\n",
      "3224/3224 [==============================] - 0s 33us/step - loss: 0.1689 - acc: 0.9417 - val_loss: 0.2282 - val_acc: 0.9390\n",
      "Epoch 59/60\n",
      "3224/3224 [==============================] - 0s 31us/step - loss: 0.1683 - acc: 0.9420 - val_loss: 0.2283 - val_acc: 0.9390\n",
      "Epoch 60/60\n",
      "3224/3224 [==============================] - 0s 33us/step - loss: 0.1683 - acc: 0.9417 - val_loss: 0.2264 - val_acc: 0.9390\n"
     ]
    }
   ],
   "source": [
    "history=model.fit(train_data,\n",
    "                    train_label,\n",
    "                    epochs=60,\n",
    "                    batch_size=100,\n",
    "                    validation_data=(test_data, test_label),\n",
    "                    verbose=1)"
   ]
  },
  {
   "cell_type": "code",
   "execution_count": 38,
   "metadata": {},
   "outputs": [],
   "source": [
    "import matplotlib.pyplot as plt\n"
   ]
  },
  {
   "cell_type": "code",
   "execution_count": 39,
   "metadata": {},
   "outputs": [],
   "source": [
    "history_dict=history.history\n",
    "history_dict.keys()\n",
    "dict_keys=['loss', 'val_loss', 'val_acc', 'acc']"
   ]
  },
  {
   "cell_type": "code",
   "execution_count": 40,
   "metadata": {},
   "outputs": [
    {
     "data": {
      "image/png": "[encoded data removed]",
      "text/plain": [
       "<Figure size 432x288 with 1 Axes>"
      ]
     },
     "metadata": {
      "needs_background": "light"
     },
     "output_type": "display_data"
    }
   ],
   "source": [
    "%matplotlib inline\n",
    "acc = history.history['acc']\n",
    "val_acc = history.history['val_acc']\n",
    "loss = history.history['loss']\n",
    "val_loss = history.history['val_loss']\n",
    "epochs = range(1, len(acc) + 1)\n",
    "plt.plot(epochs, loss, 'bo', label='Training loss')\n",
    "plt.plot(epochs, val_loss, 'b', label='Validation loss')\n",
    "plt.title('Training and validation loss')\n",
    "plt.xlabel('Epochs')\n",
    "plt.ylabel('Loss')\n",
    "plt.legend()\n",
    "plt.show()"
   ]
  },
  {
   "cell_type": "code",
   "execution_count": 41,
   "metadata": {},
   "outputs": [
    {
     "data": {
      "image/png": "[encoded data removed]",
      "text/plain": [
       "<Figure size 432x288 with 1 Axes>"
      ]
     },
     "metadata": {
      "needs_background": "light"
     },
     "output_type": "display_data"
    }
   ],
   "source": [
    "acc_values=history_dict['acc']\n",
    "val_acc_values=history_dict['val_acc']\n",
    "plt.plot(epochs, acc, 'bo', label='Training acc')\n",
    "plt.plot(epochs, val_acc, 'b', label='Validation acc')\n",
    "plt.title('Training and validation accuracy')\n",
    "plt.xlabel('Epochs')\n",
    "plt.ylabel('Accuracy')\n",
    "plt.legend()\n",
    "plt.show()"
   ]
  },
  {
   "cell_type": "code",
   "execution_count": 42,
   "metadata": {},
   "outputs": [],
   "source": [
    "def load_prediction_data(file_path):\n",
    "    data=[]\n",
    "    with open(file_path,\"r\") as data_file:\n",
    "        raw_data=data_file.readlines()\n",
    "        for raw_line in raw_data:\n",
    "            sample=raw_line[:-1]\n",
    "            sample=sample.split(\",\")\n",
    "            sample=np.array([float(feature) for feature in sample])\n",
    "            sample[-3]/=10\n",
    "            sample[-2]/=100\n",
    "            sample[-1]/=1000\n",
    "            data.append(sample)\n",
    "    return np.array(data)\n",
    "prediction_data=load_prediction_data(\"get_the_flag.data\")"
   ]
  },
  {
   "cell_type": "code",
   "execution_count": 43,
   "metadata": {},
   "outputs": [],
   "source": [
    "predictions = model.predict(prediction_data)"
   ]
  },
  {
   "cell_type": "code",
   "execution_count": 78,
   "metadata": {},
   "outputs": [
    {
     "data": {
      "image/png": "[encoded data removed]",
      "text/plain": [
       "<Figure size 3600x72 with 1 Axes>"
      ]
     },
     "metadata": {
      "needs_background": "light"
     },
     "output_type": "display_data"
    }
   ],
   "source": [
    "data_show=[]\n",
    "for i in predictions:\n",
    "    if i[0]<0.5:\n",
    "        data_show.append(0)\n",
    "    else:\n",
    "        data_show.append(1)\n",
    "plt.rcParams['figure.figsize'] = (50.0, 1.0) \n",
    "plt.scatter(range(len(data_show)),data_show,linewidth=0.1,s=10)\n",
    "plt.show()"
   ]
  },
  {
   "cell_type": "code",
   "execution_count": null,
   "metadata": {},
   "outputs": [],
   "source": []
  }
 ],
 "metadata": {
  "kernelspec": {
   "display_name": "Python 3",
   "language": "python",
   "name": "python3"
  },
  "language_info": {
   "codemirror_mode": {
    "name": "ipython",
    "version": 3
   },
   "file_extension": ".py",
   "mimetype": "text/x-python",
   "name": "python",
   "nbconvert_exporter": "python",
   "pygments_lexer": "ipython3",
   "version": "3.6.7"
  }
 },
 "nbformat": 4,
 "nbformat_minor": 2
}
