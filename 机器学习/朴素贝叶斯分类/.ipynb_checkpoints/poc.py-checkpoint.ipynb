{
 "cells": [
  {
   "cell_type": "code",
   "execution_count": null,
   "metadata": {},
   "outputs": [],
   "source": [
    "import tensorflow as tf\n",
    "from tensorflow import keras\n",
    "import numpy as np\n",
    "from tensorflow.keras import layers\n",
    "\n",
    "def load_data(file_path):\n",
    "    data=[]\n",
    "    label=[]\n",
    "    with open(file_path,\"r\") as data_file:\n",
    "        raw_data=data_file.readlines()\n",
    "        for raw_line in raw_data:\n",
    "            sample=raw_line[:-1]\n",
    "            sample=sample.split(\",\")\n",
    "            label.append(sample[-1])\n",
    "            sample=np.array([float(feature) for feature in sample[:-1]])\n",
    "            sample[-3]/=10\n",
    "            sample[-2]/=100\n",
    "            sample[-1]/=1000\n",
    "            data.append(sample)\n",
    "    return np.array(data),np.array(label)\n",
    "def load_prediction_data(file_path):\n",
    "    data=[]\n",
    "    with open(file_path,\"r\") as data_file:\n",
    "        raw_data=data_file.readlines()\n",
    "        for raw_line in raw_data:\n",
    "            sample=raw_line[:-1]\n",
    "            sample=sample.split(\",\")\n",
    "            sample=np.array([float(feature) for feature in sample])\n",
    "            sample[-3]/=10\n",
    "            sample[-2]/=100\n",
    "            sample[-1]/=1000\n",
    "            data.append(sample)\n",
    "    return np.array(data)\n",
    "train_data,train_label=load_data(\"./spambase_train.data\")\n",
    "test_data,test_label=load_data(\"./spambase_test.data\")\n",
    "model.compile(optimizer=tf.train.AdamOptimizer(),\n",
    "              loss='binary_crossentropy',\n",
    "              metrics=['accuracy'])\n",
    "history = model.fit(train_data,\n",
    "                    train_label,\n",
    "                    epochs=40,\n",
    "                    batch_size=20,\n",
    "                    validation_data=(test_data, test_label),\n",
    "                    verbose=1)\n",
    "data_show=[]\n",
    "for i in predictions:\n",
    "    if i[0]<0.5:\n",
    "        data_show.append(0)\n",
    "    else:\n",
    "        data_show.append(1)\n",
    "plt.rcParams['figure.figsize'] = (50.0, 1.0) \n",
    "plt.scatter(range(len(data_show)),data_show,linewidth=0.1,s=10)\n",
    "plt.show()"
   ]
  }
 ],
 "metadata": {
  "kernelspec": {
   "display_name": "Python 3",
   "language": "python",
   "name": "python3"
  },
  "language_info": {
   "codemirror_mode": {
    "name": "ipython",
    "version": 3
   },
   "file_extension": ".py",
   "mimetype": "text/x-python",
   "name": "python",
   "nbconvert_exporter": "python",
   "pygments_lexer": "ipython3",
   "version": "3.6.7"
  }
 },
 "nbformat": 4,
 "nbformat_minor": 2
}
