{
 "cells": [
  {
   "cell_type": "markdown",
   "metadata": {},
   "source": [
    "# 垃圾邮件文本分类\n",
    "----\n",
    "使用tensorflow 重新进行文本分类，最终在测试集上的损失率降低至0.17 准确率达到0.95以上。"
   ]
  },
  {
   "cell_type": "code",
   "execution_count": 132,
   "metadata": {},
   "outputs": [],
   "source": [
    "import tensorflow as tf\n",
    "from tensorflow import keras\n",
    "import numpy as np"
   ]
  },
  {
   "cell_type": "code",
   "execution_count": 253,
   "metadata": {},
   "outputs": [],
   "source": [
    "def load_data(file_path):\n",
    "    data=[]\n",
    "    label=[]\n",
    "    with open(file_path,\"r\") as data_file:\n",
    "        raw_data=data_file.readlines()\n",
    "        for raw_line in raw_data:\n",
    "            sample=raw_line[:-1]\n",
    "            sample=sample.split(\",\")\n",
    "            label.append(sample[-1])\n",
    "            sample=np.array([float(feature) for feature in sample[:-1]])\n",
    "            sample[-3]/=10\n",
    "            sample[-2]/=100\n",
    "            sample[-1]/=1000\n",
    "            data.append(sample)\n",
    "    return np.array(data),np.array(label)\n",
    "train_data,train_label=load_data(\"./spambase_train.data\")\n",
    "test_data,test_label=load_data(\"./spambase_test.data\")"
   ]
  },
  {
   "cell_type": "code",
   "execution_count": 254,
   "metadata": {},
   "outputs": [
    {
     "data": {
      "text/plain": [
       "3224"
      ]
     },
     "execution_count": 254,
     "metadata": {},
     "output_type": "execute_result"
    }
   ],
   "source": [
    "len(train_data)"
   ]
  },
  {
   "cell_type": "code",
   "execution_count": 256,
   "metadata": {},
   "outputs": [
    {
     "data": {
      "text/plain": [
       "array([0.    , 0.42  , 0.42  , 0.    , 1.27  , 0.    , 0.42  , 0.    ,\n",
       "       0.    , 1.27  , 0.    , 0.    , 0.    , 0.    , 0.    , 1.27  ,\n",
       "       0.    , 0.    , 1.7   , 0.42  , 1.27  , 0.    , 0.    , 0.42  ,\n",
       "       0.    , 0.    , 0.    , 0.    , 0.    , 0.    , 0.    , 0.    ,\n",
       "       0.    , 0.    , 0.    , 0.    , 1.27  , 0.    , 0.    , 0.42  ,\n",
       "       0.    , 0.    , 0.    , 0.    , 0.    , 0.    , 0.    , 0.    ,\n",
       "       0.    , 0.063 , 0.    , 0.572 , 0.063 , 0.    , 0.5659, 0.55  ,\n",
       "       0.249 ])"
      ]
     },
     "execution_count": 256,
     "metadata": {},
     "output_type": "execute_result"
    }
   ],
   "source": [
    "train_data[10]"
   ]
  },
  {
   "cell_type": "markdown",
   "metadata": {},
   "source": [
    "使用tensorflow 构建一个不含隐层两层的网络。 激活函数选择sigmoid。"
   ]
  },
  {
   "cell_type": "code",
   "execution_count": 395,
   "metadata": {},
   "outputs": [],
   "source": [
    "from tensorflow.keras import layers\n",
    "model = tf.keras.Sequential([\n",
    "layers.Dense(57, activation='softmax'),\n",
    "layers.Dense(1, activation='sigmoid')])"
   ]
  },
  {
   "cell_type": "code",
   "execution_count": 396,
   "metadata": {},
   "outputs": [],
   "source": [
    "model.compile(optimizer=tf.train.AdamOptimizer(),\n",
    "              loss='binary_crossentropy',\n",
    "              metrics=['accuracy'])"
   ]
  },
  {
   "cell_type": "code",
   "execution_count": 397,
   "metadata": {},
   "outputs": [
    {
     "name": "stdout",
     "output_type": "stream",
     "text": [
      "Train on 3224 samples, validate on 1377 samples\n",
      "Epoch 1/40\n",
      "3224/3224 [==============================] - 2s 646us/step - loss: 0.6551 - acc: 0.7618 - val_loss: 0.6126 - val_acc: 0.8395\n",
      "Epoch 2/40\n",
      "3224/3224 [==============================] - 0s 70us/step - loss: 0.5735 - acc: 0.8623 - val_loss: 0.5220 - val_acc: 0.8983\n",
      "Epoch 3/40\n",
      "3224/3224 [==============================] - 0s 69us/step - loss: 0.4934 - acc: 0.8995 - val_loss: 0.4464 - val_acc: 0.9107\n",
      "Epoch 4/40\n",
      "3224/3224 [==============================] - 0s 70us/step - loss: 0.4271 - acc: 0.9094 - val_loss: 0.3840 - val_acc: 0.9259\n",
      "Epoch 5/40\n",
      "3224/3224 [==============================] - 0s 69us/step - loss: 0.3737 - acc: 0.9178 - val_loss: 0.3361 - val_acc: 0.9296\n",
      "Epoch 6/40\n",
      "3224/3224 [==============================] - 0s 69us/step - loss: 0.3337 - acc: 0.9228 - val_loss: 0.3018 - val_acc: 0.9332\n",
      "Epoch 7/40\n",
      "3224/3224 [==============================] - 0s 69us/step - loss: 0.3037 - acc: 0.9256 - val_loss: 0.2768 - val_acc: 0.9354\n",
      "Epoch 8/40\n",
      "3224/3224 [==============================] - 0s 68us/step - loss: 0.2818 - acc: 0.9299 - val_loss: 0.2579 - val_acc: 0.9368\n",
      "Epoch 9/40\n",
      "3224/3224 [==============================] - 0s 69us/step - loss: 0.2651 - acc: 0.9311 - val_loss: 0.2439 - val_acc: 0.9397\n",
      "Epoch 10/40\n",
      "3224/3224 [==============================] - 0s 70us/step - loss: 0.2521 - acc: 0.9308 - val_loss: 0.2332 - val_acc: 0.9412\n",
      "Epoch 11/40\n",
      "3224/3224 [==============================] - 0s 69us/step - loss: 0.2415 - acc: 0.9333 - val_loss: 0.2242 - val_acc: 0.9419\n",
      "Epoch 12/40\n",
      "3224/3224 [==============================] - 0s 69us/step - loss: 0.2327 - acc: 0.9311 - val_loss: 0.2170 - val_acc: 0.9397\n",
      "Epoch 13/40\n",
      "3224/3224 [==============================] - 0s 69us/step - loss: 0.2254 - acc: 0.9311 - val_loss: 0.2113 - val_acc: 0.9383\n",
      "Epoch 14/40\n",
      "3224/3224 [==============================] - 0s 72us/step - loss: 0.2187 - acc: 0.9327 - val_loss: 0.2074 - val_acc: 0.9383\n",
      "Epoch 15/40\n",
      "3224/3224 [==============================] - 0s 70us/step - loss: 0.2133 - acc: 0.9342 - val_loss: 0.2027 - val_acc: 0.9368\n",
      "Epoch 16/40\n",
      "3224/3224 [==============================] - 0s 69us/step - loss: 0.2083 - acc: 0.9349 - val_loss: 0.1993 - val_acc: 0.9390\n",
      "Epoch 17/40\n",
      "3224/3224 [==============================] - 0s 69us/step - loss: 0.2034 - acc: 0.9380 - val_loss: 0.1963 - val_acc: 0.9397\n",
      "Epoch 18/40\n",
      "3224/3224 [==============================] - 0s 69us/step - loss: 0.1994 - acc: 0.9373 - val_loss: 0.1942 - val_acc: 0.9390\n",
      "Epoch 19/40\n",
      "3224/3224 [==============================] - 0s 69us/step - loss: 0.1957 - acc: 0.9404 - val_loss: 0.1922 - val_acc: 0.9390\n",
      "Epoch 20/40\n",
      "3224/3224 [==============================] - 0s 70us/step - loss: 0.1924 - acc: 0.9404 - val_loss: 0.1896 - val_acc: 0.9412\n",
      "Epoch 21/40\n",
      "3224/3224 [==============================] - 0s 69us/step - loss: 0.1893 - acc: 0.9420 - val_loss: 0.1879 - val_acc: 0.9412\n",
      "Epoch 22/40\n",
      "3224/3224 [==============================] - 0s 69us/step - loss: 0.1864 - acc: 0.9423 - val_loss: 0.1864 - val_acc: 0.9412\n",
      "Epoch 23/40\n",
      "3224/3224 [==============================] - 0s 69us/step - loss: 0.1836 - acc: 0.9429 - val_loss: 0.1853 - val_acc: 0.9405\n",
      "Epoch 24/40\n",
      "3224/3224 [==============================] - 0s 69us/step - loss: 0.1813 - acc: 0.9429 - val_loss: 0.1837 - val_acc: 0.9412\n",
      "Epoch 25/40\n",
      "3224/3224 [==============================] - 0s 69us/step - loss: 0.1790 - acc: 0.9439 - val_loss: 0.1823 - val_acc: 0.9419\n",
      "Epoch 26/40\n",
      "3224/3224 [==============================] - 0s 69us/step - loss: 0.1768 - acc: 0.9454 - val_loss: 0.1816 - val_acc: 0.9434\n",
      "Epoch 27/40\n",
      "3224/3224 [==============================] - 0s 71us/step - loss: 0.1748 - acc: 0.9445 - val_loss: 0.1807 - val_acc: 0.9426\n",
      "Epoch 28/40\n",
      "3224/3224 [==============================] - 0s 73us/step - loss: 0.1729 - acc: 0.9451 - val_loss: 0.1798 - val_acc: 0.9434\n",
      "Epoch 29/40\n",
      "3224/3224 [==============================] - 0s 70us/step - loss: 0.1711 - acc: 0.9454 - val_loss: 0.1790 - val_acc: 0.9434\n",
      "Epoch 30/40\n",
      "3224/3224 [==============================] - 0s 71us/step - loss: 0.1693 - acc: 0.9454 - val_loss: 0.1784 - val_acc: 0.9441\n",
      "Epoch 31/40\n",
      "3224/3224 [==============================] - 0s 68us/step - loss: 0.1677 - acc: 0.9460 - val_loss: 0.1777 - val_acc: 0.9441\n",
      "Epoch 32/40\n",
      "3224/3224 [==============================] - 0s 71us/step - loss: 0.1660 - acc: 0.9467 - val_loss: 0.1770 - val_acc: 0.9434\n",
      "Epoch 33/40\n",
      "3224/3224 [==============================] - 0s 69us/step - loss: 0.1644 - acc: 0.9470 - val_loss: 0.1764 - val_acc: 0.9426\n",
      "Epoch 34/40\n",
      "3224/3224 [==============================] - 0s 69us/step - loss: 0.1625 - acc: 0.9476 - val_loss: 0.1754 - val_acc: 0.9434\n",
      "Epoch 35/40\n",
      "3224/3224 [==============================] - 0s 69us/step - loss: 0.1609 - acc: 0.9491 - val_loss: 0.1748 - val_acc: 0.9426\n",
      "Epoch 36/40\n",
      "3224/3224 [==============================] - 0s 68us/step - loss: 0.1596 - acc: 0.9485 - val_loss: 0.1742 - val_acc: 0.9419\n",
      "Epoch 37/40\n",
      "3224/3224 [==============================] - 0s 70us/step - loss: 0.1580 - acc: 0.9498 - val_loss: 0.1731 - val_acc: 0.9441\n",
      "Epoch 38/40\n",
      "3224/3224 [==============================] - 0s 69us/step - loss: 0.1568 - acc: 0.9498 - val_loss: 0.1722 - val_acc: 0.9448\n",
      "Epoch 39/40\n",
      "3224/3224 [==============================] - 0s 70us/step - loss: 0.1555 - acc: 0.9507 - val_loss: 0.1719 - val_acc: 0.9441\n",
      "Epoch 40/40\n",
      "3224/3224 [==============================] - 0s 70us/step - loss: 0.1539 - acc: 0.9491 - val_loss: 0.1712 - val_acc: 0.9470\n"
     ]
    }
   ],
   "source": [
    "history = model.fit(train_data,\n",
    "                    train_label,\n",
    "                    epochs=40,\n",
    "                    batch_size=20,\n",
    "                    validation_data=(test_data, test_label),\n",
    "                    verbose=1)"
   ]
  },
  {
   "cell_type": "code",
   "execution_count": 398,
   "metadata": {},
   "outputs": [],
   "source": [
    "history_dict = history.history\n",
    "history_dict.keys()\n",
    "dict_keys=['loss', 'val_loss', 'val_acc', 'acc']"
   ]
  },
  {
   "cell_type": "code",
   "execution_count": 399,
   "metadata": {},
   "outputs": [
    {
     "data": {
      "image/png": "[encoded data removed]",
      "text/plain": [
       "<Figure size 432x288 with 1 Axes>"
      ]
     },
     "metadata": {
      "needs_background": "light"
     },
     "output_type": "display_data"
    }
   ],
   "source": [
    "import matplotlib.pyplot as plt\n",
    "%matplotlib inline\n",
    "acc = history.history['acc']\n",
    "val_acc = history.history['val_acc']\n",
    "loss = history.history['loss']\n",
    "val_loss = history.history['val_loss']\n",
    "\n",
    "epochs = range(1, len(acc) + 1)\n",
    "\n",
    "# \"bo\" is for \"blue dot\"\n",
    "plt.plot(epochs, loss, 'bo', label='Training loss')\n",
    "# b is for \"solid blue line\"\n",
    "plt.plot(epochs, val_loss, 'b', label='Validation loss')\n",
    "plt.title('Training and validation loss')\n",
    "plt.xlabel('Epochs')\n",
    "plt.ylabel('Loss')\n",
    "plt.legend()\n",
    "\n",
    "plt.show()"
   ]
  },
  {
   "cell_type": "code",
   "execution_count": 400,
   "metadata": {},
   "outputs": [
    {
     "data": {
      "image/png": "[encoded data removed]",
      "text/plain": [
       "<Figure size 432x288 with 1 Axes>"
      ]
     },
     "metadata": {
      "needs_background": "light"
     },
     "output_type": "display_data"
    }
   ],
   "source": [
    "acc_values = history_dict['acc']\n",
    "val_acc_values = history_dict['val_acc']\n",
    "\n",
    "plt.plot(epochs, acc, 'bo', label='Training acc')\n",
    "plt.plot(epochs, val_acc, 'b', label='Validation acc')\n",
    "plt.title('Training and validation accuracy')\n",
    "plt.xlabel('Epochs')\n",
    "plt.ylabel('Accuracy')\n",
    "plt.legend()\n",
    "\n",
    "plt.show()"
   ]
  },
  {
   "cell_type": "code",
   "execution_count": null,
   "metadata": {},
   "outputs": [],
   "source": []
  }
 ],
 "metadata": {
  "kernelspec": {
   "display_name": "Python 3",
   "language": "python",
   "name": "python3"
  },
  "language_info": {
   "codemirror_mode": {
    "name": "ipython",
    "version": 3
   },
   "file_extension": ".py",
   "mimetype": "text/x-python",
   "name": "python",
   "nbconvert_exporter": "python",
   "pygments_lexer": "ipython3",
   "version": "3.6.7"
  }
 },
 "nbformat": 4,
 "nbformat_minor": 2
}
