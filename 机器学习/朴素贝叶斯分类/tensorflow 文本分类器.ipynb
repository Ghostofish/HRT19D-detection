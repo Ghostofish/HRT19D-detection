{
 "cells": [
  {
   "cell_type": "markdown",
   "metadata": {},
   "source": [
    "# 垃圾邮件文本分类\n",
    "----\n",
    "使用tensorflow 重新进行文本分类，最终在测试集上的损失率降低至0.17 准确率达到0.95以上。"
   ]
  },
  {
   "cell_type": "code",
   "execution_count": 1,
   "metadata": {},
   "outputs": [],
   "source": [
    "import tensorflow as tf\n",
    "from tensorflow import keras\n",
    "import numpy as np"
   ]
  },
  {
   "cell_type": "code",
   "execution_count": 2,
   "metadata": {},
   "outputs": [],
   "source": [
    "def load_data(file_path):\n",
    "    data=[]\n",
    "    label=[]\n",
    "    with open(file_path,\"r\") as data_file:\n",
    "        raw_data=data_file.readlines()\n",
    "        for raw_line in raw_data:\n",
    "            sample=raw_line[:-1]\n",
    "            sample=sample.split(\",\")\n",
    "            label.append(sample[-1])\n",
    "            sample=np.array([float(feature) for feature in sample[:-1]])\n",
    "            sample[-3]/=10\n",
    "            sample[-2]/=100\n",
    "            sample[-1]/=1000\n",
    "            data.append(sample)\n",
    "    return np.array(data),np.array(label)\n",
    "train_data,train_label=load_data(\"./spambase_train.data\")\n",
    "test_data,test_label=load_data(\"./spambase_test.data\")"
   ]
  },
  {
   "cell_type": "code",
   "execution_count": 3,
   "metadata": {},
   "outputs": [
    {
     "data": {
      "text/plain": [
       "3224"
      ]
     },
     "execution_count": 3,
     "metadata": {},
     "output_type": "execute_result"
    }
   ],
   "source": [
    "len(train_data)"
   ]
  },
  {
   "cell_type": "code",
   "execution_count": 4,
   "metadata": {},
   "outputs": [
    {
     "data": {
      "text/plain": [
       "array([0.    , 0.42  , 0.42  , 0.    , 1.27  , 0.    , 0.42  , 0.    ,\n",
       "       0.    , 1.27  , 0.    , 0.    , 0.    , 0.    , 0.    , 1.27  ,\n",
       "       0.    , 0.    , 1.7   , 0.42  , 1.27  , 0.    , 0.    , 0.42  ,\n",
       "       0.    , 0.    , 0.    , 0.    , 0.    , 0.    , 0.    , 0.    ,\n",
       "       0.    , 0.    , 0.    , 0.    , 1.27  , 0.    , 0.    , 0.42  ,\n",
       "       0.    , 0.    , 0.    , 0.    , 0.    , 0.    , 0.    , 0.    ,\n",
       "       0.    , 0.063 , 0.    , 0.572 , 0.063 , 0.    , 0.5659, 0.55  ,\n",
       "       0.249 ])"
      ]
     },
     "execution_count": 4,
     "metadata": {},
     "output_type": "execute_result"
    }
   ],
   "source": [
    "train_data[10]"
   ]
  },
  {
   "cell_type": "markdown",
   "metadata": {},
   "source": [
    "使用tensorflow 构建一个不含隐层两层的网络。 激活函数选择sigmoid。"
   ]
  },
  {
   "cell_type": "code",
   "execution_count": 5,
   "metadata": {},
   "outputs": [],
   "source": [
    "from tensorflow.keras import layers\n",
    "model = tf.keras.Sequential([\n",
    "layers.Dense(57, activation='softmax'),\n",
    "layers.Dense(1, activation='sigmoid')])"
   ]
  },
  {
   "cell_type": "code",
   "execution_count": 6,
   "metadata": {},
   "outputs": [],
   "source": [
    "model.compile(optimizer=tf.train.AdamOptimizer(),\n",
    "              loss='binary_crossentropy',\n",
    "              metrics=['accuracy'])"
   ]
  },
  {
   "cell_type": "code",
   "execution_count": 7,
   "metadata": {},
   "outputs": [
    {
     "name": "stdout",
     "output_type": "stream",
     "text": [
      "Train on 3224 samples, validate on 1377 samples\n",
      "Epoch 1/40\n",
      "3224/3224 [==============================] - 0s 111us/step - loss: 0.6583 - acc: 0.6635 - val_loss: 0.6185 - val_acc: 0.7705\n",
      "Epoch 2/40\n",
      "3224/3224 [==============================] - 0s 38us/step - loss: 0.5813 - acc: 0.8362 - val_loss: 0.5293 - val_acc: 0.8998\n",
      "Epoch 3/40\n",
      "3224/3224 [==============================] - 0s 38us/step - loss: 0.4996 - acc: 0.8958 - val_loss: 0.4525 - val_acc: 0.9136\n",
      "Epoch 4/40\n",
      "3224/3224 [==============================] - 0s 38us/step - loss: 0.4345 - acc: 0.9110 - val_loss: 0.3935 - val_acc: 0.9230\n",
      "Epoch 5/40\n",
      "3224/3224 [==============================] - 0s 38us/step - loss: 0.3848 - acc: 0.9184 - val_loss: 0.3492 - val_acc: 0.9310\n",
      "Epoch 6/40\n",
      "3224/3224 [==============================] - 0s 39us/step - loss: 0.3480 - acc: 0.9212 - val_loss: 0.3166 - val_acc: 0.9368\n",
      "Epoch 7/40\n",
      "3224/3224 [==============================] - 0s 39us/step - loss: 0.3206 - acc: 0.9265 - val_loss: 0.2924 - val_acc: 0.9339\n",
      "Epoch 8/40\n",
      "3224/3224 [==============================] - 0s 38us/step - loss: 0.2994 - acc: 0.9265 - val_loss: 0.2736 - val_acc: 0.9354\n",
      "Epoch 9/40\n",
      "3224/3224 [==============================] - 0s 38us/step - loss: 0.2822 - acc: 0.9268 - val_loss: 0.2588 - val_acc: 0.9354\n",
      "Epoch 10/40\n",
      "3224/3224 [==============================] - 0s 38us/step - loss: 0.2674 - acc: 0.9268 - val_loss: 0.2466 - val_acc: 0.9368\n",
      "Epoch 11/40\n",
      "3224/3224 [==============================] - 0s 39us/step - loss: 0.2552 - acc: 0.9302 - val_loss: 0.2363 - val_acc: 0.9390\n",
      "Epoch 12/40\n",
      "3224/3224 [==============================] - 0s 39us/step - loss: 0.2448 - acc: 0.9315 - val_loss: 0.2284 - val_acc: 0.9375\n",
      "Epoch 13/40\n",
      "3224/3224 [==============================] - 0s 40us/step - loss: 0.2363 - acc: 0.9299 - val_loss: 0.2216 - val_acc: 0.9361\n",
      "Epoch 14/40\n",
      "3224/3224 [==============================] - 0s 39us/step - loss: 0.2287 - acc: 0.9311 - val_loss: 0.2158 - val_acc: 0.9375\n",
      "Epoch 15/40\n",
      "3224/3224 [==============================] - ETA: 0s - loss: 0.2237 - acc: 0.932 - 0s 39us/step - loss: 0.2219 - acc: 0.9333 - val_loss: 0.2110 - val_acc: 0.9368\n",
      "Epoch 16/40\n",
      "3224/3224 [==============================] - 0s 40us/step - loss: 0.2161 - acc: 0.9346 - val_loss: 0.2067 - val_acc: 0.9383\n",
      "Epoch 17/40\n",
      "3224/3224 [==============================] - 0s 39us/step - loss: 0.2108 - acc: 0.9355 - val_loss: 0.2034 - val_acc: 0.9368\n",
      "Epoch 18/40\n",
      "3224/3224 [==============================] - 0s 40us/step - loss: 0.2061 - acc: 0.9383 - val_loss: 0.1996 - val_acc: 0.9397\n",
      "Epoch 19/40\n",
      "3224/3224 [==============================] - 0s 41us/step - loss: 0.2021 - acc: 0.9398 - val_loss: 0.1971 - val_acc: 0.9390\n",
      "Epoch 20/40\n",
      "3224/3224 [==============================] - 0s 39us/step - loss: 0.1986 - acc: 0.9411 - val_loss: 0.1943 - val_acc: 0.9397\n",
      "Epoch 21/40\n",
      "3224/3224 [==============================] - 0s 38us/step - loss: 0.1952 - acc: 0.9420 - val_loss: 0.1920 - val_acc: 0.9397\n",
      "Epoch 22/40\n",
      "3224/3224 [==============================] - 0s 38us/step - loss: 0.1921 - acc: 0.9417 - val_loss: 0.1900 - val_acc: 0.9397\n",
      "Epoch 23/40\n",
      "3224/3224 [==============================] - 0s 38us/step - loss: 0.1894 - acc: 0.9423 - val_loss: 0.1883 - val_acc: 0.9397\n",
      "Epoch 24/40\n",
      "3224/3224 [==============================] - 0s 38us/step - loss: 0.1867 - acc: 0.9432 - val_loss: 0.1867 - val_acc: 0.9426\n",
      "Epoch 25/40\n",
      "3224/3224 [==============================] - 0s 38us/step - loss: 0.1843 - acc: 0.9426 - val_loss: 0.1850 - val_acc: 0.9419\n",
      "Epoch 26/40\n",
      "3224/3224 [==============================] - 0s 38us/step - loss: 0.1818 - acc: 0.9439 - val_loss: 0.1840 - val_acc: 0.9419\n",
      "Epoch 27/40\n",
      "3224/3224 [==============================] - 0s 39us/step - loss: 0.1798 - acc: 0.9442 - val_loss: 0.1827 - val_acc: 0.9419\n",
      "Epoch 28/40\n",
      "3224/3224 [==============================] - 0s 40us/step - loss: 0.1776 - acc: 0.9445 - val_loss: 0.1816 - val_acc: 0.9397\n",
      "Epoch 29/40\n",
      "3224/3224 [==============================] - 0s 39us/step - loss: 0.1755 - acc: 0.9454 - val_loss: 0.1807 - val_acc: 0.9412\n",
      "Epoch 30/40\n",
      "3224/3224 [==============================] - 0s 41us/step - loss: 0.1735 - acc: 0.9460 - val_loss: 0.1796 - val_acc: 0.9419\n",
      "Epoch 31/40\n",
      "3224/3224 [==============================] - 0s 40us/step - loss: 0.1718 - acc: 0.9463 - val_loss: 0.1787 - val_acc: 0.9419\n",
      "Epoch 32/40\n",
      "3224/3224 [==============================] - 0s 39us/step - loss: 0.1701 - acc: 0.9479 - val_loss: 0.1779 - val_acc: 0.9426\n",
      "Epoch 33/40\n",
      "3224/3224 [==============================] - 0s 38us/step - loss: 0.1684 - acc: 0.9479 - val_loss: 0.1768 - val_acc: 0.9426\n",
      "Epoch 34/40\n",
      "3224/3224 [==============================] - ETA: 0s - loss: 0.1603 - acc: 0.953 - 0s 37us/step - loss: 0.1665 - acc: 0.9491 - val_loss: 0.1754 - val_acc: 0.9426\n",
      "Epoch 35/40\n",
      "3224/3224 [==============================] - 0s 39us/step - loss: 0.1647 - acc: 0.9485 - val_loss: 0.1747 - val_acc: 0.9434\n",
      "Epoch 36/40\n",
      "3224/3224 [==============================] - 0s 39us/step - loss: 0.1630 - acc: 0.9485 - val_loss: 0.1737 - val_acc: 0.9419\n",
      "Epoch 37/40\n",
      "3224/3224 [==============================] - 0s 38us/step - loss: 0.1614 - acc: 0.9501 - val_loss: 0.1732 - val_acc: 0.9426\n",
      "Epoch 38/40\n",
      "3224/3224 [==============================] - 0s 38us/step - loss: 0.1603 - acc: 0.9501 - val_loss: 0.1730 - val_acc: 0.9405\n",
      "Epoch 39/40\n",
      "3224/3224 [==============================] - 0s 38us/step - loss: 0.1589 - acc: 0.9507 - val_loss: 0.1721 - val_acc: 0.9434\n",
      "Epoch 40/40\n",
      "3224/3224 [==============================] - 0s 38us/step - loss: 0.1576 - acc: 0.9516 - val_loss: 0.1718 - val_acc: 0.9434\n"
     ]
    }
   ],
   "source": [
    "history = model.fit(train_data,\n",
    "                    train_label,\n",
    "                    epochs=40,\n",
    "                    batch_size=20,\n",
    "                    validation_data=(test_data, test_label),\n",
    "                    verbose=1)"
   ]
  },
  {
   "cell_type": "code",
   "execution_count": 8,
   "metadata": {},
   "outputs": [],
   "source": [
    "history_dict = history.history\n",
    "history_dict.keys()\n",
    "dict_keys=['loss', 'val_loss', 'val_acc', 'acc']"
   ]
  },
  {
   "cell_type": "code",
   "execution_count": 9,
   "metadata": {},
   "outputs": [
    {
     "data": {
      "image/png": "[encoded data removed]",
      "text/plain": [
       "<Figure size 432x288 with 1 Axes>"
      ]
     },
     "metadata": {
      "needs_background": "light"
     },
     "output_type": "display_data"
    }
   ],
   "source": [
    "import matplotlib.pyplot as plt\n",
    "%matplotlib inline\n",
    "acc = history.history['acc']\n",
    "val_acc = history.history['val_acc']\n",
    "loss = history.history['loss']\n",
    "val_loss = history.history['val_loss']\n",
    "\n",
    "epochs = range(1, len(acc) + 1)\n",
    "\n",
    "# \"bo\" is for \"blue dot\"\n",
    "plt.plot(epochs, loss, 'bo', label='Training loss')\n",
    "# b is for \"solid blue line\"\n",
    "plt.plot(epochs, val_loss, 'b', label='Validation loss')\n",
    "plt.title('Training and validation loss')\n",
    "plt.xlabel('Epochs')\n",
    "plt.ylabel('Loss')\n",
    "plt.legend()\n",
    "\n",
    "plt.show()"
   ]
  },
  {
   "cell_type": "code",
   "execution_count": 10,
   "metadata": {},
   "outputs": [
    {
     "data": {
      "image/png": "[encoded data removed]",
      "text/plain": [
       "<Figure size 432x288 with 1 Axes>"
      ]
     },
     "metadata": {
      "needs_background": "light"
     },
     "output_type": "display_data"
    }
   ],
   "source": [
    "acc_values = history_dict['acc']\n",
    "val_acc_values = history_dict['val_acc']\n",
    "\n",
    "plt.plot(epochs, acc, 'bo', label='Training acc')\n",
    "plt.plot(epochs, val_acc, 'b', label='Validation acc')\n",
    "plt.title('Training and validation accuracy')\n",
    "plt.xlabel('Epochs')\n",
    "plt.ylabel('Accuracy')\n",
    "plt.legend()\n",
    "\n",
    "plt.show()"
   ]
  },
  {
   "cell_type": "code",
   "execution_count": 13,
   "metadata": {},
   "outputs": [],
   "source": [
    "predictions = model.predict(train_data)"
   ]
  },
  {
   "cell_type": "code",
   "execution_count": 26,
   "metadata": {},
   "outputs": [],
   "source": [
    "def load_prediction_data(file_path):\n",
    "    data=[]\n",
    "    with open(file_path,\"r\") as data_file:\n",
    "        raw_data=data_file.readlines()\n",
    "        for raw_line in raw_data:\n",
    "            sample=raw_line[:-1]\n",
    "            sample=sample.split(\",\")\n",
    "            sample=np.array([float(feature) for feature in sample])\n",
    "            sample[-3]/=10\n",
    "            sample[-2]/=100\n",
    "            sample[-1]/=1000\n",
    "            data.append(sample)\n",
    "    return np.array(data)\n",
    "prediction_data=load_prediction_data(\".\\get_the_flag.data\")"
   ]
  },
  {
   "cell_type": "code",
   "execution_count": 27,
   "metadata": {},
   "outputs": [],
   "source": [
    "predictions = model.predict(prediction_data)"
   ]
  },
  {
   "cell_type": "code",
   "execution_count": 32,
   "metadata": {},
   "outputs": [
    {
     "data": {
      "image/png": "[encoded data removed]",
      "text/plain": [
       "<Figure size 3600x72 with 1 Axes>"
      ]
     },
     "metadata": {
      "needs_background": "light"
     },
     "output_type": "display_data"
    }
   ],
   "source": [
    "data_show=[]\n",
    "for i in predictions:\n",
    "    if i[0]<0.5:\n",
    "        data_show.append(0)\n",
    "    else:\n",
    "        data_show.append(1)\n",
    "plt.rcParams['figure.figsize'] = (50.0, 1.0) \n",
    "plt.scatter(range(len(data_show)),data_show,linewidth=0.1,s=10)\n",
    "plt.show()"
   ]
  },
  {
   "cell_type": "code",
   "execution_count": null,
   "metadata": {},
   "outputs": [],
   "source": []
  }
 ],
 "metadata": {
  "kernelspec": {
   "display_name": "Python 3",
   "language": "python",
   "name": "python3"
  },
  "language_info": {
   "codemirror_mode": {
    "name": "ipython",
    "version": 3
   },
   "file_extension": ".py",
   "mimetype": "text/x-python",
   "name": "python",
   "nbconvert_exporter": "python",
   "pygments_lexer": "ipython3",
   "version": "3.6.7"
  }
 },
 "nbformat": 4,
 "nbformat_minor": 2
}
