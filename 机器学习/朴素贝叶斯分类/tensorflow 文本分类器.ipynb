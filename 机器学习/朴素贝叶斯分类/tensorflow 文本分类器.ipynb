{
 "cells": [
  {
   "cell_type": "markdown",
   "metadata": {},
   "source": [
    "# 垃圾邮件文本分类\n",
    "----\n",
    "使用tensorflow 重新进行文本分类，最终在测试集上的损失率降低至0.17 准确率达到0.95以上。"
   ]
  },
  {
   "cell_type": "code",
   "execution_count": 1,
   "metadata": {},
   "outputs": [],
   "source": [
    "import tensorflow as tf\n",
    "from tensorflow import keras\n",
    "import numpy as np"
   ]
  },
  {
   "cell_type": "markdown",
   "metadata": {},
   "source": [
    "代码开始时先引入需要的包，Python 为解释行语言，所以可以在任何地方引入想要的包。\n",
    "\n",
    "import tensorflow as tf \n",
    "\n",
    "引入 tensorflow 这个包，并将这个包的名字重命名为 tf 这样就可以使用 tf.xxx 来调用 tf 包里的内容。\n",
    "\n",
    "\n",
    "from tensorflow import keras\n",
    "\n",
    "从tensorflow 中引入 keras 模块。 keras 中主要实现了高阶的机器学习网络模型，可以使网络的搭建更简单。"
   ]
  },
  {
   "cell_type": "code",
   "execution_count": 2,
   "metadata": {},
   "outputs": [],
   "source": [
    "def load_data(file_path):\n",
    "    data=[]\n",
    "    label=[]\n",
    "    with open(file_path,\"r\") as data_file:\n",
    "        raw_data=data_file.readlines()\n",
    "        for raw_line in raw_data:\n",
    "            sample=raw_line[:-1]\n",
    "            sample=sample.split(\",\")\n",
    "            label.append(sample[-1])\n",
    "            sample=np.array([float(feature) for feature in sample[:-1]])\n",
    "            sample[-3]/=10\n",
    "            sample[-2]/=100\n",
    "            sample[-1]/=1000\n",
    "            data.append(sample)\n",
    "    return np.array(data),np.array(label)\n",
    "train_data,train_label=load_data(\"./spambase_train.data\")\n",
    "test_data,test_label=load_data(\"./spambase_test.data\")"
   ]
  },
  {
   "cell_type": "markdown",
   "metadata": {},
   "source": [
    "定义了一个从文件中读取数据的函数。"
   ]
  },
  {
   "cell_type": "code",
<<<<<<< HEAD
   "execution_count": 3,
=======
   "execution_count": 4,
>>>>>>> d80838094d4dfebad2fa4446ccf128f087a58615
   "metadata": {},
   "outputs": [
    {
     "data": {
      "text/plain": [
       "1377"
      ]
     },
<<<<<<< HEAD
     "execution_count": 3,
=======
     "execution_count": 4,
>>>>>>> d80838094d4dfebad2fa4446ccf128f087a58615
     "metadata": {},
     "output_type": "execute_result"
    }
   ],
   "source": [
    "len(test_data)"
   ]
  },
  {
   "cell_type": "code",
<<<<<<< HEAD
   "execution_count": 4,
=======
   "execution_count": 5,
>>>>>>> d80838094d4dfebad2fa4446ccf128f087a58615
   "metadata": {},
   "outputs": [
    {
     "data": {
      "text/plain": [
       "array([0.    , 0.42  , 0.42  , 0.    , 1.27  , 0.    , 0.42  , 0.    ,\n",
       "       0.    , 1.27  , 0.    , 0.    , 0.    , 0.    , 0.    , 1.27  ,\n",
       "       0.    , 0.    , 1.7   , 0.42  , 1.27  , 0.    , 0.    , 0.42  ,\n",
       "       0.    , 0.    , 0.    , 0.    , 0.    , 0.    , 0.    , 0.    ,\n",
       "       0.    , 0.    , 0.    , 0.    , 1.27  , 0.    , 0.    , 0.42  ,\n",
       "       0.    , 0.    , 0.    , 0.    , 0.    , 0.    , 0.    , 0.    ,\n",
       "       0.    , 0.063 , 0.    , 0.572 , 0.063 , 0.    , 0.5659, 0.55  ,\n",
       "       0.249 ])"
      ]
     },
<<<<<<< HEAD
     "execution_count": 4,
=======
     "execution_count": 5,
>>>>>>> d80838094d4dfebad2fa4446ccf128f087a58615
     "metadata": {},
     "output_type": "execute_result"
    }
   ],
   "source": [
    "train_data[10]"
   ]
  },
  {
   "cell_type": "markdown",
   "metadata": {},
   "source": [
    "keras 中的模型完全由 python 语言描述，相比之下，其它框架可能需要配置文件。\n",
    "\n",
    "下面这个模型共两层，其中第一层共57个结点，激活函数为 softmax ，第二层只有1个结点，激活函数为sigmoid。\n",
    "\n",
    "在模型定义好后需编译模型，这是可以选用优化器，损失函数和优化目标。这里使用的是对数损失函数，\n",
    "\n",
    "最终设定超参数，让模型去适应训练集和测试集。其中，所有训练样本完成一次正向传播和反向传播称为一个epoch。 batch_size 为在使用随机梯度下降时一组数据的数据量。"
   ]
  },
  {
   "cell_type": "code",
<<<<<<< HEAD
   "execution_count": 5,
=======
   "execution_count": 18,
>>>>>>> d80838094d4dfebad2fa4446ccf128f087a58615
   "metadata": {},
   "outputs": [],
   "source": [
    "from tensorflow.keras import layers\n",
    "model = tf.keras.Sequential([\n",
    "layers.Dense(57, activation='softmax'),\n",
    "layers.Dense(1, activation='sigmoid')])"
   ]
  },
  {
   "cell_type": "code",
<<<<<<< HEAD
   "execution_count": 6,
=======
   "execution_count": 19,
>>>>>>> d80838094d4dfebad2fa4446ccf128f087a58615
   "metadata": {},
   "outputs": [],
   "source": [
    "model.compile(optimizer=tf.train.AdamOptimizer(),\n",
    "              loss='binary_crossentropy',\n",
    "              metrics=['accuracy'])"
   ]
  },
  {
   "cell_type": "code",
<<<<<<< HEAD
   "execution_count": 7,
=======
   "execution_count": 20,
>>>>>>> d80838094d4dfebad2fa4446ccf128f087a58615
   "metadata": {},
   "outputs": [
    {
     "name": "stdout",
     "output_type": "stream",
     "text": [
      "Train on 3224 samples, validate on 1377 samples\n",
      "Epoch 1/40\n",
<<<<<<< HEAD
      "3224/3224 [==============================] - 0s 111us/step - loss: 0.6583 - acc: 0.6635 - val_loss: 0.6185 - val_acc: 0.7705\n",
      "Epoch 2/40\n",
      "3224/3224 [==============================] - 0s 38us/step - loss: 0.5813 - acc: 0.8362 - val_loss: 0.5293 - val_acc: 0.8998\n",
      "Epoch 3/40\n",
      "3224/3224 [==============================] - 0s 38us/step - loss: 0.4996 - acc: 0.8958 - val_loss: 0.4525 - val_acc: 0.9136\n",
      "Epoch 4/40\n",
      "3224/3224 [==============================] - 0s 38us/step - loss: 0.4345 - acc: 0.9110 - val_loss: 0.3935 - val_acc: 0.9230\n",
      "Epoch 5/40\n",
      "3224/3224 [==============================] - 0s 38us/step - loss: 0.3848 - acc: 0.9184 - val_loss: 0.3492 - val_acc: 0.9310\n",
      "Epoch 6/40\n",
      "3224/3224 [==============================] - 0s 39us/step - loss: 0.3480 - acc: 0.9212 - val_loss: 0.3166 - val_acc: 0.9368\n",
      "Epoch 7/40\n",
      "3224/3224 [==============================] - 0s 39us/step - loss: 0.3206 - acc: 0.9265 - val_loss: 0.2924 - val_acc: 0.9339\n",
      "Epoch 8/40\n",
      "3224/3224 [==============================] - 0s 38us/step - loss: 0.2994 - acc: 0.9265 - val_loss: 0.2736 - val_acc: 0.9354\n",
      "Epoch 9/40\n",
      "3224/3224 [==============================] - 0s 38us/step - loss: 0.2822 - acc: 0.9268 - val_loss: 0.2588 - val_acc: 0.9354\n",
      "Epoch 10/40\n",
      "3224/3224 [==============================] - 0s 38us/step - loss: 0.2674 - acc: 0.9268 - val_loss: 0.2466 - val_acc: 0.9368\n",
      "Epoch 11/40\n",
      "3224/3224 [==============================] - 0s 39us/step - loss: 0.2552 - acc: 0.9302 - val_loss: 0.2363 - val_acc: 0.9390\n",
      "Epoch 12/40\n",
      "3224/3224 [==============================] - 0s 39us/step - loss: 0.2448 - acc: 0.9315 - val_loss: 0.2284 - val_acc: 0.9375\n",
      "Epoch 13/40\n",
      "3224/3224 [==============================] - 0s 40us/step - loss: 0.2363 - acc: 0.9299 - val_loss: 0.2216 - val_acc: 0.9361\n",
      "Epoch 14/40\n",
      "3224/3224 [==============================] - 0s 39us/step - loss: 0.2287 - acc: 0.9311 - val_loss: 0.2158 - val_acc: 0.9375\n",
      "Epoch 15/40\n",
      "3224/3224 [==============================] - ETA: 0s - loss: 0.2237 - acc: 0.932 - 0s 39us/step - loss: 0.2219 - acc: 0.9333 - val_loss: 0.2110 - val_acc: 0.9368\n",
      "Epoch 16/40\n",
      "3224/3224 [==============================] - 0s 40us/step - loss: 0.2161 - acc: 0.9346 - val_loss: 0.2067 - val_acc: 0.9383\n",
      "Epoch 17/40\n",
      "3224/3224 [==============================] - 0s 39us/step - loss: 0.2108 - acc: 0.9355 - val_loss: 0.2034 - val_acc: 0.9368\n",
      "Epoch 18/40\n",
      "3224/3224 [==============================] - 0s 40us/step - loss: 0.2061 - acc: 0.9383 - val_loss: 0.1996 - val_acc: 0.9397\n",
      "Epoch 19/40\n",
      "3224/3224 [==============================] - 0s 41us/step - loss: 0.2021 - acc: 0.9398 - val_loss: 0.1971 - val_acc: 0.9390\n",
      "Epoch 20/40\n",
      "3224/3224 [==============================] - 0s 39us/step - loss: 0.1986 - acc: 0.9411 - val_loss: 0.1943 - val_acc: 0.9397\n",
      "Epoch 21/40\n",
      "3224/3224 [==============================] - 0s 38us/step - loss: 0.1952 - acc: 0.9420 - val_loss: 0.1920 - val_acc: 0.9397\n",
      "Epoch 22/40\n",
      "3224/3224 [==============================] - 0s 38us/step - loss: 0.1921 - acc: 0.9417 - val_loss: 0.1900 - val_acc: 0.9397\n",
      "Epoch 23/40\n",
      "3224/3224 [==============================] - 0s 38us/step - loss: 0.1894 - acc: 0.9423 - val_loss: 0.1883 - val_acc: 0.9397\n",
      "Epoch 24/40\n",
      "3224/3224 [==============================] - 0s 38us/step - loss: 0.1867 - acc: 0.9432 - val_loss: 0.1867 - val_acc: 0.9426\n",
      "Epoch 25/40\n",
      "3224/3224 [==============================] - 0s 38us/step - loss: 0.1843 - acc: 0.9426 - val_loss: 0.1850 - val_acc: 0.9419\n",
      "Epoch 26/40\n",
      "3224/3224 [==============================] - 0s 38us/step - loss: 0.1818 - acc: 0.9439 - val_loss: 0.1840 - val_acc: 0.9419\n",
      "Epoch 27/40\n",
      "3224/3224 [==============================] - 0s 39us/step - loss: 0.1798 - acc: 0.9442 - val_loss: 0.1827 - val_acc: 0.9419\n",
      "Epoch 28/40\n",
      "3224/3224 [==============================] - 0s 40us/step - loss: 0.1776 - acc: 0.9445 - val_loss: 0.1816 - val_acc: 0.9397\n",
      "Epoch 29/40\n",
      "3224/3224 [==============================] - 0s 39us/step - loss: 0.1755 - acc: 0.9454 - val_loss: 0.1807 - val_acc: 0.9412\n",
      "Epoch 30/40\n",
      "3224/3224 [==============================] - 0s 41us/step - loss: 0.1735 - acc: 0.9460 - val_loss: 0.1796 - val_acc: 0.9419\n",
      "Epoch 31/40\n",
      "3224/3224 [==============================] - 0s 40us/step - loss: 0.1718 - acc: 0.9463 - val_loss: 0.1787 - val_acc: 0.9419\n",
      "Epoch 32/40\n",
      "3224/3224 [==============================] - 0s 39us/step - loss: 0.1701 - acc: 0.9479 - val_loss: 0.1779 - val_acc: 0.9426\n",
      "Epoch 33/40\n",
      "3224/3224 [==============================] - 0s 38us/step - loss: 0.1684 - acc: 0.9479 - val_loss: 0.1768 - val_acc: 0.9426\n",
      "Epoch 34/40\n",
      "3224/3224 [==============================] - ETA: 0s - loss: 0.1603 - acc: 0.953 - 0s 37us/step - loss: 0.1665 - acc: 0.9491 - val_loss: 0.1754 - val_acc: 0.9426\n",
      "Epoch 35/40\n",
      "3224/3224 [==============================] - 0s 39us/step - loss: 0.1647 - acc: 0.9485 - val_loss: 0.1747 - val_acc: 0.9434\n",
      "Epoch 36/40\n",
      "3224/3224 [==============================] - 0s 39us/step - loss: 0.1630 - acc: 0.9485 - val_loss: 0.1737 - val_acc: 0.9419\n",
      "Epoch 37/40\n",
      "3224/3224 [==============================] - 0s 38us/step - loss: 0.1614 - acc: 0.9501 - val_loss: 0.1732 - val_acc: 0.9426\n",
      "Epoch 38/40\n",
      "3224/3224 [==============================] - 0s 38us/step - loss: 0.1603 - acc: 0.9501 - val_loss: 0.1730 - val_acc: 0.9405\n",
      "Epoch 39/40\n",
      "3224/3224 [==============================] - 0s 38us/step - loss: 0.1589 - acc: 0.9507 - val_loss: 0.1721 - val_acc: 0.9434\n",
      "Epoch 40/40\n",
      "3224/3224 [==============================] - 0s 38us/step - loss: 0.1576 - acc: 0.9516 - val_loss: 0.1718 - val_acc: 0.9434\n"
=======
      "3224/3224 [==============================] - 1s 177us/step - loss: 0.6893 - acc: 0.6334 - val_loss: 0.6779 - val_acc: 0.8170\n",
      "Epoch 2/40\n",
      "3224/3224 [==============================] - 0s 28us/step - loss: 0.6709 - acc: 0.7829 - val_loss: 0.6589 - val_acc: 0.8017\n",
      "Epoch 3/40\n",
      "3224/3224 [==============================] - 0s 31us/step - loss: 0.6520 - acc: 0.7832 - val_loss: 0.6380 - val_acc: 0.8206\n",
      "Epoch 4/40\n",
      "3224/3224 [==============================] - 0s 32us/step - loss: 0.6312 - acc: 0.8151 - val_loss: 0.6150 - val_acc: 0.8453\n",
      "Epoch 5/40\n",
      "3224/3224 [==============================] - 0s 29us/step - loss: 0.6092 - acc: 0.8396 - val_loss: 0.5914 - val_acc: 0.8758\n",
      "Epoch 6/40\n",
      "3224/3224 [==============================] - 0s 34us/step - loss: 0.5866 - acc: 0.8583 - val_loss: 0.5677 - val_acc: 0.8911\n",
      "Epoch 7/40\n",
      "3224/3224 [==============================] - 0s 30us/step - loss: 0.5640 - acc: 0.8775 - val_loss: 0.5443 - val_acc: 0.8991\n",
      "Epoch 8/40\n",
      "3224/3224 [==============================] - 0s 27us/step - loss: 0.5418 - acc: 0.8828 - val_loss: 0.5213 - val_acc: 0.9049\n",
      "Epoch 9/40\n",
      "3224/3224 [==============================] - 0s 30us/step - loss: 0.5202 - acc: 0.8955 - val_loss: 0.4998 - val_acc: 0.9092\n",
      "Epoch 10/40\n",
      "3224/3224 [==============================] - 0s 36us/step - loss: 0.5001 - acc: 0.9014 - val_loss: 0.4798 - val_acc: 0.9092\n",
      "Epoch 11/40\n",
      "3224/3224 [==============================] - 0s 30us/step - loss: 0.4812 - acc: 0.9060 - val_loss: 0.4611 - val_acc: 0.9150\n",
      "Epoch 12/40\n",
      "3224/3224 [==============================] - 0s 53us/step - loss: 0.4635 - acc: 0.9116 - val_loss: 0.4436 - val_acc: 0.9179\n",
      "Epoch 13/40\n",
      "3224/3224 [==============================] - 0s 42us/step - loss: 0.4468 - acc: 0.9141 - val_loss: 0.4272 - val_acc: 0.9223\n",
      "Epoch 14/40\n",
      "3224/3224 [==============================] - 0s 34us/step - loss: 0.4313 - acc: 0.9169 - val_loss: 0.4118 - val_acc: 0.9281\n",
      "Epoch 15/40\n",
      "3224/3224 [==============================] - 0s 36us/step - loss: 0.4166 - acc: 0.9184 - val_loss: 0.3974 - val_acc: 0.9281\n",
      "Epoch 16/40\n",
      "3224/3224 [==============================] - 0s 42us/step - loss: 0.4031 - acc: 0.9212 - val_loss: 0.3841 - val_acc: 0.9303\n",
      "Epoch 17/40\n",
      "3224/3224 [==============================] - 0s 51us/step - loss: 0.3905 - acc: 0.9237 - val_loss: 0.3720 - val_acc: 0.9296\n",
      "Epoch 18/40\n",
      "3224/3224 [==============================] - 0s 40us/step - loss: 0.3789 - acc: 0.9262 - val_loss: 0.3608 - val_acc: 0.9288\n",
      "Epoch 19/40\n",
      "3224/3224 [==============================] - 0s 35us/step - loss: 0.3683 - acc: 0.9268 - val_loss: 0.3503 - val_acc: 0.9303\n",
      "Epoch 20/40\n",
      "3224/3224 [==============================] - 0s 35us/step - loss: 0.3584 - acc: 0.9287 - val_loss: 0.3409 - val_acc: 0.9332\n",
      "Epoch 21/40\n",
      "3224/3224 [==============================] - 0s 53us/step - loss: 0.3494 - acc: 0.9299 - val_loss: 0.3324 - val_acc: 0.9332\n",
      "Epoch 22/40\n",
      "3224/3224 [==============================] - 0s 36us/step - loss: 0.3412 - acc: 0.9308 - val_loss: 0.3245 - val_acc: 0.9339\n",
      "Epoch 23/40\n",
      "3224/3224 [==============================] - 0s 33us/step - loss: 0.3337 - acc: 0.9311 - val_loss: 0.3171 - val_acc: 0.9332\n",
      "Epoch 24/40\n",
      "3224/3224 [==============================] - 0s 38us/step - loss: 0.3266 - acc: 0.9308 - val_loss: 0.3104 - val_acc: 0.9332\n",
      "Epoch 25/40\n",
      "3224/3224 [==============================] - 0s 43us/step - loss: 0.3201 - acc: 0.9308 - val_loss: 0.3040 - val_acc: 0.9317\n",
      "Epoch 26/40\n",
      "3224/3224 [==============================] - 0s 46us/step - loss: 0.3140 - acc: 0.9315 - val_loss: 0.2981 - val_acc: 0.9332\n",
      "Epoch 27/40\n",
      "3224/3224 [==============================] - 0s 52us/step - loss: 0.3083 - acc: 0.9318 - val_loss: 0.2927 - val_acc: 0.9339\n",
      "Epoch 28/40\n",
      "3224/3224 [==============================] - 0s 54us/step - loss: 0.3030 - acc: 0.9318 - val_loss: 0.2876 - val_acc: 0.9339\n",
      "Epoch 29/40\n",
      "3224/3224 [==============================] - 0s 60us/step - loss: 0.2980 - acc: 0.9321 - val_loss: 0.2830 - val_acc: 0.9332\n",
      "Epoch 30/40\n",
      "3224/3224 [==============================] - 0s 30us/step - loss: 0.2933 - acc: 0.9327 - val_loss: 0.2783 - val_acc: 0.9346\n",
      "Epoch 31/40\n",
      "3224/3224 [==============================] - 0s 58us/step - loss: 0.2888 - acc: 0.9327 - val_loss: 0.2741 - val_acc: 0.9339\n",
      "Epoch 32/40\n",
      "3224/3224 [==============================] - 0s 38us/step - loss: 0.2846 - acc: 0.9330 - val_loss: 0.2702 - val_acc: 0.9354\n",
      "Epoch 33/40\n",
      "3224/3224 [==============================] - 0s 44us/step - loss: 0.2807 - acc: 0.9339 - val_loss: 0.2665 - val_acc: 0.9368\n",
      "Epoch 34/40\n",
      "3224/3224 [==============================] - 0s 47us/step - loss: 0.2769 - acc: 0.9336 - val_loss: 0.2632 - val_acc: 0.9361\n",
      "Epoch 35/40\n",
      "3224/3224 [==============================] - 0s 39us/step - loss: 0.2733 - acc: 0.9336 - val_loss: 0.2598 - val_acc: 0.9368\n",
      "Epoch 36/40\n",
      "3224/3224 [==============================] - 0s 63us/step - loss: 0.2699 - acc: 0.9333 - val_loss: 0.2567 - val_acc: 0.9368\n",
      "Epoch 37/40\n",
      "3224/3224 [==============================] - 0s 35us/step - loss: 0.2665 - acc: 0.9336 - val_loss: 0.2538 - val_acc: 0.9368\n",
      "Epoch 38/40\n",
      "3224/3224 [==============================] - 0s 26us/step - loss: 0.2634 - acc: 0.9336 - val_loss: 0.2509 - val_acc: 0.9361\n",
      "Epoch 39/40\n",
      "3224/3224 [==============================] - 0s 35us/step - loss: 0.2604 - acc: 0.9336 - val_loss: 0.2483 - val_acc: 0.9354\n",
      "Epoch 40/40\n",
      "3224/3224 [==============================] - 0s 34us/step - loss: 0.2575 - acc: 0.9333 - val_loss: 0.2457 - val_acc: 0.9346\n"
>>>>>>> d80838094d4dfebad2fa4446ccf128f087a58615
     ]
    }
   ],
   "source": [
    "history = model.fit(train_data,\n",
    "                    train_label,\n",
    "                    epochs=40,\n",
    "                    batch_size=100,\n",
    "                    validation_data=(test_data, test_label),\n",
    "                    verbose=1)"
   ]
  },
  {
   "cell_type": "code",
<<<<<<< HEAD
   "execution_count": 8,
=======
   "execution_count": 21,
>>>>>>> d80838094d4dfebad2fa4446ccf128f087a58615
   "metadata": {},
   "outputs": [],
   "source": [
    "history_dict = history.history\n",
    "history_dict.keys()\n",
    "dict_keys=['loss', 'val_loss', 'val_acc', 'acc']"
   ]
  },
  {
   "cell_type": "code",
<<<<<<< HEAD
   "execution_count": 9,
=======
   "execution_count": 22,
>>>>>>> d80838094d4dfebad2fa4446ccf128f087a58615
   "metadata": {},
   "outputs": [
    {
     "data": {
<<<<<<< HEAD
      "image/png": "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\n",
=======
      "image/png": "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\n",
>>>>>>> d80838094d4dfebad2fa4446ccf128f087a58615
      "text/plain": [
       "<Figure size 432x288 with 1 Axes>"
      ]
     },
     "metadata": {
      "needs_background": "light"
     },
     "output_type": "display_data"
    }
   ],
   "source": [
    "import matplotlib.pyplot as plt\n",
    "%matplotlib inline\n",
    "acc = history.history['acc']\n",
    "val_acc = history.history['val_acc']\n",
    "loss = history.history['loss']\n",
    "val_loss = history.history['val_loss']\n",
    "\n",
    "epochs = range(1, len(acc) + 1)\n",
    "\n",
    "# \"bo\" is for \"blue dot\"\n",
    "plt.plot(epochs, loss, 'bo', label='Training loss')\n",
    "# b is for \"solid blue line\"\n",
    "plt.plot(epochs, val_loss, 'b', label='Validation loss')\n",
    "plt.title('Training and validation loss')\n",
    "plt.xlabel('Epochs')\n",
    "plt.ylabel('Loss')\n",
    "plt.legend()\n",
    "\n",
    "plt.show()"
   ]
  },
  {
   "cell_type": "code",
<<<<<<< HEAD
   "execution_count": 10,
=======
   "execution_count": 23,
>>>>>>> d80838094d4dfebad2fa4446ccf128f087a58615
   "metadata": {},
   "outputs": [
    {
     "data": {
<<<<<<< HEAD
      "image/png": "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\n",
=======
      "image/png": "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\n",
>>>>>>> d80838094d4dfebad2fa4446ccf128f087a58615
      "text/plain": [
       "<Figure size 432x288 with 1 Axes>"
      ]
     },
     "metadata": {
      "needs_background": "light"
     },
     "output_type": "display_data"
    }
   ],
   "source": [
    "acc_values = history_dict['acc']\n",
    "val_acc_values = history_dict['val_acc']\n",
    "\n",
    "plt.plot(epochs, acc, 'bo', label='Training acc')\n",
    "plt.plot(epochs, val_acc, 'b', label='Validation acc')\n",
    "plt.title('Training and validation accuracy')\n",
    "plt.xlabel('Epochs')\n",
    "plt.ylabel('Accuracy')\n",
    "plt.legend()\n",
    "\n",
    "plt.show()"
   ]
  },
  {
   "cell_type": "code",
   "execution_count": 13,
   "metadata": {},
   "outputs": [],
   "source": [
    "predictions = model.predict(train_data)"
   ]
  },
  {
   "cell_type": "code",
   "execution_count": 26,
   "metadata": {},
   "outputs": [],
   "source": [
    "def load_prediction_data(file_path):\n",
    "    data=[]\n",
    "    with open(file_path,\"r\") as data_file:\n",
    "        raw_data=data_file.readlines()\n",
    "        for raw_line in raw_data:\n",
    "            sample=raw_line[:-1]\n",
    "            sample=sample.split(\",\")\n",
    "            sample=np.array([float(feature) for feature in sample])\n",
    "            sample[-3]/=10\n",
    "            sample[-2]/=100\n",
    "            sample[-1]/=1000\n",
    "            data.append(sample)\n",
    "    return np.array(data)\n",
    "prediction_data=load_prediction_data(\".\\get_the_flag.data\")"
   ]
  },
  {
   "cell_type": "code",
   "execution_count": 27,
   "metadata": {},
   "outputs": [],
   "source": [
    "predictions = model.predict(prediction_data)"
   ]
  },
  {
   "cell_type": "code",
   "execution_count": 32,
   "metadata": {},
   "outputs": [
    {
     "data": {
      "image/png": "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\n",
      "text/plain": [
       "<Figure size 3600x72 with 1 Axes>"
      ]
     },
     "metadata": {
      "needs_background": "light"
     },
     "output_type": "display_data"
    }
   ],
   "source": [
    "data_show=[]\n",
    "for i in predictions:\n",
    "    if i[0]<0.5:\n",
    "        data_show.append(0)\n",
    "    else:\n",
    "        data_show.append(1)\n",
    "plt.rcParams['figure.figsize'] = (50.0, 1.0) \n",
    "plt.scatter(range(len(data_show)),data_show,linewidth=0.1,s=10)\n",
    "plt.show()"
   ]
  },
  {
   "cell_type": "code",
   "execution_count": null,
   "metadata": {},
   "outputs": [],
   "source": []
  }
 ],
 "metadata": {
  "kernelspec": {
   "display_name": "Python 3",
   "language": "python",
   "name": "python3"
  },
  "language_info": {
   "codemirror_mode": {
    "name": "ipython",
    "version": 3
   },
   "file_extension": ".py",
   "mimetype": "text/x-python",
   "name": "python",
   "nbconvert_exporter": "python",
   "pygments_lexer": "ipython3",
   "version": "3.6.6"
  }
 },
 "nbformat": 4,
 "nbformat_minor": 2
}
